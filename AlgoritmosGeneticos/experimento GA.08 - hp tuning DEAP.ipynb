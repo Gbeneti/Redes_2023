{
 "cells": [
  {
   "cell_type": "markdown",
   "metadata": {},
   "source": [
    "## Otimização de hiperparâmetros\n",
    "\n"
   ]
  },
  {
   "cell_type": "markdown",
   "metadata": {},
   "source": [
    "## Introdução\n",
    "\n"
   ]
  },
  {
   "cell_type": "markdown",
   "metadata": {},
   "source": [
    "Escolheu-se \"árvores aleatórias\" como algoritmo para otimizar três hiperparâmetros utilizando-se de redes neurais para achar o melhor conjunto de hiperparâmetros.\n"
   ]
  },
  {
   "cell_type": "markdown",
   "metadata": {},
   "source": [
    "## Objetivo\n",
    "\n"
   ]
  },
  {
   "cell_type": "markdown",
   "metadata": {},
   "source": [
    "**Objetivo**: use algoritmos genéticos para encontrar um bom conjunto de hiperparâmetros em um experimento de aprendizado de máquina. Escolha um algoritmo que tenha pelo menos 3 hiperparâmetros para serem otimizados.\n",
    "\n"
   ]
  },
  {
   "cell_type": "markdown",
   "metadata": {},
   "source": [
    "## Importações\n",
    "\n"
   ]
  },
  {
   "cell_type": "markdown",
   "metadata": {},
   "source": [
    "Todos os comandos de `import` devem estar dentro desta seção.\n",
    "\n"
   ]
  },
  {
   "cell_type": "code",
   "execution_count": 13,
   "metadata": {
    "tags": []
   },
   "outputs": [],
   "source": [
    "import random\n",
    "import time\n",
    "import seaborn as sns\n",
    "from sklearn.model_selection import train_test_split\n",
    "from sklearn.tree import DecisionTreeRegressor\n",
    "from sklearn.metrics import mean_squared_error\n",
    "from operator import itemgetter\n",
    "from funcoes import populacao_inicial_hiperparametros as cria_populacao_inicial\n",
    "from funcoes import funcao_objetivo_pop_hiperparametros\n",
    "from funcoes import funcao_objetivo_hiperparametros\n",
    "from funcoes import funcao_objetivo_standard\n",
    "from funcoes import selecao_torneio_min_hiperparametros as funcao_selecao\n",
    "from funcoes import reproducao_shuffle_ordenado_hiperparametros as funcao_cruzamento\n",
    "from funcoes import mutacao_hiperparametros\n",
    "from funcoes import mutacao_tendencia_as_cegas\n",
    "from funcoes import hiperparametros_modelo\n",
    "from deap import base\n",
    "from deap import creator\n",
    "from deap import tools"
   ]
  },
  {
   "cell_type": "markdown",
   "metadata": {},
   "source": [
    "## Códigos e discussão\n",
    "\n"
   ]
  },
  {
   "cell_type": "code",
   "execution_count": null,
   "metadata": {},
   "outputs": [],
   "source": [
    "#########################################################\n",
    "#CÓDIGO INCOMPLETO\n",
    "#O ALGORITMO ORIGINAL AINDA NÃO PÔDE SER ADAPTADO AO MÓDULO DEAP."
   ]
  },
  {
   "cell_type": "code",
   "execution_count": null,
   "metadata": {},
   "outputs": [],
   "source": []
  },
  {
   "cell_type": "markdown",
   "metadata": {
    "tags": []
   },
   "source": [
    "O notebook GA.08 é um dos experimentos da \"Lista de experimentos - hp tuning\" e aborda o problema de otimização de hiperparâmetros. Desse modo, foi definido um conjunto de hiperparâmetros aos quais quer se investigar possibilidades de um MSE razoável por meio de algoritmos genéticos. Existem funções particularmente interessantes, como é o caso da \"funcao_objetivo_hiperparametros\", que utiliza do MSE como parâmetro base para determinar o fitness de cada indivíduo da população, naturalmente aplicando uma \"punição\" àqueles que não cumprem a condição de ser menor que o \"MSE_standard_calculated\". Outra interessante é a \"mutacao_tendencia_as_cegas\", que muta um individuo em um gene aleatório, baseado em um gene (aleatório) de um dos três melhores indivíduos. Ainda, é interessante citar a \"reproducao_suffle_ordenado\", que cria um indivíduo a partir de outros três - \"pai\", \"mae\" e \"pae\", em que cada um deles fornece um gene aleatório para gerar outros três indivíduos, respeitando a ordem estabelecida. Em última instância, é possível explicitar a \"mutacao_hiperparametros\", que seleciona um gene aleatório do dicionário que contém os valores dos hiperparâmetros e substitui um gene do indivíduo. Sabe-se que \"MSE_standard\"/\"MSE_standard_calculated\" é o valor obtido por meio da modificação mínima (apenas da random_seed) dos hiperparâmetros padrões do scikit-learn. Nota-se que foi utilizado o dataframe \"diamonds\" (que é completo, bem comportado e ideal) do seaborn pois o foco deste notebook é a estruturação do código de algoritmos genéticos. Entretanto, é possível que, com algumas modificações e otimizações, o código possa ser utilizado para dataframes menos ideais."
   ]
  },
  {
   "cell_type": "code",
   "execution_count": 2,
   "metadata": {
    "tags": []
   },
   "outputs": [],
   "source": [
    "### CONSTANTES\n",
    "\n",
    "# relacionadas à busca\n",
    "TAMANHO_POP = 9\n",
    "CHANCE_CRUZAMENTO = 0.5\n",
    "CHANCE_MUTACAO = 0.05\n",
    "CHANCE_MUTACAO_2 = 0.05\n",
    "NUM_COMBATENTES_NO_TORNEIO = 3\n",
    "NUM_GERACOES = 5\n",
    "NUM_GENES = 5\n",
    "TAMANHO_HALL_DA_FAMA = 3\n",
    "CORTE = 3\n",
    "\n",
    "# relacionadas ao problema a ser resolvido - dataset\n",
    "TAMANHO_TESTE = 0.25\n",
    "SEMENTE_ALEATORIA = 1024\n",
    "DATASET_NAME = \"diamonds\"\n",
    "FEATURES = [\"carat\", \"depth\", \"table\", \"x\", \"y\", \"z\"]\n",
    "TARGET = [\"price\"]\n",
    "HIPER_RANGE_1=20\n",
    "HIPER_RANGE_2=10"
   ]
  },
  {
   "cell_type": "code",
   "execution_count": 3,
   "metadata": {
    "tags": []
   },
   "outputs": [],
   "source": [
    "#define o dataset e os datasets de treino e teste\n",
    "#função global pois é o modelo que será usado para esta situação. Isso evita que o mesmo código rode várias vezes.\n",
    "df = sns.load_dataset(DATASET_NAME) #importar dataset\n",
    "\n",
    "indices = df.index\n",
    "indices_treino, indices_teste = train_test_split(\n",
    "indices, test_size=TAMANHO_TESTE, random_state=SEMENTE_ALEATORIA) #separar os indices entre dataset de treino e teste\n",
    "\n",
    "df_treino = df.loc[indices_treino] #separa o dataset entre treino e teste\n",
    "df_teste = df.loc[indices_teste]\n",
    "\n",
    "# observe que usamos o .values aqui pois queremos apenas os valores\n",
    "X_treino = df_treino.reindex(FEATURES, axis=1).values\n",
    "y_treino = df_treino.reindex(TARGET, axis=1).values\n",
    "X_teste = df_teste.reindex(FEATURES, axis=1).values\n",
    "y_teste = df_teste.reindex(TARGET, axis=1).values\n",
    "    \n"
   ]
  },
  {
   "cell_type": "code",
   "execution_count": 4,
   "metadata": {},
   "outputs": [],
   "source": [
    "# funções locais\n",
    "def funcao_objetivo_pop(X_treino,X_teste,y_treino,y_teste,SEMENTE_ALEATORIA,populacao,MSE_standard):\n",
    "    return funcao_objetivo_pop_hiperparametros(X_treino,X_teste,y_treino,y_teste,SEMENTE_ALEATORIA,populacao,MSE_standard_calculated)\n",
    "\n",
    "def funcao_mutacao(individuo,hiper_range_1,hiper_range_2):\n",
    "    return mutacao_hiperparametros(individuo,hiper_range_1,hiper_range_2)\n",
    "\n",
    "def funcao_mutacao_2(individuo, populacao, corte=3):\n",
    "    return mutacao_tendencia_as_cegas(individuo, populacao, corte=3)"
   ]
  },
  {
   "cell_type": "code",
   "execution_count": 14,
   "metadata": {},
   "outputs": [
    {
     "name": "stderr",
     "output_type": "stream",
     "text": [
      "c:\\venv\\ilumpy\\lib\\site-packages\\deap\\creator.py:138: RuntimeWarning: A class named 'Fitness_max' has already been created and it will be overwritten. Consider deleting previous creation of that class or rename it.\n",
      "  warnings.warn(\"A class named '{0}' has already been created and it \"\n",
      "c:\\venv\\ilumpy\\lib\\site-packages\\deap\\creator.py:138: RuntimeWarning: A class named 'Individuo' has already been created and it will be overwritten. Consider deleting previous creation of that class or rename it.\n",
      "  warnings.warn(\"A class named '{0}' has already been created and it \"\n"
     ]
    },
    {
     "ename": "TypeError",
     "evalue": "'functools.partial' object is not iterable",
     "output_type": "error",
     "traceback": [
      "\u001b[1;31m---------------------------------------------------------------------------\u001b[0m",
      "\u001b[1;31mTypeError\u001b[0m                                 Traceback (most recent call last)",
      "\u001b[1;32mC:\\Users\\GUSTAV~2\\AppData\\Local\\Temp/ipykernel_14004/4032707997.py\u001b[0m in \u001b[0;36m<module>\u001b[1;34m\u001b[0m\n\u001b[0;32m     13\u001b[0m )\n\u001b[0;32m     14\u001b[0m \u001b[1;33m\u001b[0m\u001b[0m\n\u001b[1;32m---> 15\u001b[1;33m \u001b[0mtoolbox\u001b[0m\u001b[1;33m.\u001b[0m\u001b[0mregister\u001b[0m\u001b[1;33m(\u001b[0m\u001b[1;34m\"evaluate\"\u001b[0m\u001b[1;33m,\u001b[0m \u001b[0mfuncao_objetivo_pop\u001b[0m\u001b[1;33m(\u001b[0m\u001b[0mX_treino\u001b[0m\u001b[1;33m,\u001b[0m\u001b[0mX_teste\u001b[0m\u001b[1;33m,\u001b[0m\u001b[0my_treino\u001b[0m\u001b[1;33m,\u001b[0m\u001b[0my_teste\u001b[0m\u001b[1;33m,\u001b[0m\u001b[0mSEMENTE_ALEATORIA\u001b[0m\u001b[1;33m,\u001b[0m\u001b[0mtoolbox\u001b[0m\u001b[1;33m.\u001b[0m\u001b[0mpopulacao\u001b[0m\u001b[1;33m,\u001b[0m\u001b[0mMSE_standard_calculated\u001b[0m\u001b[1;33m)\u001b[0m\u001b[1;33m)\u001b[0m\u001b[1;33m\u001b[0m\u001b[1;33m\u001b[0m\u001b[0m\n\u001b[0m\u001b[0;32m     16\u001b[0m \u001b[1;33m\u001b[0m\u001b[0m\n\u001b[0;32m     17\u001b[0m toolbox.register(\n",
      "\u001b[1;32mC:\\Users\\GUSTAV~2\\AppData\\Local\\Temp/ipykernel_14004/1723247034.py\u001b[0m in \u001b[0;36mfuncao_objetivo_pop\u001b[1;34m(X_treino, X_teste, y_treino, y_teste, SEMENTE_ALEATORIA, populacao, MSE_standard)\u001b[0m\n\u001b[0;32m      1\u001b[0m \u001b[1;31m# funções locais\u001b[0m\u001b[1;33m\u001b[0m\u001b[1;33m\u001b[0m\u001b[0m\n\u001b[0;32m      2\u001b[0m \u001b[1;32mdef\u001b[0m \u001b[0mfuncao_objetivo_pop\u001b[0m\u001b[1;33m(\u001b[0m\u001b[0mX_treino\u001b[0m\u001b[1;33m,\u001b[0m\u001b[0mX_teste\u001b[0m\u001b[1;33m,\u001b[0m\u001b[0my_treino\u001b[0m\u001b[1;33m,\u001b[0m\u001b[0my_teste\u001b[0m\u001b[1;33m,\u001b[0m\u001b[0mSEMENTE_ALEATORIA\u001b[0m\u001b[1;33m,\u001b[0m\u001b[0mpopulacao\u001b[0m\u001b[1;33m,\u001b[0m\u001b[0mMSE_standard\u001b[0m\u001b[1;33m)\u001b[0m\u001b[1;33m:\u001b[0m\u001b[1;33m\u001b[0m\u001b[1;33m\u001b[0m\u001b[0m\n\u001b[1;32m----> 3\u001b[1;33m     \u001b[1;32mreturn\u001b[0m \u001b[0mfuncao_objetivo_pop_hiperparametros\u001b[0m\u001b[1;33m(\u001b[0m\u001b[0mX_treino\u001b[0m\u001b[1;33m,\u001b[0m\u001b[0mX_teste\u001b[0m\u001b[1;33m,\u001b[0m\u001b[0my_treino\u001b[0m\u001b[1;33m,\u001b[0m\u001b[0my_teste\u001b[0m\u001b[1;33m,\u001b[0m\u001b[0mSEMENTE_ALEATORIA\u001b[0m\u001b[1;33m,\u001b[0m\u001b[0mpopulacao\u001b[0m\u001b[1;33m,\u001b[0m\u001b[0mMSE_standard_calculated\u001b[0m\u001b[1;33m)\u001b[0m\u001b[1;33m\u001b[0m\u001b[1;33m\u001b[0m\u001b[0m\n\u001b[0m\u001b[0;32m      4\u001b[0m \u001b[1;33m\u001b[0m\u001b[0m\n\u001b[0;32m      5\u001b[0m \u001b[1;32mdef\u001b[0m \u001b[0mfuncao_mutacao\u001b[0m\u001b[1;33m(\u001b[0m\u001b[0mindividuo\u001b[0m\u001b[1;33m,\u001b[0m\u001b[0mhiper_range_1\u001b[0m\u001b[1;33m,\u001b[0m\u001b[0mhiper_range_2\u001b[0m\u001b[1;33m)\u001b[0m\u001b[1;33m:\u001b[0m\u001b[1;33m\u001b[0m\u001b[1;33m\u001b[0m\u001b[0m\n",
      "\u001b[1;32mC:\\JupyterLab\\Redes_2023\\AlgoritmosGeneticos\\funcoes.py\u001b[0m in \u001b[0;36mfuncao_objetivo_pop_hiperparametros\u001b[1;34m(X_treino, X_teste, y_treino, y_teste, semente_aleatoria, populacao, MSE_standard)\u001b[0m\n\u001b[0;32m   1117\u001b[0m \u001b[1;33m\u001b[0m\u001b[0m\n\u001b[0;32m   1118\u001b[0m     \u001b[0mfitness_pop\u001b[0m \u001b[1;33m=\u001b[0m \u001b[1;33m[\u001b[0m\u001b[1;33m]\u001b[0m\u001b[1;33m\u001b[0m\u001b[1;33m\u001b[0m\u001b[0m\n\u001b[1;32m-> 1119\u001b[1;33m     \u001b[1;32mfor\u001b[0m \u001b[0mindividuo\u001b[0m \u001b[1;32min\u001b[0m \u001b[0mpopulacao\u001b[0m\u001b[1;33m:\u001b[0m\u001b[1;33m\u001b[0m\u001b[1;33m\u001b[0m\u001b[0m\n\u001b[0m\u001b[0;32m   1120\u001b[0m         \u001b[0mpopulacao_MSE_fit\u001b[0m \u001b[1;33m=\u001b[0m \u001b[0mfuncao_objetivo_hiperparametros\u001b[0m\u001b[1;33m(\u001b[0m\u001b[0mX_treino\u001b[0m\u001b[1;33m,\u001b[0m\u001b[0mX_teste\u001b[0m\u001b[1;33m,\u001b[0m\u001b[0my_treino\u001b[0m\u001b[1;33m,\u001b[0m\u001b[0my_teste\u001b[0m\u001b[1;33m,\u001b[0m\u001b[0msemente_aleatoria\u001b[0m\u001b[1;33m,\u001b[0m\u001b[0mindividuo\u001b[0m\u001b[1;33m,\u001b[0m\u001b[0mMSE_standard\u001b[0m\u001b[1;33m)\u001b[0m \u001b[1;31m#gera o fitness baseado no individuo\u001b[0m\u001b[1;33m\u001b[0m\u001b[1;33m\u001b[0m\u001b[0m\n\u001b[0;32m   1121\u001b[0m         \u001b[0mfitness_pop\u001b[0m\u001b[1;33m.\u001b[0m\u001b[0mappend\u001b[0m\u001b[1;33m(\u001b[0m\u001b[0mpopulacao_MSE_fit\u001b[0m\u001b[1;33m)\u001b[0m \u001b[1;31m#armazena o fitness\u001b[0m\u001b[1;33m\u001b[0m\u001b[1;33m\u001b[0m\u001b[0m\n",
      "\u001b[1;31mTypeError\u001b[0m: 'functools.partial' object is not iterable"
     ]
    }
   ],
   "source": [
    "MSE_standard_calculated = funcao_objetivo_standard(X_treino,X_teste,y_treino,y_teste,SEMENTE_ALEATORIA)\n",
    "creator.create(\"Fitness_max\", base.Fitness, weights=(1.0,))\n",
    "creator.create(\"Individuo\", list, fitness=creator.Fitness_max)\n",
    "\n",
    "toolbox = base.Toolbox()\n",
    "\n",
    "#toolbox.register(\n",
    "#    \"individuo\", tools.initRepeat, creator.Individuo, gene_cb, NUM_CAIXAS\n",
    "#)\n",
    "\n",
    "toolbox.register(\n",
    "    \"populacao\", list, cria_populacao_inicial(TAMANHO_POP,HIPER_RANGE_1,HIPER_RANGE_2)\n",
    ")\n",
    "\n",
    "toolbox.register(\"evaluate\", funcao_objetivo_pop(X_treino,X_teste,y_treino,y_teste,SEMENTE_ALEATORIA,toolbox.populacao,MSE_standard_calculated))\n",
    "\n",
    "toolbox.register(\n",
    "    \"select\", funcao_selecao(populacao, fitness), tournsize=NUM_COMBATENTES_NO_TORNEIO\n",
    ")\n",
    "\n",
    "toolbox.register(\"mate\", funcao_cruzamento((pai, mae, pae)))\n",
    "\n",
    "toolbox.register(\"mutate\",mutacao_tendencia_as_cegas(individuo,populacao,CORTE), indpb=CHANCE_MUTACAO)\n",
    "toolbox.register(\"mutate\",mutacao_hiperparametros(individuo,HIPER_RANGE_1,HIPER_RANGE_2), indpb=CHANCE_MUTACAO_2)\n",
    "\n",
    "hall_da_fama = tools.HallOfFame(TAMANHO_HALL_DA_FAMA)\n",
    "\n",
    "#estatisticas = tools.Statistics(lambda ind: ind.fitness.values)\n",
    "#estatisticas.register(\"avg\", np.mean)\n",
    "#estatisticas.register(\"std\", np.std)\n",
    "#estatisticas.register(\"min\", np.min)\n",
    "#estatisticas.register(\"max\", np.max)\n",
    "\n",
    "#log = tools.Logbook()"
   ]
  },
  {
   "cell_type": "code",
   "execution_count": 6,
   "metadata": {},
   "outputs": [
    {
     "ename": "TypeError",
     "evalue": "initRepeat() got an unexpected keyword argument 'tamanho'",
     "output_type": "error",
     "traceback": [
      "\u001b[1;31m---------------------------------------------------------------------------\u001b[0m",
      "\u001b[1;31mTypeError\u001b[0m                                 Traceback (most recent call last)",
      "\u001b[1;32mC:\\Users\\GUSTAV~2\\AppData\\Local\\Temp/ipykernel_14004/1991365042.py\u001b[0m in \u001b[0;36m<module>\u001b[1;34m\u001b[0m\n\u001b[1;32m----> 1\u001b[1;33m \u001b[0mpopulacao\u001b[0m \u001b[1;33m=\u001b[0m \u001b[0mtoolbox\u001b[0m\u001b[1;33m.\u001b[0m\u001b[0mpopulacao\u001b[0m\u001b[1;33m(\u001b[0m\u001b[1;33m)\u001b[0m\u001b[1;33m\u001b[0m\u001b[1;33m\u001b[0m\u001b[0m\n\u001b[0m\u001b[0;32m      2\u001b[0m \u001b[1;33m\u001b[0m\u001b[0m\n\u001b[0;32m      3\u001b[0m \u001b[1;31m# É assim que calculamos a fitness dos individuos com DEAP\u001b[0m\u001b[1;33m\u001b[0m\u001b[1;33m\u001b[0m\u001b[0m\n\u001b[0;32m      4\u001b[0m \u001b[0mfitness\u001b[0m \u001b[1;33m=\u001b[0m \u001b[0mtoolbox\u001b[0m\u001b[1;33m.\u001b[0m\u001b[0mmap\u001b[0m\u001b[1;33m(\u001b[0m\u001b[0mtoolbox\u001b[0m\u001b[1;33m.\u001b[0m\u001b[0mevaluate\u001b[0m\u001b[1;33m,\u001b[0m \u001b[0mpopulacao\u001b[0m\u001b[1;33m)\u001b[0m\u001b[1;33m\u001b[0m\u001b[1;33m\u001b[0m\u001b[0m\n\u001b[0;32m      5\u001b[0m \u001b[1;33m\u001b[0m\u001b[0m\n",
      "\u001b[1;31mTypeError\u001b[0m: initRepeat() got an unexpected keyword argument 'tamanho'"
     ]
    }
   ],
   "source": [
    "populacao = toolbox.populacao()\n",
    "\n",
    "# É assim que calculamos a fitness dos individuos com DEAP\n",
    "fitness = toolbox.map(toolbox.evaluate, populacao)\n",
    "\n",
    "# Precisamos agora inserir essa informação nos nossos individuos\n",
    "for ind, fit in zip(populacao, fitness):\n",
    "    ind.fitness.values = fit\n",
    "\n",
    "# Critério de parada neste caso é o número de gerações\n",
    "for n in range(NUM_GERACOES):\n",
    "\n",
    "    # Seleção\n",
    "    proxima_geracao = toolbox.select(populacao, len(populacao))\n",
    "\n",
    "    # Clone dos individuos (para evitar problemas com a forma que o python trabalha com listas)\n",
    "    proxima_geracao = [toolbox.clone(ind) for ind in proxima_geracao]\n",
    "\n",
    "    # Cruzamento\n",
    "    pais = proxima_geracao[0::2]\n",
    "    maes = proxima_geracao[1::2]\n",
    "\n",
    "    for pai, mae in zip(pais, maes):\n",
    "        if random.random() < CHANCE_CRUZAMENTO:\n",
    "            toolbox.mate(pai, mae)\n",
    "\n",
    "            # se cruzou, temos que deletar o fitness para calcular de novo\n",
    "            del pai.fitness.values\n",
    "            del mae.fitness.values\n",
    "\n",
    "    # Mutação\n",
    "    for possivel_mutante in proxima_geracao:\n",
    "        if random.random() < CHANCE_MUTACAO:\n",
    "            toolbox.mutate(possivel_mutante)\n",
    "\n",
    "            # se mutou, temos que deletar o fitness para calcular de novo\n",
    "            del possivel_mutante.fitness.values\n",
    "\n",
    "    # Calcular o fitness de todos que mutaram ou cruzaram\n",
    "    ind_sem_fitness = [ind for ind in proxima_geracao if not ind.fitness.valid]\n",
    "    fitness = toolbox.map(toolbox.evaluate, ind_sem_fitness)\n",
    "    for ind, fit in zip(ind_sem_fitness, fitness):\n",
    "        ind.fitness.values = fit\n",
    "\n",
    "    # Vamos atualizar a população!\n",
    "    populacao[:] = proxima_geracao #evitar problemas com interferência. a=b altera a e b. quer-se apenas alterar a.\n",
    "\n",
    "    # Vamos atualizar o hall da fama\n",
    "    hall_da_fama.update(populacao)\n",
    "\n",
    "    # Vamos computar a estatística e atualizar o livro de registros\n",
    "    #estatistica_local = estatisticas.compile(populacao)\n",
    "    #log.record(gen=n + 1, nevals=len(ind_sem_fitness), **estatistica_local)\n",
    "    #print(log.stream)"
   ]
  },
  {
   "cell_type": "markdown",
   "metadata": {},
   "source": [
    "## Conclusão\n",
    "\n"
   ]
  },
  {
   "cell_type": "markdown",
   "metadata": {},
   "source": [
    "Este código tem o objetivo de resolver o problema de otimização de hiperparâmetros com algoritmos genéticos. O problema se baseia em encontrar um conjunto de hiperparâmetros razoáveis por meio de algoritmos genéticos, com base em um dicionário que contém os hiperparâmetros e seus valores estabelecidos. O resultado obtido foi satisfatório, pois em geral (dado o fato de que é um algoritmo probabilístico, não se pode afirmar 100% das vezes) o código entrega conjuntos de hiperparâmetros razoáveis (menores que o MSE_standard). Nota-se que foram escolhidos 3 conjuntos com o fim de explicitar que existem várias possibilidades que geram resultados próximos, não se limitando a apenas uma possibilidade. Um problema deste código é que ele demora consideravelmente para terminar de rodar. Naturalmente, uma mínima otimização foi feita, especificamente onde fosse mais óbvio, no entento isso não solucionou o problema. Nesse caso, as ações possíveis a serem tomadas para otimização é usar o módulo DEAP sem o eaSimple (o que permite maior liberadade para modificações, enquanto se pode aproveitar da otimização e rapidez do DEAP) e analisar meticulosamente as funções para evitar repetições."
   ]
  },
  {
   "cell_type": "markdown",
   "metadata": {},
   "source": [
    "## Playground\n",
    "\n"
   ]
  },
  {
   "cell_type": "code",
   "execution_count": null,
   "metadata": {},
   "outputs": [],
   "source": [
    "a = 'aaaaa'\n",
    "for i in a:\n",
    "    print(i)"
   ]
  },
  {
   "cell_type": "code",
   "execution_count": null,
   "metadata": {},
   "outputs": [],
   "source": [
    "#ideias\n",
    "#seria uma otima ideia, não implementarei pois achei, até certo grau, reduntante.\n",
    "\n",
    "#list comprehension inside a dict comprehension\n",
    "\n",
    "#{\n",
    "#c:[i for i in range(1,v)] for c,v in hiperparametros.items() #c: chave; v: valor\n",
    "#}\n",
    "\n",
    "\n",
    "#**args, *args, **kwargs\n",
    "######################################"
   ]
  },
  {
   "cell_type": "markdown",
   "metadata": {},
   "source": [
    "Todo código de teste que não faz parte do seu experimento deve vir aqui. Este código não será considerado na avaliação.\n",
    "\n"
   ]
  },
  {
   "cell_type": "code",
   "execution_count": null,
   "metadata": {
    "tags": []
   },
   "outputs": [],
   "source": [
    "funcao_objetivo_hiperparametros([9, 'poisson', 7],MSE_standard,punishment=1e6)"
   ]
  },
  {
   "cell_type": "code",
   "execution_count": null,
   "metadata": {
    "tags": []
   },
   "outputs": [],
   "source": [
    "individuo = [1,2,3]\n",
    "lst = [[1,2,3],[5,6,7]]\n",
    "\n",
    "if individuo not in lst:\n",
    "    print('goofy aah')\n",
    "else:\n",
    "    print('yee')"
   ]
  },
  {
   "cell_type": "code",
   "execution_count": null,
   "metadata": {},
   "outputs": [],
   "source": [
    "dicio = {\n",
    "    'a':10,\n",
    "    'b':11,\n",
    "    'c':14,\n",
    "}\n",
    "#dicio_2 = (a = 10, b = 11, c = 14)\n",
    "def func(a,b,c, **kwargs):\n",
    "    print(a)"
   ]
  },
  {
   "cell_type": "code",
   "execution_count": null,
   "metadata": {},
   "outputs": [],
   "source": [
    "print(tuple([[1],['a'],[2]]))"
   ]
  },
  {
   "cell_type": "code",
   "execution_count": null,
   "metadata": {},
   "outputs": [],
   "source": [
    "dicio = {\n",
    "    'a':10,\n",
    "    'b':11,\n",
    "    'c':14,\n",
    "}\n",
    "#dicio_2 = (a = 10, b = 11, c = 14)\n",
    "def func(a,b,c):\n",
    "    print(a)"
   ]
  },
  {
   "cell_type": "code",
   "execution_count": null,
   "metadata": {},
   "outputs": [],
   "source": [
    "def tendencia_as_cegas(individuo, populacao, fitness_populacao, corte=3):\n",
    "    \n",
    "    print(individuo)\n",
    "    lista_index = [i for i in range(0, (len(individuo)))]\n",
    "    \n",
    "    par_populacao_fitness = list(zip(populacao, fitness_populacao))\n",
    "    par_populacao_fitness_sorted = sorted(par_populacao_fitness, key=itemgetter(-1))\n",
    "    \n",
    "    melhores_individuos_zip = par_populacao_fitness_sorted[:corte]\n",
    "    \n",
    "    individuo_melhor = random.choice(melhores_individuos_zip)[0]\n",
    "    \n",
    "    print('individuo',individuo_melhor)\n",
    "    numero_mutacoes = random.randint(1, len(individuo))\n",
    "    print(numero_mutacoes)\n",
    "    mutate_random_index = random.sample(lista_index, numero_mutacoes)\n",
    "    print(mutate_random_index)\n",
    "    \n",
    "    if individuo_melhor == individuo or numero_mutacoes == len(individuo):\n",
    "        return individuo\n",
    "    else:\n",
    "        for gene_index in mutate_random_index:\n",
    "            individuo[gene_index] = individuo_melhor[gene_index]\n",
    "        \n",
    "    return individuo"
   ]
  },
  {
   "cell_type": "code",
   "execution_count": null,
   "metadata": {
    "tags": []
   },
   "outputs": [],
   "source": [
    "def gene_hiperparametros(max_depth_range,min_samples_split_range):\n",
    "    '''Gera um valor aleatório para cada hiperparâmetro em uma dada faixa.\n",
    "    \n",
    "    Returns:\n",
    "        Um valor válido para os 3 hiparparâmetros variados\n",
    "        '''\n",
    "\n",
    "    individuo = []\n",
    "    hiperparametros = [\n",
    "    [max_depth for max_depth in range(1,max_depth_range)], #max_depth\n",
    "    [\"gini\",\"entropy\",\"log_loss\"], #criterion\n",
    "    [min_samples_split for min_samples_split in range(2,min_samples_split_range)]\n",
    "                        ]\n",
    "    \n",
    "    for i in (range(0,len(hiperparametros))):\n",
    "        gene = random.sample(hiperparametros[i], k=1)\n",
    "        individuo.append(gene)\n",
    "        \n",
    "    return individuo\n",
    "        "
   ]
  },
  {
   "cell_type": "code",
   "execution_count": null,
   "metadata": {},
   "outputs": [],
   "source": [
    "def mutacao_hp(individuo,hiper_range_1,hiper_range_2):\n",
    "    mutacao_individual = 0.25\n",
    "    hiperparametros_possiveis = hiperparametros_modelo(hiper_range_1,hiper_range_2)\n",
    "    for i in range(0,len(individuo)):\n",
    "        if random.random() <= mutacao_individual:\n",
    "            #mutate_random_hp = random.choice(range(0,len(hiperparametros_possiveis)))\n",
    "            mutate_random_hp_parameter = random.choice((list(hiperparametros_possiveis.values())[i]))\n",
    "    \n",
    "            individuo[i] = mutate_random_hp_parameter\n",
    "    \n",
    "    return individuo"
   ]
  },
  {
   "cell_type": "code",
   "execution_count": null,
   "metadata": {
    "tags": []
   },
   "outputs": [],
   "source": [
    "def funcao_objetivo_pop_hiperparametros(populacao):\n",
    "\n",
    "    #print(populacao)\n",
    "    fitness_pop = []\n",
    "    high_fit =[] #fit superior a baseline\n",
    "    low_fit = [] #fit inferior a baseline\n",
    "    for individuo in populacao:\n",
    "        populacao_MSE_fit = funcao_objetivo_hiperparametros(individuo)\n",
    "        individuo = individuo.extend(populacao_MSE_fit)\n",
    "    \n",
    "    for individuo_MSE_fit in populacao_MSE_fit:\n",
    "        if individuo_MSE_fit[-1] != individuo_MSE_fit[-2]: # index([-2,-1]) = [MSE, fitness]\n",
    "            high_fit.append(individuo_MSE_fit)\n",
    "            \n",
    "        else:\n",
    "            low_fit.append(individuo_MSE_fit)\n",
    "            \n",
    "    low_fit_sorted = sorted(low_fit, key=itemgetter(-1)) #itemgetter muito util para sort() em listas de listas\n",
    "    for low_fit_individuo in low_fit_sorted:\n",
    "        print(low_fit_sorted)\n",
    "        low_fit_individuo[1] = low_fit.index(low_fit_individuo)*500\n",
    "        \n",
    "        \n",
    "    return low_fit + high_fit\n",
    "#ideia: detectar aqueles com o fit menor do que o standard, organiza-los em ordem crescente, de modo que index*500 == fitness"
   ]
  }
 ],
 "metadata": {
  "kernelspec": {
   "display_name": "ilumpy",
   "language": "python",
   "name": "ilumpy"
  },
  "language_info": {
   "codemirror_mode": {
    "name": "ipython",
    "version": 3
   },
   "file_extension": ".py",
   "mimetype": "text/x-python",
   "name": "python",
   "nbconvert_exporter": "python",
   "pygments_lexer": "ipython3",
   "version": "3.9.7"
  },
  "org": null
 },
 "nbformat": 4,
 "nbformat_minor": 4
}
