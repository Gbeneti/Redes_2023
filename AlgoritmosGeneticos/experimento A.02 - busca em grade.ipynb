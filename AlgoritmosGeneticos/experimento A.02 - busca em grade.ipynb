{
 "cells": [
  {
   "cell_type": "markdown",
   "metadata": {},
   "source": [
    "Busca em grade\n",
    "==============\n",
    "\n"
   ]
  },
  {
   "cell_type": "markdown",
   "metadata": {},
   "source": [
    "## Introdução\n",
    "\n"
   ]
  },
  {
   "cell_type": "markdown",
   "metadata": {},
   "source": [
    "Uma forma de se encontrar uma solução para um problema de otimização é realizando uma `busca em grade`. Uma busca em grade nada mais é do que testar exaustivamente todas as combinações possíveis entre um ou mais conjunto de parâmetros.\n",
    "\n",
    "Vamos supor que você queira testar dois parâmetros em um problema de otimização, $p$ e $q$. Os valores possíveis para $p$ e $q$ estão exibidos abaixo:\n",
    "\n",
    "$p = \\{0, 1, 2\\}$\n",
    "\n",
    "$q = \\{a, b, c\\}$\n",
    "\n",
    "Em uma busca em grade, nós iremos testar todas as combinações entre $p$ e $q$, sendo elas: $(0, a)$, $(0, b)$, $(0,c)$, $(1, a)$, $(1, b)$, $(1,c)$, $(2, a)$, $(2, b)$ e $(2,c)$.\n",
    "\n",
    "Um algoritmo de busca em grade segue os seguintes passos:\n",
    "\n",
    "1.  Definir quais são os parâmetros e quais são os valores possíveis para cada parâmetro\n",
    "\n",
    "2.  Computar e armazenar o resultado da função objetivo para todas as combinações possíveis dos parâmetros definidos no passo 1\n",
    "\n",
    "3.  Retornar ao usuário a combinação de parâmetros que teve o melhor resultado durante a busca.\n",
    "\n"
   ]
  },
  {
   "cell_type": "markdown",
   "metadata": {},
   "source": [
    "## Reflexões\n",
    "\n"
   ]
  },
  {
   "cell_type": "markdown",
   "metadata": {},
   "source": [
    "Você diria que o algoritmo de busca em grade é determinístico ou probabilístico?\n",
    "\n",
    "Será que a busca em grade é capaz de encontrar mínimos (ou máximos) da função objetivo?\n",
    "\n",
    "O que você espera da performance do algoritmo de busca em grade? Como a performance varia com o número de parâmetros e o número de itens nos conjuntos de valores de cada parâmetro?\n",
    "\n"
   ]
  },
  {
   "cell_type": "markdown",
   "metadata": {},
   "source": [
    "## Objetivo\n",
    "\n"
   ]
  },
  {
   "cell_type": "markdown",
   "metadata": {},
   "source": [
    "Encontrar uma solução para o problema das caixas binárias usando o algoritmo de busca em grade. Considere 4 caixas.\n",
    "\n"
   ]
  },
  {
   "cell_type": "markdown",
   "metadata": {},
   "source": [
    "## Descrição do problema\n",
    "\n"
   ]
  },
  {
   "cell_type": "markdown",
   "metadata": {},
   "source": [
    "O problema das caixas binárias é simples: nós temos um certo número de caixas e cada uma pode conter um valor do conjunto $\\{0, 1\\}$. O objetivo é encontrar uma combinação de caixas onde a soma dos valores contidos dentro delas é máximo. O código é de autoria própria\n",
    "\n"
   ]
  },
  {
   "cell_type": "markdown",
   "metadata": {},
   "source": [
    "## Importações\n",
    "\n"
   ]
  },
  {
   "cell_type": "code",
   "execution_count": 1,
   "metadata": {},
   "outputs": [],
   "source": [
    "# from funcoes import funcao_objetivo_cb\n",
    "import funcoes\n",
    "import itertools\n",
    "import time"
   ]
  },
  {
   "cell_type": "markdown",
   "metadata": {},
   "source": [
    "## Códigos e discussão\n",
    "\n"
   ]
  },
  {
   "cell_type": "markdown",
   "metadata": {},
   "source": [
    "### Introdução ao código"
   ]
  },
  {
   "cell_type": "markdown",
   "metadata": {},
   "source": [
    "O seguinte código tem o objetivo de comparar duas maneiras diferentes de solucionar o problema das caixas binárias por meio de busca em grade.\n",
    "O primeiro utiliza de python puro, apenas com \"for\" e uma função importada do arquivo \"funcoes.py\".\n",
    "Já o segundo utiliza da biblioteca \"itertools\" e de uma função importada do arquivo \"funcoes.py\".\n",
    "Assim, o código abaixo expõe a grande gama de possíveis soluções para um mesmo problema. O código é de autoria própria."
   ]
  },
  {
   "cell_type": "markdown",
   "metadata": {},
   "source": [
    "### Código"
   ]
  },
  {
   "cell_type": "code",
   "execution_count": 2,
   "metadata": {},
   "outputs": [
    {
     "name": "stdout",
     "output_type": "stream",
     "text": [
      "[0, 0, 0, 0] 0\n",
      "[0, 0, 0, 1] 1\n",
      "[0, 0, 1, 0] 1\n",
      "[0, 0, 1, 1] 2\n",
      "[0, 1, 0, 0] 1\n",
      "[0, 1, 0, 1] 2\n",
      "[0, 1, 1, 0] 2\n",
      "[0, 1, 1, 1] 3\n",
      "[1, 0, 0, 0] 1\n",
      "[1, 0, 0, 1] 2\n",
      "[1, 0, 1, 0] 2\n",
      "[1, 0, 1, 1] 3\n",
      "[1, 1, 0, 0] 2\n",
      "[1, 1, 0, 1] 3\n",
      "[1, 1, 1, 0] 3\n",
      "[1, 1, 1, 1] 4\n",
      "o tempo foi de 0.0009987354278564453 segundos\n"
     ]
    }
   ],
   "source": [
    "start = time.time() #inicia contagem de tempo\n",
    "for gene1 in [0,1]: #\"for\"s para iterar entre as duas possibilidades de genes aceitáveis\n",
    "    for gene2 in [0,1]:\n",
    "        for gene3 in [0,1]:\n",
    "            for gene4 in [0,1]:\n",
    "                individuo = [gene1,gene2,gene3,gene4] #cria uma lista resultante da análise combinatória com os \"for\"s\n",
    "                fobj = funcoes.funcao_objetivo_cb(individuo) #utiliza a função \"funcao_objetivo_cb\" do arquivo \"funcoes.py\"\n",
    "                print(individuo,fobj)\n",
    "end = time.time() #finaliza a contagem de tempo\n",
    "print(f'o tempo foi de {end-start} segundos')"
   ]
  },
  {
   "cell_type": "code",
   "execution_count": 3,
   "metadata": {},
   "outputs": [
    {
     "name": "stdout",
     "output_type": "stream",
     "text": [
      "(0, 0, 0, 0) 0\n",
      "(0, 0, 0, 1) 1\n",
      "(0, 0, 1, 0) 1\n",
      "(0, 0, 1, 1) 2\n",
      "(0, 1, 0, 0) 1\n",
      "(0, 1, 0, 1) 2\n",
      "(0, 1, 1, 0) 2\n",
      "(0, 1, 1, 1) 3\n",
      "(1, 0, 0, 0) 1\n",
      "(1, 0, 0, 1) 2\n",
      "(1, 0, 1, 0) 2\n",
      "(1, 0, 1, 1) 3\n",
      "(1, 1, 0, 0) 2\n",
      "(1, 1, 0, 1) 3\n",
      "(1, 1, 1, 0) 3\n",
      "(1, 1, 1, 1) 4\n",
      "o tempo foi de 0.001069784164428711 segundos\n"
     ]
    }
   ],
   "source": [
    "start_2 = time.time() #inicia a contagem de tempo\n",
    "for individuos in itertools.product([0,1], repeat = 4): #produto cartesiano entre 5 vetores [0,1]\n",
    "    fobj = funcoes.funcao_objetivo_cb(individuos) #função objetivo do arquivo \"funcoes.py\"\n",
    "    print(individuos, fobj)\n",
    "end_2 = time.time() #finaliza a contagem de tempo\n",
    "print(f'o tempo foi de {end_2-start_2} segundos')"
   ]
  },
  {
   "cell_type": "code",
   "execution_count": null,
   "metadata": {},
   "outputs": [],
   "source": []
  },
  {
   "cell_type": "markdown",
   "metadata": {},
   "source": [
    "## Conclusão\n",
    "\n",
    "Por causa da natureza da busca em grade, os algoritmos analisam todas as combinações possíveis, o que os caracteriza como descritivos. Nota-se que são duas formas diferentes de resolver o problema, mesmo que eu prefira o itertools por tornar o código mais legível e, em geral, mais rápido. Além disso, importar funções frequentemente usadas é mais prático, rápido e deixa o código mais legível."
   ]
  },
  {
   "cell_type": "markdown",
   "metadata": {
    "tags": []
   },
   "source": [
    "## Playground\n",
    "\n"
   ]
  },
  {
   "cell_type": "code",
   "execution_count": null,
   "metadata": {},
   "outputs": [],
   "source": []
  }
 ],
 "metadata": {
  "kernelspec": {
   "display_name": "ilumpy",
   "language": "python",
   "name": "ilumpy"
  },
  "language_info": {
   "codemirror_mode": {
    "name": "ipython",
    "version": 3
   },
   "file_extension": ".py",
   "mimetype": "text/x-python",
   "name": "python",
   "nbconvert_exporter": "python",
   "pygments_lexer": "ipython3",
   "version": "3.9.7"
  },
  "org": null
 },
 "nbformat": 4,
 "nbformat_minor": 4
}
