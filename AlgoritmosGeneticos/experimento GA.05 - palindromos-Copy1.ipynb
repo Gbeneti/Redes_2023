{
 "cells": [
  {
   "cell_type": "markdown",
   "metadata": {},
   "source": [
    "## Novos palíndromos\n",
    "\n"
   ]
  },
  {
   "cell_type": "markdown",
   "metadata": {},
   "source": [
    "## Introdução\n",
    "\n"
   ]
  },
  {
   "cell_type": "markdown",
   "metadata": {},
   "source": [
    "Este experimento tem o objetivo de aplicar algoritmos genéticos de minimização para resolver o problema dos palíndromos."
   ]
  },
  {
   "cell_type": "markdown",
   "metadata": {},
   "source": [
    "## Objetivo\n",
    "\n"
   ]
  },
  {
   "cell_type": "markdown",
   "metadata": {},
   "source": [
    "**Objetivo**: Encontre pelo menos 10 palíndromos de 5 letras. Estes palíndromos devem ter pelo menos uma vogal. Não é necessário que eles formem palavras válidas em português ou qualquer outro idioma.\n",
    "\n"
   ]
  },
  {
   "cell_type": "markdown",
   "metadata": {},
   "source": [
    "## Importações\n",
    "\n"
   ]
  },
  {
   "cell_type": "markdown",
   "metadata": {},
   "source": [
    "Todos os comandos de `import` devem estar dentro desta seção.\n",
    "\n"
   ]
  },
  {
   "cell_type": "code",
   "execution_count": 1,
   "metadata": {},
   "outputs": [],
   "source": [
    "import random\n",
    "from collections import OrderedDict"
   ]
  },
  {
   "cell_type": "markdown",
   "metadata": {},
   "source": [
    "## Códigos e discussão\n",
    "\n"
   ]
  },
  {
   "cell_type": "markdown",
   "metadata": {},
   "source": [
    "-   Use células de código para o código.\n",
    "\n",
    "-   Use células de texto para a discussão.\n",
    "\n",
    "-   A discussão não deve ser feita em comentários dentro das células de código. Toda discussão deve acontecer após o resultado sendo discutido foi apresentado. Exemplo: não discuta um gráfico antes de apresentá-lo.\n",
    "\n"
   ]
  },
  {
   "cell_type": "code",
   "execution_count": 2,
   "metadata": {
    "tags": []
   },
   "outputs": [],
   "source": [
    "### CONSTANTES\n",
    "\n",
    "# relacionadas à busca\n",
    "TAMANHO_POP = 40\n",
    "CHANCE_CRUZAMENTO = 0.5\n",
    "CHANCE_MUTACAO = 0.05\n",
    "NUM_COMBATENTES_NO_TORNEIO = 3\n",
    "NUM_GERACOES = 30\n",
    "\n",
    "# relacionadas ao problema a ser resulvido\n",
    "#PALAVRA = \"abcba\"\n",
    "#LETRAS_POSSIVEIS = \"ABCDEFGHIJKLMNOPQRSTUVWXYZ\"\n",
    "LETRAS_POSSIVEIS = 'ABCDEFGHI'\n",
    "VOGAIS = \"AEI\"\n",
    "NUM_GENES = 5"
   ]
  },
  {
   "cell_type": "code",
   "execution_count": 3,
   "metadata": {
    "tags": []
   },
   "outputs": [],
   "source": [
    "def gene_palindromo(letras):\n",
    "    '''Gera um gene válido para o problema dos palindromos.\n",
    "    \n",
    "    Return:\n",
    "        Uma letra valida como gene.\n",
    "    '''\n",
    "    \n",
    "    letra = random.choice(letras) #seleciona aleatoriamente uma letra do input \n",
    "    return letra\n"
   ]
  },
  {
   "cell_type": "code",
   "execution_count": 4,
   "metadata": {
    "tags": []
   },
   "outputs": [],
   "source": [
    "def individuo_palindromo(tamanho_palindromo, letras):\n",
    "    '''Gera um candidato para o problema dos palindromos.\n",
    "    \n",
    "    Args:\n",
    "        tamanho_palindromo: valor que relresenta o numero de genes do palindromo\n",
    "        letras: letras que podem ser genes\n",
    "    \n",
    "    Return:\n",
    "        Uma lista de genes, de modo que os caracteres aceitos estão na lista \"letras\" \n",
    "    '''\n",
    "\n",
    "    candidato = [] #lista com o candidato\n",
    "\n",
    "    for n in range(tamanho_palindromo):\n",
    "        candidato.append(gene_palindromo(letras)) #cria um individuo com um len == n\n",
    "    #candidado = [(''.join(candidato))]\n",
    "    #print(candidato)\n",
    "\n",
    "    return candidato\n"
   ]
  },
  {
   "cell_type": "code",
   "execution_count": 5,
   "metadata": {
    "tags": []
   },
   "outputs": [],
   "source": [
    "def populacao_inicial_palindromo(tamanho, tamanho_palindromo, letras):\n",
    "    \"\"\"Cria população inicial no problema do palindromo\n",
    "\n",
    "    Args\n",
    "      tamanho: tamanho da população.\n",
    "      tamanho_palindromo: inteiro representando o tamanho do palindromo.\n",
    "      letras: letras possíveis de serem sorteadas.\n",
    "\n",
    "    Returns:\n",
    "      Lista com todos os indivíduos da população no problema da senha.\n",
    "    \"\"\"\n",
    "    populacao = []\n",
    "    for n in range(tamanho):\n",
    "        populacao.append(individuo_palindromo(tamanho_palindromo, letras)) #cria uma lista de listas como populacao (senhas)\n",
    "    return populacao\n"
   ]
  },
  {
   "cell_type": "code",
   "execution_count": 6,
   "metadata": {
    "tags": []
   },
   "outputs": [],
   "source": [
    "def funcao_objetivo_palindromo(individuo,vogais):\n",
    "    \"\"\"Computa a função objetivo no problema dos palindromos.        \n",
    "    Args:      \n",
    "        individuo: lista contendo caracteres.\n",
    "        vogais: lista contendo vogais\n",
    "    \n",
    "    Return:      \n",
    "        Um valor representando um \"peso\" (fitness) de quão próximo está o individuo de um palindromo.\n",
    "        \n",
    "    Nota: todo palindromo necessariamente precisa apresentar uma vogal.\n",
    "    \"\"\"\n",
    "    fitness = 0\n",
    "    #print(individuo)\n",
    "    #individuo = ''.join(individuo)\n",
    "    individuo_reverso = individuo[::-1]\n",
    "    #print(individuo_reverso)\n",
    "    #print(individuo_reverso)\n",
    "            \n",
    "    for normal,inversa in zip(individuo,individuo_reverso):\n",
    "        #print(normal,inversa)\n",
    "        if normal != inversa:\n",
    "            fitness += 500 #adição de fitness para aqueles que não apresentam letras iguais a inversa\n",
    "    \n",
    "     \n",
    "    for i in vogais:\n",
    "        if any(i in individuo for i in vogais):\n",
    "            fitness += 0\n",
    "            return fitness\n",
    "        else:\n",
    "            fitness += 500\n",
    "            return fitness\n",
    "            \n",
    "    return fitness"
   ]
  },
  {
   "cell_type": "code",
   "execution_count": 7,
   "metadata": {
    "tags": []
   },
   "outputs": [],
   "source": [
    "def funcao_objetivo_pop_palindromo(populacao,vogais):\n",
    "    \"\"\"Calcula a funcao objetivo para todos os membros de uma população\n",
    "    \n",
    "        Args:     \n",
    "            populacao: lista com todos os indivíduos da população   \n",
    "            vogais: letras requeridas para gerar o individuo\n",
    "        \n",
    "        Return:      \n",
    "            Lista de valores representando a fitness de cada indivíduo de uma população.    \n",
    "        \n",
    "        \"\"\"\n",
    "    #print(populacao)\n",
    "    fitness_pop = []\n",
    "    for individuo in populacao:\n",
    "        #print(populacao)\n",
    "        #print(individuo)\n",
    "        #individuo = ''.join(individuo)\n",
    "        fitness_ind = funcao_objetivo_palindromo(individuo, vogais)\n",
    "        \n",
    "        fitness_pop.append(fitness_ind)\n",
    "    return fitness_pop\n"
   ]
  },
  {
   "cell_type": "code",
   "execution_count": 8,
   "metadata": {
    "tags": []
   },
   "outputs": [],
   "source": [
    "def selecao_torneio_min(populacao, fitness, tamanho_torneio=3):\n",
    "    \"\"\"Faz a seleção de uma população usando torneio.\n",
    "\n",
    "    Nota: da forma que está implementada, só funciona em problemas de\n",
    "    minimização.\n",
    "\n",
    "    Args:\n",
    "      populacao: população do problema\n",
    "      fitness: lista de fitness\n",
    "      tamanho_torneio: quantidade de invidiuos que batalham entre si\n",
    "\n",
    "    Returns:\n",
    "      Individuos selecionados. Lista com os individuos selecionados com mesmo\n",
    "      tamanho do argumento `populacao`.\n",
    "    \"\"\"\n",
    "    selecionados = []\n",
    "\n",
    "    # criamos essa variável para associar cada individuo com seu valor de fitness\n",
    "    par_populacao_fitness = list(zip(populacao, fitness))\n",
    "\n",
    "    # vamos fazer len(populacao) torneios! Que comecem os jogos!\n",
    "    for _ in range(len(populacao)):\n",
    "        combatentes = random.sample(par_populacao_fitness, tamanho_torneio)\n",
    "\n",
    "        # é assim que se escreve infinito em python\n",
    "        minimo_fitness = float(\"inf\")\n",
    "\n",
    "        for par_individuo_fitness in combatentes:\n",
    "            individuo = par_individuo_fitness[0]\n",
    "            fit = par_individuo_fitness[1]\n",
    "\n",
    "            # queremos o individuo de menor fitness\n",
    "            if fit < minimo_fitness:\n",
    "                selecionado = individuo\n",
    "                minimo_fitness = fit\n",
    "\n",
    "        selecionados.append(selecionado)\n",
    "\n",
    "    return selecionados"
   ]
  },
  {
   "cell_type": "code",
   "execution_count": 9,
   "metadata": {
    "tags": []
   },
   "outputs": [],
   "source": [
    "def mutacao_palindromo(individuo, letras): \n",
    "    \"\"\"Realiza a mutação de genes espelhados no problema do palindromo.\n",
    "\n",
    "    Args:\n",
    "      individuo: uma lista representado um individuo no problema da palindromo\n",
    "      letras: letras possíveis de serem sorteadas.\n",
    "\n",
    "    Return:\n",
    "      Um individuo (palindromo) com dois genes iguais (mutado).\n",
    "    \"\"\"\n",
    "    individuo = individuo\n",
    "    metade_quantidade_genes = (len(individuo) - 1) / 2\n",
    "    gene = random.randint(0, metade_quantidade_genes)\n",
    "    #print(gene)\n",
    "    \n",
    "    if gene == metade_quantidade_genes:\n",
    "        individuo[gene] = gene_palindromo(letras)\n",
    "    else:\n",
    "        individuo[gene] = gene_palindromo(letras)\n",
    "        individuo[- (gene + 1)] = individuo[gene]\n",
    "    return individuo\n",
    "\n",
    "    "
   ]
  },
  {
   "cell_type": "code",
   "execution_count": 10,
   "metadata": {
    "tags": []
   },
   "outputs": [],
   "source": [
    "def cruzamento_ponto_simples(pai,mae): #pode usar o padrao\n",
    "    '''Operador de cruzamento de ponto simples.\n",
    "    \n",
    "    Args:\n",
    "        pai: uma lista representando um indivíduo\n",
    "        mãe: uma lista representando um indivíduo\n",
    "    \n",
    "    Return:\n",
    "        Duas listas, sendo que cada uma representa um filho dos pais que foram os argumentos\n",
    "    '''\n",
    "    \n",
    "    ponto_de_corte = random.randint(1, ((len(pai))-1)) #na lista\n",
    "    filho1 = pai[:ponto_de_corte] + mae[ponto_de_corte:]\n",
    "    filho2 = mae[:ponto_de_corte] + pai[ponto_de_corte:]\n",
    "    \n",
    "#filho1: pega todos os genes do pai até 'ponto_de_corte', concatena com todos os genes da mãe, menos \"ponto_de_corte\"\n",
    "#filho2: pega todos os genes do mãe até 'ponto_de_corte', concatena com todos os genes da pai, menos \"ponto_de_corte\"\n",
    "    return filho1,filho2\n"
   ]
  },
  {
   "cell_type": "code",
   "execution_count": 12,
   "metadata": {},
   "outputs": [],
   "source": [
    "def top_min(populacao, fitness, numero):\n",
    "    '''Organiza um dicionário como um \"top\" de menor para maiores valores (de fitness) e dá output como os (numero) menores. \n",
    "\n",
    "    Nota: funciona para algoritmos de minimização\n",
    "\n",
    "    Args:\n",
    "      populacao: população do problema\n",
    "      fitness: lista de fitness\n",
    "      numero: tamanho do \"top\"\n",
    "      \n",
    "    Returns:\n",
    "     Lista com (numero) individuos de menor fitness\n",
    "\n",
    "'''\n",
    "    #print(fitness)\n",
    "    #print(populacao)\n",
    "    dictionary_no_duplicates = {}\n",
    "    for k in range(0,len(populacao)):\n",
    "        populacao[k] = ''.join(populacao[k])\n",
    "    \n",
    "    dictionary = {populacao[i]:fitness[i] for i in range(len(populacao))}\n",
    "    \n",
    "    #return dictionary\n",
    "    \n",
    "    sort_dict = sorted(dictionary.items(), key=lambda x:x[1])\n",
    "    dictionary_sorted = dict(sort_dict)\n",
    "    print(dictionary_sorted)\n",
    "\n",
    "    top = list(dictionary_sorted.items())[:5]\n",
    "    #print(dictionary_sorted.values())\n",
    "\n",
    "    return (f'top {numero}: {top}'), list(dictionary_sorted.values())[:5]"
   ]
  },
  {
   "cell_type": "code",
   "execution_count": 13,
   "metadata": {
    "tags": []
   },
   "outputs": [],
   "source": [
    "# funções locais\n",
    "\n",
    "def cria_populacao_inicial(tamanho, tamanho_palindromo, letras):\n",
    "    return populacao_inicial_palindromo(tamanho, tamanho_palindromo, LETRAS_POSSIVEIS)\n",
    "\n",
    "def funcao_objetivo_pop(populacao,vogais=VOGAIS):\n",
    "    return funcao_objetivo_pop_palindromo(populacao,vogais)\n",
    "\n",
    "def funcao_selecao(populacao, fitness):\n",
    "    return selecao_torneio_min(populacao, fitness)\n",
    "\n",
    "def funcao_mutacao(individuo):\n",
    "    return mutacao_palindromo(individuo, LETRAS_POSSIVEIS)\n",
    "\n",
    "def funcao_cruzamento(pai,mae):\n",
    "    return cruzamento_ponto_simples(pai,mae)"
   ]
  },
  {
   "cell_type": "code",
   "execution_count": 15,
   "metadata": {},
   "outputs": [
    {
     "name": "stdout",
     "output_type": "stream",
     "text": [
      "{'IBBBI': 0, 'IIAII': 0, 'IBABI': 0, 'DBABD': 0, 'IDBDI': 0, 'IBABB': 0, 'BBABI': 0, 'IEBEI': 0, 'IBBDI': 0}\n"
     ]
    },
    {
     "data": {
      "text/plain": [
       "(\"top 5: [('IBBBI', 0), ('IIAII', 0), ('IBABI', 0), ('DBABD', 0), ('IDBDI', 0)]\",\n",
       " [0, 0, 0, 0, 0])"
      ]
     },
     "execution_count": 15,
     "metadata": {},
     "output_type": "execute_result"
    }
   ],
   "source": [
    "populacao = cria_populacao_inicial(TAMANHO_POP, NUM_GENES,LETRAS_POSSIVEIS)\n",
    "fitness = funcao_objetivo_pop(populacao)\n",
    "#print(\"população inicial: \")\n",
    "#print(populacao)\n",
    "    \n",
    "#while top_min(populacao, fitness, 10)[1] == False:\n",
    "for i in range(0,10):\n",
    "#while all(item != 0 for item in top_min(populacao,fitness,10)):\n",
    "    #Seleção\n",
    "    fitness = funcao_objetivo_pop(populacao) #gera o \"fitness\" de cada indivíduo\n",
    "    populacao = funcao_selecao(populacao, fitness) #seleciona individuos baseado em \"fitness\"\n",
    "    \n",
    "    #Cruzamento\n",
    "    pais = populacao[0::2] #seleção de indivíduos \"pais\" por meio de corte de lista e passo 2\n",
    "    maes = populacao[1::2] #seleção de indivíduos \"mães\" por meio de corte de lista e passo 2\n",
    "    contador = 0 #para posição de pai e mãe. Talvez \"pop\" fosse mais eficiente?\n",
    "    for pai, mae in zip(pais,maes): #o critério de parada de zip é a menor lista. aqui os tamanhos são iguais\n",
    "        if random.random() <= CHANCE_CRUZAMENTO: #se (número aleatório) < chance de cruzamento\n",
    "            #novos individuos\n",
    "            filho1, filho2 = funcao_cruzamento(pai,mae) #filhos gerados do cruzamento\n",
    "            populacao[contador] = filho1 #filho 1 substitui o \"pai\"\n",
    "            populacao[contador + 1] = filho2 #filho 2 substitui a \"mãe\"\n",
    "            \n",
    "        contador += 2 #atualiza o contador para pegar outros pais\n",
    "        \n",
    "        #Mutação\n",
    "    for n in range(len(populacao)):\n",
    "        if random.random() <= CHANCE_MUTACAO: #se (número aleatório) <= chance de ocorrer mutação\n",
    "            individuo = populacao[n] #pega o indivíduo no índice \"n\" da população\n",
    "            #print()\n",
    "            #print(individuo)\n",
    "            populacao[n] = funcao_mutacao(individuo) #aplica mutação no indivíduo\n",
    "            #print(populacao[n]) #print no indivíduo com mutação\n",
    "            #print()\n",
    "top_min(populacao,fitness,5)\n",
    "\n",
    "#print(\"população final: \")\n",
    "#print(populacao)"
   ]
  },
  {
   "cell_type": "markdown",
   "metadata": {},
   "source": [
    "## Conclusão\n",
    "\n"
   ]
  },
  {
   "cell_type": "markdown",
   "metadata": {},
   "source": [
    "O código ainda está em desenvolvimento, penso que ele está quase pronto. Penso que os requisitos mínimos do problema estão sendo cumpridos. Por alguma razão, por vezes, ele classifica como palindromos individuos que não são palíndromos. Além disso, algumas vezes o códgo não consegue reunir um top do tamanho especificado. Sendo assim, mais debugging seria necessário para tentar corrigir os problemas."
   ]
  },
  {
   "cell_type": "markdown",
   "metadata": {},
   "source": [
    "## Playground\n",
    "\n"
   ]
  },
  {
   "cell_type": "markdown",
   "metadata": {},
   "source": [
    "Todo código de teste que não faz parte do seu experimento deve vir aqui. Este código não será considerado na avaliação.\n",
    "\n"
   ]
  },
  {
   "cell_type": "code",
   "execution_count": null,
   "metadata": {},
   "outputs": [],
   "source": [
    "funcao_objetivo_palindromo(['C','D','H','D','E'],VOGAIS)"
   ]
  },
  {
   "cell_type": "code",
   "execution_count": null,
   "metadata": {
    "tags": []
   },
   "outputs": [],
   "source": [
    "print('abc'[::-1])"
   ]
  },
  {
   "cell_type": "code",
   "execution_count": null,
   "metadata": {
    "tags": []
   },
   "outputs": [],
   "source": [
    "ind = ['b', 'a', 'a', 'b', 'b']\n",
    "ind = ''.join(ind)\n",
    "print([ind])"
   ]
  },
  {
   "cell_type": "code",
   "execution_count": null,
   "metadata": {},
   "outputs": [],
   "source": [
    "top_min([['a','r','r','o','z'],'fejao','batata','last_one'],[0,1,3,0],2)"
   ]
  },
  {
   "cell_type": "code",
   "execution_count": null,
   "metadata": {},
   "outputs": [],
   "source": []
  }
 ],
 "metadata": {
  "kernelspec": {
   "display_name": "ilumpy",
   "language": "python",
   "name": "ilumpy"
  },
  "language_info": {
   "codemirror_mode": {
    "name": "ipython",
    "version": 3
   },
   "file_extension": ".py",
   "mimetype": "text/x-python",
   "name": "python",
   "nbconvert_exporter": "python",
   "pygments_lexer": "ipython3",
   "version": "3.9.7"
  },
  "org": null
 },
 "nbformat": 4,
 "nbformat_minor": 4
}
