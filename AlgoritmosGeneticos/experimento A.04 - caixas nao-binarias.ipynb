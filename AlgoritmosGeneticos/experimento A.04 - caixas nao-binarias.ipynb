{
 "cells": [
  {
   "cell_type": "markdown",
   "metadata": {},
   "source": [
    "Problema das caixas não-binárias\n",
    "================================\n",
    "\n"
   ]
  },
  {
   "cell_type": "markdown",
   "metadata": {},
   "source": [
    "## Objetivo\n",
    "\n"
   ]
  },
  {
   "cell_type": "markdown",
   "metadata": {},
   "source": [
    "Encontrar uma solução para o problema das caixas não-binárias usando um algoritmo genético. Considere 4 caixas. Considere que cada caixa pode ter um valor inteiro dentro do conjunto [0, 100].\n",
    "\n"
   ]
  },
  {
   "cell_type": "markdown",
   "metadata": {},
   "source": [
    "## Descrição do problema\n",
    "\n"
   ]
  },
  {
   "cell_type": "markdown",
   "metadata": {},
   "source": [
    "O problema das caixas não-binárias é simples: nós temos um certo número de caixas e cada uma pode conter um número inteiro. O objetivo é encontrar uma combinação de caixas onde a soma dos valores contidos dentro delas é máximo.\n",
    "\n"
   ]
  },
  {
   "cell_type": "markdown",
   "metadata": {},
   "source": [
    "## Importações\n",
    "\n"
   ]
  },
  {
   "cell_type": "code",
   "execution_count": 1,
   "metadata": {},
   "outputs": [],
   "source": [
    "import random\n",
    "from funcoes import populacao_cnb\n",
    "from funcoes import funcao_objetivo_pop_cnb as funcao_objetivo_pop\n",
    "from funcoes import selecao_roleta_max as funcao_selecao\n",
    "from funcoes import cruzamento_ponto_simples as funcao_cruzamento\n",
    "from funcoes import mutacao_cnb"
   ]
  },
  {
   "cell_type": "markdown",
   "metadata": {},
   "source": [
    "## Códigos e discussão\n",
    "\n"
   ]
  },
  {
   "cell_type": "code",
   "execution_count": 2,
   "metadata": {},
   "outputs": [],
   "source": [
    "#CONSTANTES\n",
    "\n",
    "#constantes relacionadas à busca\n",
    "TAMANHO_POP = 6 #tamanho da populçãpo - (0 a 1)\n",
    "NUM_GERACOES = 5 #número de gerações; criterio de parada - (int)\n",
    "CHANCE_CRUZAMENTO = 0.5 #chance de cruzamento - (0 a 1)\n",
    "CHANCE_MUTACAO = 0.05 #chance de ocorrer uma mutação - (0 a 1)\n",
    "\n",
    "#relacionadas ao problema a ser resolvido\n",
    "VALOR_MAX_CAIXA = 100\n",
    "NUM_GENES = 4"
   ]
  },
  {
   "cell_type": "code",
   "execution_count": 3,
   "metadata": {},
   "outputs": [],
   "source": [
    "#função parcial, usada apenas aqui nesse notebook\n",
    "#também chamada de 'função local'\n",
    "def cria_populacao_inicial(tamanho,n_genes):\n",
    "    return populacao_cnb(tamanho,n_genes,VALOR_MAX_CAIXA)\n",
    "\n",
    "def funcao_mutacao(individuo):\n",
    "    return mutacao_cnb(individuo,VALOR_MAX_CAIXA)\n",
    "    "
   ]
  },
  {
   "cell_type": "code",
   "execution_count": 4,
   "metadata": {},
   "outputs": [
    {
     "name": "stdout",
     "output_type": "stream",
     "text": [
      "população inicial: \n",
      "[[99, 86, 38, 47], [93, 92, 66, 73], [55, 22, 52, 60], [38, 47, 5, 6], [28, 4, 21, 62], [76, 76, 6, 23]]\n",
      "população final: \n",
      "[[99, 86, 38, 47], [99, 76, 6, 73], [99, 86, 38, 47], [76, 86, 38, 47], [99, 86, 38, 47], [76, 86, 38, 47]]\n"
     ]
    }
   ],
   "source": [
    "populacao = cria_populacao_inicial(TAMANHO_POP, NUM_GENES)\n",
    "print(\"população inicial: \")\n",
    "print(populacao)\n",
    "    \n",
    "for n in range(0,NUM_GERACOES,1):\n",
    "    #Seleção\n",
    "    fitness = funcao_objetivo_pop(populacao) #gera o \"fitness\" de cada indivíduo\n",
    "    populacao = funcao_selecao(populacao, fitness) #seleciona individuos baseado em \"fitness\"\n",
    "    \n",
    "    #Cruzamento\n",
    "    pais = populacao[0::2] #seleção de indivíduos \"pais\" por meio de corte de lista e passo 2\n",
    "    maes = populacao[1::2] #seleção de indivíduos \"mães\" por meio de corte de lista e passo 2\n",
    "    contador = 0 #para posição de pai e mãe. Talvez \"pop\" fosse mais eficiente?\n",
    "    for pai, mae in zip(pais,maes): #o critério de parada de zip é a menor lista. aqui os tamanhos são iguais\n",
    "        if random.random() <= CHANCE_CRUZAMENTO: #se (número aleatório) < chance de cruzamento\n",
    "            #novos individuos\n",
    "            filho1, filho2 = funcao_cruzamento(pai,mae) #filhos gerados do cruzamento\n",
    "            populacao[contador] = filho1 #filho 1 substitui o \"pai\"\n",
    "            populacao[contador + 1] = filho2 #filho 2 substitui a \"mãe\"\n",
    "            \n",
    "        contador += 2 #atualiza o contador para pegar outros pais\n",
    "        \n",
    "        #Mutação\n",
    "    for n in range(len(populacao)):\n",
    "        if random.random() <= CHANCE_MUTACAO: #se (número aleatório) <= chance de ocorrer mutação\n",
    "            individuo = populacao[n] #pega o indivíduo no índice \"n\" da população\n",
    "            #print()\n",
    "            #print(individuo)\n",
    "            populacao[n] = funcao_mutacao(individuo) #aplica mutação no indivíduo\n",
    "            #print(populacao[n]) #print no indivíduo com mutação\n",
    "            #print()\n",
    "            \n",
    "print(\"população final: \")\n",
    "print(populacao)"
   ]
  },
  {
   "cell_type": "markdown",
   "metadata": {},
   "source": [
    "## Conclusão\n",
    "\n"
   ]
  },
  {
   "cell_type": "markdown",
   "metadata": {},
   "source": [
    "Conseguiu-se resolver o problema de maximização de caixas não binárias com algoritmos genéticos. Observou-se, através de várias rodadas, que este é um algoritmo probabilístico, pois o resultado obtido em várias rodadas foi diferente (os resultados variam de acordo com as constantes definidas, mas ainda sim o sistema de funcionamento é probabilístico). Isso é evidenciado prinicpalmente pela função de mutação. Assim, diferentes pessoas podem rodar o mesmo código e adquirir resultados discrepantes. Além disso, utilizou-se de funções locais (funções específicas para um tipo de problema específico, praticamente de uso único) com o fim de impactar minimamente o script principal. Nota-se que o script principal é relativamente complexo e denso, logo a manipulação direta, além de destruir a natureza de generalidade do código, pode acarretar em vários erros dada a natureza intrínseca das modificações. Além do mais, explicitou-se as constantes relacionadas ao problema, o que facilita o entendimento, modificação correta e a reutilização do código."
   ]
  },
  {
   "cell_type": "markdown",
   "metadata": {},
   "source": [
    "## Playground\n",
    "\n"
   ]
  },
  {
   "cell_type": "code",
   "execution_count": null,
   "metadata": {},
   "outputs": [],
   "source": []
  }
 ],
 "metadata": {
  "kernelspec": {
   "display_name": "ilumpy",
   "language": "python",
   "name": "ilumpy"
  },
  "language_info": {
   "codemirror_mode": {
    "name": "ipython",
    "version": 3
   },
   "file_extension": ".py",
   "mimetype": "text/x-python",
   "name": "python",
   "nbconvert_exporter": "python",
   "pygments_lexer": "ipython3",
   "version": "3.9.7"
  },
  "org": null
 },
 "nbformat": 4,
 "nbformat_minor": 4
}
