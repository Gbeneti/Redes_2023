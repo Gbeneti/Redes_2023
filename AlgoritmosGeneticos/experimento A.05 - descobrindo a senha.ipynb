{
 "cells": [
  {
   "cell_type": "markdown",
   "metadata": {},
   "source": [
    "Descobrindo a senha\n",
    "===================\n",
    "\n"
   ]
  },
  {
   "cell_type": "markdown",
   "metadata": {},
   "source": [
    "## Objetivo\n",
    "\n"
   ]
  },
  {
   "cell_type": "markdown",
   "metadata": {},
   "source": [
    "Usar um algoritmo genético para descobrir uma senha.\n",
    "\n"
   ]
  },
  {
   "cell_type": "markdown",
   "metadata": {},
   "source": [
    "## Descrição do problema\n",
    "\n"
   ]
  },
  {
   "cell_type": "markdown",
   "metadata": {},
   "source": [
    "Neste problema, a função objetivo deve saber a senha correta e quantificar de alguma maneira o quão perto ou longe os palpites estão da solução (veja que isso é algo que não temos no mundo real. Nenhum site irá te dizer se você está acertando ou errando seu palpite). O critério de parada deste problema é quando a senha for descoberta.\n",
    "\n"
   ]
  },
  {
   "cell_type": "markdown",
   "metadata": {},
   "source": [
    "## Importações\n",
    "\n"
   ]
  },
  {
   "cell_type": "code",
   "execution_count": null,
   "metadata": {},
   "outputs": [],
   "source": [
    "import random\n",
    "from funcoes import populacao_cnb\n",
    "from funcoes import funcao_objetivo_pop_cnb as funcao_objetivo_pop\n",
    "from funcoes import selecao_roleta_max as funcao_selecao\n",
    "from funcoes import cruzamento_ponto_simples as funcao_cruzamento\n",
    "from funcoes import mutacao_cnb"
   ]
  },
  {
   "cell_type": "markdown",
   "metadata": {},
   "source": [
    "## Códigos e discussão\n",
    "\n"
   ]
  },
  {
   "cell_type": "code",
   "execution_count": null,
   "metadata": {},
   "outputs": [],
   "source": [
    "######################################################\n",
    "                #CÓDIGO INCOMPLETO!!!\n",
    "                #CÓDIGO INCOMPLETO!!!\n",
    "                #CÓDIGO INCOMPLETO!!!\n",
    "######################################################"
   ]
  },
  {
   "cell_type": "code",
   "execution_count": null,
   "metadata": {},
   "outputs": [],
   "source": [
    "def gene_senha(lista_texto):\n",
    "    lista_texto_to_num = ord(lista_texto)\n",
    "    gene = random.choice(lista_texto_to_num) #a atribuição de números ja é aleatória, mas eu pensei que talvez pudesse deixar mais interesante\n",
    "    return gene"
   ]
  },
  {
   "cell_type": "code",
   "execution_count": null,
   "metadata": {},
   "outputs": [],
   "source": [
    "def individuo_senha(num_genes):\n",
    "    '''Gera um indivíduo das senhas.\n",
    "    \n",
    "    Args:\n",
    "        num_genes: número de genes do indivíduo\n",
    "    \n",
    "    Return:\n",
    "        Uma lista de genes, de modo que os valores aceitos são 0 e 1.\n",
    "    '''\n",
    "    individuo = []\n",
    "    for _ in range(0,num_genes,1): #repete as funções n vezes\n",
    "        gene = gene_senha(lista_texto) #retorna um gene aleatório\n",
    "        individuo.append(gene) #armazena o gene em uma lista\n",
    "    return individuo #retorna uma lista com len == 4"
   ]
  },
  {
   "cell_type": "code",
   "execution_count": null,
   "metadata": {},
   "outputs": [],
   "source": [
    "def populacao_senha(tamanho,num_genes):\n",
    "    '''Cria uma população no problema das caixas binárias.\n",
    "    \n",
    "    Returns:\n",
    "        Uma lista onde cada item é um indivíduo. Um indivíduo é uma lista (ou um conjunto de listas) com \"n\" genes.\n",
    "    \n",
    "    Args:\n",
    "        tamanho: tamanho da população\n",
    "        num_genes: quantidade de genes\n",
    "    '''\n",
    "    populacao = []\n",
    "    for _ in range(0,tamanho,1): #usar \"_\" apenas para a situação de não precisar do valor do \"for\"\n",
    "        populacao.append(individuo_senha(num_genes))\n",
    "    return populacao"
   ]
  },
  {
   "cell_type": "code",
   "execution_count": null,
   "metadata": {},
   "outputs": [],
   "source": [
    "def funcao_fitness_senha(letra_1,letra_2):\n",
    "    \"\"\"Computa a função objetivo no problema das senhas.        \n",
    "    Args:      \n",
    "        individuo: lista contendo os genes das senhas.        \n",
    "    \n",
    "    Return:      \n",
    "        Um valor representando a soma dos genes do indivíduo (fitness).    \n",
    "    \"\"\"\n",
    "    \n",
    "    abs(ord(\n",
    "    fitness =  sum(individuo) #fintess\n",
    "    return fitness"
   ]
  },
  {
   "cell_type": "code",
   "execution_count": null,
   "metadata": {},
   "outputs": [],
   "source": [
    "def funcao_fitness_pop_senha(populacao):\n",
    "    \"\"\"Calcula a funcao objetivo para todos os membros de uma população\n",
    "    \n",
    "        Args:     \n",
    "            populacao: lista com todos os indivíduos da população       \n",
    "        \n",
    "        Return:      \n",
    "            Lista de valores representando a fitness de cada indivíduo de uma população.    \n",
    "        \n",
    "        \"\"\"    \n",
    "    \n",
    "    fitness = []\n",
    "    for individuo in populacao:\n",
    "        fobj = funcao_objetivo_cb(individuo) #calcula o fitness\n",
    "        fitness.append(fobj)\n",
    "    return fitness"
   ]
  },
  {
   "cell_type": "code",
   "execution_count": null,
   "metadata": {},
   "outputs": [],
   "source": [
    "def funcao_selecao_pop_senha(populacao,fitness,num_sorteado):\n",
    "    \"\"\"Seleciona um individuo por seleção por torneio.\n",
    "    \n",
    "        Args:     \n",
    "            populacao: lista com todos os indivíduos da população \n",
    "            fitness: lista com o fitness de cada individuo\n",
    "            num_sorteado: quantidade de individuos no torneio. \n",
    "        \n",
    "        Return:      \n",
    "            Indivíduo que sobreviveu ao torneio    \n",
    "        \n",
    "        \"\"\"    \n",
    "    \n",
    "    fitness = random.choices(populacao, weights=fitness,k=num_sorteado)\n",
    "    fitness.sort()\n",
    "    individuo_selecionado = fitness[-1]\n",
    "\n",
    "    return individuo_selecionado\n"
   ]
  },
  {
   "cell_type": "code",
   "execution_count": null,
   "metadata": {},
   "outputs": [],
   "source": [
    "def mutacao_senha(individuo):\n",
    "    '''Realiza a mutação de um gene no problema das caixas binárias\n",
    "    \n",
    "    Args:\n",
    "        individuo: uma lista representado um individuo no papel das caixas vinárias\n",
    "    \n",
    "    Return:\n",
    "        Um indivíduo com um gene mutado\n",
    "    \n",
    "    '''\n",
    "    \n",
    "    gene_a_ser_mutado = random.randint(0, len(individuo)-1)\n",
    "    individuo[gene_a_ser_mutado] = gene_cb()\n",
    "    return individuo"
   ]
  },
  {
   "cell_type": "code",
   "execution_count": null,
   "metadata": {},
   "outputs": [],
   "source": [
    "populacao = cria_populacao_inicial(TAMANHO_POP, NUM_GENES)\n",
    "print(\"população inicial: \")\n",
    "print(populacao)\n",
    "    \n",
    "for n in range(0,NUM_GERACOES,1):\n",
    "    fitness = funcao_objetivo_pop(populacao) #gera o \"fitness\" de cada indivíduo\n",
    "    populacao = funcao_selecao(populacao, fitness) #seleciona individuos baseado em \"fitness\"\n",
    "    pais = populacao[0::2] #seleção de indivíduos \"pais\" por meio de corte de lista e passo 2\n",
    "    maes = populacao[1::2] #seleção de indivíduos \"mães\" por meio de corte de lista e passo 2\n",
    "    contador = 0 #para posição de pai e mãe. Talvez \"pop\" fosse mais eficiente?\n",
    "    for pai, mae in zip(pais,maes): #o critério de parada de zip é a menor lista. aqui os tamanhos são iguais\n",
    "        if random.random() <= CHANCE_CRUZAMENTO: #se (número aleatório) < chance de cruzamento\n",
    "            #novos individuos\n",
    "            filho1, filho2 = funcao_cruzamento(pai,mae) #filhos gerados do cruzamento\n",
    "            populacao[contador] = filho1 #filho 1 substitui o \"pai\"\n",
    "            populacao[contador + 1] = filho2 #filho 2 substitui a \"mãe\"\n",
    "            \n",
    "        contador += 2 #atualiza o contador para pegar outros pais\n",
    "    for n in range(len(populacao)):\n",
    "        if random.random() <= CHANCE_MUTACAO: #se (número aleatório) <= chance de ocorrer mutação\n",
    "            individuo = populacao[n] #pega o indivíduo no índice \"n\" da população\n",
    "            #print()\n",
    "            #print(individuo)\n",
    "            populacao[n] = funcao_mutacao(individuo) #aplica mutação no indivíduo\n",
    "            #print(populacao[n]) #print no indivíduo com mutação\n",
    "            #print()\n",
    "            \n",
    "print(\"população final: \")\n",
    "print(populacao)\n",
    "\n"
   ]
  },
  {
   "cell_type": "code",
   "execution_count": null,
   "metadata": {},
   "outputs": [],
   "source": []
  },
  {
   "cell_type": "code",
   "execution_count": 5,
   "metadata": {},
   "outputs": [
    {
     "name": "stdout",
     "output_type": "stream",
     "text": [
      "114\n"
     ]
    }
   ],
   "source": [
    "a = ord('r')\n",
    "print(a)"
   ]
  },
  {
   "cell_type": "markdown",
   "metadata": {},
   "source": [
    "## Conclusão\n",
    "\n"
   ]
  },
  {
   "cell_type": "markdown",
   "metadata": {},
   "source": [
    "## Playground\n",
    "\n"
   ]
  },
  {
   "cell_type": "code",
   "execution_count": null,
   "metadata": {},
   "outputs": [],
   "source": []
  }
 ],
 "metadata": {
  "kernelspec": {
   "display_name": "ilumpy",
   "language": "python",
   "name": "ilumpy"
  },
  "language_info": {
   "codemirror_mode": {
    "name": "ipython",
    "version": 3
   },
   "file_extension": ".py",
   "mimetype": "text/x-python",
   "name": "python",
   "nbconvert_exporter": "python",
   "pygments_lexer": "ipython3",
   "version": "3.9.7"
  },
  "org": null
 },
 "nbformat": 4,
 "nbformat_minor": 4
}
