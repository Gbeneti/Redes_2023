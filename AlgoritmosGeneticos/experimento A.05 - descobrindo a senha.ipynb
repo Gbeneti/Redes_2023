{
 "cells": [
  {
   "cell_type": "markdown",
   "metadata": {},
   "source": [
    "Descobrindo a senha\n",
    "===================\n",
    "\n"
   ]
  },
  {
   "cell_type": "markdown",
   "metadata": {},
   "source": [
    "## Objetivo\n",
    "\n"
   ]
  },
  {
   "cell_type": "markdown",
   "metadata": {},
   "source": [
    "Usar um algoritmo genético para descobrir uma senha.\n",
    "\n"
   ]
  },
  {
   "cell_type": "markdown",
   "metadata": {},
   "source": [
    "## Descrição do problema\n",
    "\n"
   ]
  },
  {
   "cell_type": "markdown",
   "metadata": {},
   "source": [
    "Neste problema, a função objetivo deve saber a senha correta e quantificar de alguma maneira o quão perto ou longe os palpites estão da solução (veja que isso é algo que não temos no mundo real. Nenhum site irá te dizer se você está acertando ou errando seu palpite). O critério de parada deste problema é quando a senha for descoberta.\n",
    "\n"
   ]
  },
  {
   "cell_type": "markdown",
   "metadata": {},
   "source": [
    "## Importações\n",
    "\n"
   ]
  },
  {
   "cell_type": "code",
   "execution_count": 1,
   "metadata": {},
   "outputs": [],
   "source": [
    "from funcoes import populacao_inicial_senha\n",
    "from funcoes import funcao_objetivo_pop_senha\n",
    "from funcoes import selecao_torneio_min\n",
    "from funcoes import cruzamento_ponto_simples as funcao_cruzamento\n",
    "from funcoes import mutacao_senha\n",
    "import random"
   ]
  },
  {
   "cell_type": "markdown",
   "metadata": {},
   "source": [
    "## Códigos e discussão\n",
    "\n"
   ]
  },
  {
   "cell_type": "code",
   "execution_count": 2,
   "metadata": {},
   "outputs": [],
   "source": [
    "### CONSTANTES\n",
    "\n",
    "# relacionadas à busca\n",
    "TAMANHO_POP = 50\n",
    "CHANCE_CRUZAMENTO = 0.5\n",
    "CHANCE_MUTACAO = 0.05\n",
    "NUM_COMBATENTES_NO_TORNEIO = 3\n",
    "\n",
    "# relacionadas ao problema a ser resulvido\n",
    "SENHA = \"correcthorsebatterystaple\"\n",
    "LETRAS_POSSIVEIS = \"abcdefghijklmnopqrstuvwxyz\"\n",
    "NUM_GENES = len(SENHA)"
   ]
  },
  {
   "cell_type": "code",
   "execution_count": 3,
   "metadata": {},
   "outputs": [],
   "source": [
    "# funções locais\n",
    "\n",
    "def cria_populacao_inicial(tamanho, tamanho_senha):\n",
    "    return populacao_inicial_senha(tamanho, tamanho_senha, LETRAS_POSSIVEIS)\n",
    "\n",
    "def funcao_objetivo_pop(populacao):\n",
    "    return funcao_objetivo_pop_senha(populacao, SENHA)\n",
    "\n",
    "def funcao_selecao(populacao, fitness):\n",
    "    return selecao_torneio_min(populacao, fitness, NUM_COMBATENTES_NO_TORNEIO)\n",
    "\n",
    "def funcao_mutacao(individuo):\n",
    "    return mutacao_senha(individuo, LETRAS_POSSIVEIS)"
   ]
  },
  {
   "cell_type": "code",
   "execution_count": 4,
   "metadata": {},
   "outputs": [
    {
     "name": "stdout",
     "output_type": "stream",
     "text": [
      "Progresso da melhor senha já vista:\n",
      "boymfivninrfhofxbbtkknslk - fitness: 141\n",
      "boymfivninrfhmrpgulwycnck - fitness: 110\n",
      "boymfivninrfhmrpgulwycnfj - fitness: 106\n",
      "boymfivninrfhmrpgulwycnje - fitness: 97\n",
      "boymfivninrfhmrwgulwycnje - fitness: 96\n",
      "boymfivninrfhmrsgulwycnje - fitness: 94\n",
      "boymfivniqrfhmrsgulwycnje - fitness: 91\n",
      "boymfivniqrfhmrtgulwycnje - fitness: 90\n",
      "boymfivniqrfhmstgulwycnje - fitness: 89\n",
      "boysfivniqrfhmrtgulwycnje - fitness: 86\n",
      "boymfdvnkqrfhmrtgulwycnje - fitness: 83\n",
      "boymfdvnkqrfhgrtgulwycnje - fitness: 77\n",
      "boymfdvmkqrfhgrtgulwycnje - fitness: 76\n",
      "bosmfdvnkqrfhgrtgulwycnje - fitness: 71\n",
      "bosmfdvmkqrfhgrtgulwycnje - fitness: 70\n",
      "cosmfdvmkqrfhgrtgulwycnje - fitness: 69\n",
      "cosmfdvmkqrfhgrtgulwycoje - fitness: 68\n",
      "cosmfdvfkqrfhgrtgulwycoje - fitness: 65\n",
      "cosmfdvfkqrfhgrtgurwycoje - fitness: 59\n",
      "cosmfdvfkqrfhfrtgurwycoje - fitness: 58\n",
      "cosmfdufkqrfhfrtgurwycoje - fitness: 57\n",
      "cosnfdvfkqrfhfrtgurwycpje - fitness: 56\n",
      "cosnfdvfkqreggrtgurwycpje - fitness: 55\n",
      "cosnfdvfkqregfrtgurwycpje - fitness: 54\n",
      "cosnfdufkqregfrtgurwycpje - fitness: 53\n",
      "cosnfdufkqregfrtgprwycpje - fitness: 52\n",
      "cosnfdufkqregartgurwycpje - fitness: 48\n",
      "cosnfdufkqregartgprwycpje - fitness: 47\n",
      "cosnfdufkqregartfprwycpje - fitness: 46\n",
      "cosnfdufkqrecartfprwycpje - fitness: 42\n",
      "cosnfdufkqrecartfpxwycpje - fitness: 36\n",
      "cosnfdufkqrecartfpywycpje - fitness: 35\n",
      "cosnfdufoqrecartfpywycpje - fitness: 31\n",
      "cornfdufoqrecartfpywycpje - fitness: 30\n",
      "cornddujoqrebartfpywycpje - fitness: 29\n",
      "corpfdufoqrebartfpywycpje - fitness: 27\n",
      "corpfcufoqrebartfpywycpje - fitness: 26\n",
      "corpfcufoqrebartfpytycpje - fitness: 23\n",
      "corpfcuhoqrebartfpytycpje - fitness: 21\n",
      "corpfcuhorrebartfpytycpje - fitness: 20\n",
      "corpfcuhorrebartfpytrcpje - fitness: 17\n",
      "corqfcuhorrebartfpytrcpje - fitness: 16\n",
      "corqfcthorrebartfpytrcpje - fitness: 15\n",
      "corqfcthorrebartfpytucpje - fitness: 14\n",
      "corqfcthorrebartfpytucpme - fitness: 13\n",
      "corqfcthorrebartfqytucpme - fitness: 12\n",
      "corqfcthorrebartfqytucple - fitness: 11\n",
      "corqecthorrebartfqytucple - fitness: 10\n",
      "corqecthorrebattfqytucple - fitness: 8\n",
      "correcthorrebattfqytucple - fitness: 7\n",
      "corqecthorrebattfqyttbple - fitness: 6\n",
      "corqecthorrebattfqystbple - fitness: 5\n",
      "correcthorrebattfqystbple - fitness: 4\n",
      "correcthorrebatteqystbple - fitness: 3\n",
      "correcthorsebatteqystbple - fitness: 2\n",
      "correcthorsebatteqystaple - fitness: 1\n",
      "correcthorsebatterystaple - fitness: 0\n",
      "\n",
      "Melhor palpite da senha encontrado:\n",
      "correcthorsebatterystaple\n"
     ]
    }
   ],
   "source": [
    "populacao = cria_populacao_inicial(TAMANHO_POP, NUM_GENES)\n",
    "\n",
    "melhor_fitness_ja_visto = float(\"inf\")  # é assim que escrevemos infinito em python\n",
    "\n",
    "print(\"Progresso da melhor senha já vista:\")\n",
    "\n",
    "while melhor_fitness_ja_visto != 0:\n",
    "    \n",
    "    # Seleção\n",
    "    fitness = funcao_objetivo_pop(populacao)\n",
    "    populacao = funcao_selecao(populacao, fitness)\n",
    "    \n",
    "    # Cruzamento\n",
    "    pais = populacao[0::2]\n",
    "    maes = populacao[1::2]\n",
    "    \n",
    "    contador = 0\n",
    "    \n",
    "    for pai, mae in zip(pais, maes):\n",
    "        if random.random() <= CHANCE_CRUZAMENTO:\n",
    "            filho1, filho2 = funcao_cruzamento(pai, mae)\n",
    "            populacao[contador] = filho1\n",
    "            populacao[contador + 1] = filho2\n",
    "        \n",
    "        contador = contador + 2   \n",
    "        \n",
    "    # Mutação\n",
    "    for n in range(len(populacao)):\n",
    "        if random.random() <= CHANCE_MUTACAO:\n",
    "            individuo = populacao[n]\n",
    "            populacao[n] = funcao_mutacao(individuo)            \n",
    "            \n",
    "    # melhor individuo já visto até agora\n",
    "    fitness = funcao_objetivo_pop(populacao)\n",
    "    menor_fitness = min(fitness)\n",
    "    if menor_fitness < melhor_fitness_ja_visto:        \n",
    "        posicao = fitness.index(menor_fitness)\n",
    "        melhor_individuo_ja_visto = populacao[posicao]\n",
    "        melhor_fitness_ja_visto = menor_fitness\n",
    "        print(\"\".join(melhor_individuo_ja_visto), \"- fitness:\", melhor_fitness_ja_visto)\n",
    "\n",
    "print()\n",
    "print(\"Melhor palpite da senha encontrado:\")\n",
    "print(\"\".join(melhor_individuo_ja_visto))"
   ]
  },
  {
   "cell_type": "markdown",
   "metadata": {},
   "source": [
    "## Conclusão\n",
    "Conseguiu-se resolver o problema das senhas. É interessante frisar que este problema claramente explicita a versatilidade dos algoritmos genéticos, uma vez que ao contrário de outros notebooks, utilizou-se minimização para a resolução do problema. Além do mais, um número fixo de gerações, para este algoritmo, não se faz necessário, uma vez que o código não é muito pesado e se quer apenas um tipo de resposta específico (nesse caso, apenas uma resposta). Assim, pôde-se trocar o \"for {geração}\" para um \"while\" e mesmo assim a modificação no script principal foi mínima. Por fim, conseguiu-se encontrar a resposta exata. Esse experimento foi de grande importância para expandir as possibilidades de o que se pode fazer com esses tipos de algoritmos, em que a criatividade pode ser a chave para diferenciar um código \"bom\" e um \"ótimo\"."
   ]
  },
  {
   "cell_type": "markdown",
   "metadata": {},
   "source": [
    "## Playground\n",
    "\n"
   ]
  },
  {
   "cell_type": "code",
   "execution_count": null,
   "metadata": {},
   "outputs": [],
   "source": []
  }
 ],
 "metadata": {
  "kernelspec": {
   "display_name": "ilumpy",
   "language": "python",
   "name": "ilumpy"
  },
  "language_info": {
   "codemirror_mode": {
    "name": "ipython",
    "version": 3
   },
   "file_extension": ".py",
   "mimetype": "text/x-python",
   "name": "python",
   "nbconvert_exporter": "python",
   "pygments_lexer": "ipython3",
   "version": "3.9.7"
  },
  "org": null
 },
 "nbformat": 4,
 "nbformat_minor": 4
}
