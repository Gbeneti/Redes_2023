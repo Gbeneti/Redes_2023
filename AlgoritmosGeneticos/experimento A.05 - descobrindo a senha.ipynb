{
 "cells": [
  {
   "cell_type": "markdown",
   "metadata": {},
   "source": [
    "Descobrindo a senha\n",
    "===================\n",
    "\n"
   ]
  },
  {
   "cell_type": "markdown",
   "metadata": {},
   "source": [
    "## Objetivo\n",
    "\n"
   ]
  },
  {
   "cell_type": "markdown",
   "metadata": {},
   "source": [
    "Usar um algoritmo genético para descobrir uma senha.\n",
    "\n"
   ]
  },
  {
   "cell_type": "markdown",
   "metadata": {},
   "source": [
    "## Descrição do problema\n",
    "\n"
   ]
  },
  {
   "cell_type": "markdown",
   "metadata": {},
   "source": [
    "Neste problema, a função objetivo deve saber a senha correta e quantificar de alguma maneira o quão perto ou longe os palpites estão da solução (veja que isso é algo que não temos no mundo real. Nenhum site irá te dizer se você está acertando ou errando seu palpite). O critério de parada deste problema é quando a senha for descoberta.\n",
    "\n"
   ]
  },
  {
   "cell_type": "markdown",
   "metadata": {},
   "source": [
    "## Importações\n",
    "\n"
   ]
  },
  {
   "cell_type": "code",
   "execution_count": 1,
   "metadata": {},
   "outputs": [],
   "source": [
    "from funcoes import populacao_inicial_senha\n",
    "from funcoes import funcao_objetivo_pop_senha\n",
    "from funcoes import selecao_torneio_min\n",
    "from funcoes import cruzamento_ponto_simples as funcao_cruzamento\n",
    "from funcoes import mutacao_senha\n",
    "import random"
   ]
  },
  {
   "cell_type": "markdown",
   "metadata": {},
   "source": [
    "## Códigos e discussão\n",
    "\n"
   ]
  },
  {
   "cell_type": "code",
   "execution_count": 2,
   "metadata": {},
   "outputs": [],
   "source": [
    "### CONSTANTES\n",
    "\n",
    "# relacionadas à busca\n",
    "TAMANHO_POP = 50\n",
    "CHANCE_CRUZAMENTO = 0.5\n",
    "CHANCE_MUTACAO = 0.05\n",
    "NUM_COMBATENTES_NO_TORNEIO = 3\n",
    "\n",
    "# relacionadas ao problema a ser resulvido\n",
    "SENHA = \"correcthorsebatterystaple\"\n",
    "LETRAS_POSSIVEIS = \"abcdefghijklmnopqrstuvwxyz\"\n",
    "NUM_GENES = len(SENHA)"
   ]
  },
  {
   "cell_type": "code",
   "execution_count": 3,
   "metadata": {},
   "outputs": [],
   "source": [
    "# funções locais\n",
    "\n",
    "def cria_populacao_inicial(tamanho, tamanho_senha):\n",
    "    return populacao_inicial_senha(tamanho, tamanho_senha, LETRAS_POSSIVEIS)\n",
    "\n",
    "def funcao_objetivo_pop(populacao):\n",
    "    return funcao_objetivo_pop_senha(populacao, SENHA)\n",
    "\n",
    "def funcao_selecao(populacao, fitness):\n",
    "    return selecao_torneio_min(populacao, fitness, NUM_COMBATENTES_NO_TORNEIO)\n",
    "\n",
    "def funcao_mutacao(individuo):\n",
    "    return mutacao_senha(individuo, LETRAS_POSSIVEIS)"
   ]
  },
  {
   "cell_type": "code",
   "execution_count": 4,
   "metadata": {},
   "outputs": [
    {
     "name": "stdout",
     "output_type": "stream",
     "text": [
      "Progresso da melhor senha já vista:\n",
      "osltpjxiwxukehzwaosyqmedd - fitness: 142\n",
      "osltpjxiwxukiaprekzxmzqqe - fitness: 133\n",
      "pkyurjxgnpshehzwaosyqmedd - fitness: 131\n",
      "mhtwpckppstfiaprekzxmzqqe - fitness: 120\n",
      "nmquockppstfajxwaoszqmqqe - fitness: 106\n",
      "mhtwpckppstfiaprekzxqmqqe - fitness: 103\n",
      "mhtwfckppstfiaprekzxqmqqe - fitness: 93\n",
      "nmqwfckppstfiaprekzxqmqqe - fitness: 88\n",
      "nmqufckppstfiaprekzxqmqqe - fitness: 86\n",
      "nmqufckpprtfiaprekzxqmqqe - fitness: 85\n",
      "nmqufckpprtfiasrekzxqmqqe - fitness: 82\n",
      "nmqufckpprtfiasrekzxqeqqe - fitness: 74\n",
      "nmqufckjprtfiasretzxqmqqe - fitness: 71\n",
      "nmqufckjprtfiasretzxqeqqe - fitness: 63\n",
      "nmqufckjprtfcasretzxqeqqe - fitness: 57\n",
      "fmqufckjprtfiasretzxqeqqe - fitness: 55\n",
      "fmqufckjprtfcasretzxqeqqe - fitness: 49\n",
      "fmqufckjprsfcasretzxqeqqe - fitness: 48\n",
      "fmqufckhprtfcasretzxqeqqe - fitness: 47\n",
      "fmqufczjprsfcasretzxqeqqe - fitness: 45\n",
      "foqufczjprsfcasretzxqeqqe - fitness: 43\n",
      "foqufczjprsfcasretzxqeqne - fitness: 40\n",
      "foqufczjprsfcasretztqeqqe - fitness: 39\n",
      "foqufczjprsfcasretztqeqne - fitness: 36\n",
      "foqufczhprsfcasretztqeqne - fitness: 34\n",
      "foqrfczjprsfcasretztqeqne - fitness: 33\n",
      "foqrfczjprsfcasretztteqne - fitness: 30\n",
      "foqrfcsjprsfcasretztteone - fitness: 25\n",
      "foqrfcshprsfcasretztteone - fitness: 23\n",
      "eoqrfcshprsfcasretztteone - fitness: 22\n",
      "eoqrfcshprsfcasretzttbone - fitness: 19\n",
      "coqrfcshprsfcasretzttbone - fitness: 17\n",
      "coqrfcshprsfcatretzttbone - fitness: 16\n",
      "coqrfcshprsecatretzttbone - fitness: 15\n",
      "coqrfcshprsecatretzttbome - fitness: 14\n",
      "coqrfcshprsecatretzttbole - fitness: 13\n",
      "coqrfcthprsecatretzttbole - fitness: 12\n",
      "coqrfcthorsecatretzttbole - fitness: 11\n",
      "coqrfcthorsecatreqzttbole - fitness: 10\n",
      "coqrfcthorsecatreqzstbole - fitness: 9\n",
      "coqrfcthorsecatreqzstaole - fitness: 8\n",
      "coqrfcthorsebatreqzstaole - fitness: 7\n",
      "coqrfcthorsebatteqzstaole - fitness: 5\n",
      "coqrecthorsebatteqzstaole - fitness: 4\n",
      "coqrecthorsebatterzstaole - fitness: 3\n",
      "correcthorsebatterzstaole - fitness: 2\n",
      "correcthorsebatterystaole - fitness: 1\n",
      "correcthorsebatterystaple - fitness: 0\n",
      "\n",
      "Melhor palpite da senha encontrado:\n",
      "correcthorsebatterystaple\n"
     ]
    }
   ],
   "source": [
    "populacao = cria_populacao_inicial(TAMANHO_POP, NUM_GENES)\n",
    "\n",
    "melhor_fitness_ja_visto = float(\"inf\")  # é assim que escrevemos infinito em python\n",
    "\n",
    "print(\"Progresso da melhor senha já vista:\")\n",
    "\n",
    "while melhor_fitness_ja_visto != 0:\n",
    "    \n",
    "    # Seleção\n",
    "    fitness = funcao_objetivo_pop(populacao)\n",
    "    populacao = funcao_selecao(populacao, fitness)\n",
    "    \n",
    "    # Cruzamento\n",
    "    pais = populacao[0::2]\n",
    "    maes = populacao[1::2]\n",
    "    \n",
    "    contador = 0\n",
    "    \n",
    "    for pai, mae in zip(pais, maes):\n",
    "        if random.random() <= CHANCE_CRUZAMENTO:\n",
    "            filho1, filho2 = funcao_cruzamento(pai, mae)\n",
    "            populacao[contador] = filho1\n",
    "            populacao[contador + 1] = filho2\n",
    "        \n",
    "        contador = contador + 2   \n",
    "        \n",
    "    # Mutação\n",
    "    for n in range(len(populacao)):\n",
    "        if random.random() <= CHANCE_MUTACAO:\n",
    "            individuo = populacao[n]\n",
    "            populacao[n] = funcao_mutacao(individuo)            \n",
    "            \n",
    "    # melhor individuo já visto até agora\n",
    "    fitness = funcao_objetivo_pop(populacao)\n",
    "    menor_fitness = min(fitness)\n",
    "    if menor_fitness < melhor_fitness_ja_visto:        \n",
    "        posicao = fitness.index(menor_fitness)\n",
    "        melhor_individuo_ja_visto = populacao[posicao]\n",
    "        melhor_fitness_ja_visto = menor_fitness\n",
    "        print(\"\".join(melhor_individuo_ja_visto), \"- fitness:\", melhor_fitness_ja_visto)\n",
    "\n",
    "print()\n",
    "print(\"Melhor palpite da senha encontrado:\")\n",
    "print(\"\".join(melhor_individuo_ja_visto))"
   ]
  },
  {
   "cell_type": "markdown",
   "metadata": {},
   "source": [
    "## Conclusão\n",
    "Conseguiu-se resolver o problema de \"resolver senha\" com algoritmos genéticos. Observou-se, através de várias rodadas, que este é um algoritmo probabilístico, pois o resultado obtido em várias rodadas foi diferente (os resultados variam de acordo com as constantes definidas, mas ainda sim o sistema de funcionamento é probabilístico). Isso é evidenciado prinicpalmente pela função de mutação. Assim, diferentes pessoas podem rodar o mesmo código e adquirir tempos de conversão distintos (pode-se demorar mais ou menos para convergir). Além do mais, geerações, para este algoritmo, não são necessárias, uma vez que o código não é muito pesado, ao mesmo tempo em que se sabe a resposta. Assim, pôde-se trocar o \"for {geração}\" para um \"while\" e mesmo assim a modificação no script principal foi mínima. Além disso, explicitou-se a flexibilidade dos algoritmos genéticos, em que a criatividade pode ser a chave para diferenciar um algoritmo \"bom\" e um \"ótimo\". "
   ]
  },
  {
   "cell_type": "markdown",
   "metadata": {},
   "source": [
    "## Playground\n",
    "\n"
   ]
  },
  {
   "cell_type": "code",
   "execution_count": null,
   "metadata": {},
   "outputs": [],
   "source": []
  }
 ],
 "metadata": {
  "kernelspec": {
   "display_name": "ilumpy",
   "language": "python",
   "name": "ilumpy"
  },
  "language_info": {
   "codemirror_mode": {
    "name": "ipython",
    "version": 3
   },
   "file_extension": ".py",
   "mimetype": "text/x-python",
   "name": "python",
   "nbconvert_exporter": "python",
   "pygments_lexer": "ipython3",
   "version": "3.9.7"
  },
  "org": null
 },
 "nbformat": 4,
 "nbformat_minor": 4
}
