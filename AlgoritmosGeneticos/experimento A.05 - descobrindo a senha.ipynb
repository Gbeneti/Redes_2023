{
 "cells": [
  {
   "cell_type": "markdown",
   "metadata": {},
   "source": [
    "Descobrindo a senha\n",
    "===================\n",
    "\n"
   ]
  },
  {
   "cell_type": "markdown",
   "metadata": {},
   "source": [
    "## Objetivo\n",
    "\n"
   ]
  },
  {
   "cell_type": "markdown",
   "metadata": {},
   "source": [
    "Usar um algoritmo genético para descobrir uma senha.\n",
    "\n"
   ]
  },
  {
   "cell_type": "markdown",
   "metadata": {},
   "source": [
    "## Descrição do problema\n",
    "\n"
   ]
  },
  {
   "cell_type": "markdown",
   "metadata": {},
   "source": [
    "Neste problema, a função objetivo deve saber a senha correta e quantificar de alguma maneira o quão perto ou longe os palpites estão da solução (veja que isso é algo que não temos no mundo real. Nenhum site irá te dizer se você está acertando ou errando seu palpite). O critério de parada deste problema é quando a senha for descoberta.\n",
    "\n"
   ]
  },
  {
   "cell_type": "markdown",
   "metadata": {},
   "source": [
    "## Importações\n",
    "\n"
   ]
  },
  {
   "cell_type": "code",
   "execution_count": 1,
   "metadata": {},
   "outputs": [],
   "source": [
    "from funcoes import populacao_inicial_senha\n",
    "from funcoes import funcao_objetivo_pop_senha\n",
    "from funcoes import selecao_torneio_min\n",
    "from funcoes import cruzamento_ponto_simples as funcao_cruzamento\n",
    "from funcoes import mutacao_senha\n",
    "import random"
   ]
  },
  {
   "cell_type": "markdown",
   "metadata": {},
   "source": [
    "## Códigos e discussão\n",
    "\n"
   ]
  },
  {
   "cell_type": "code",
   "execution_count": 2,
   "metadata": {},
   "outputs": [],
   "source": [
    "### CONSTANTES\n",
    "\n",
    "# relacionadas à busca\n",
    "TAMANHO_POP = 50\n",
    "CHANCE_CRUZAMENTO = 0.5\n",
    "CHANCE_MUTACAO = 0.05\n",
    "NUM_COMBATENTES_NO_TORNEIO = 3\n",
    "\n",
    "# relacionadas ao problema a ser resulvido\n",
    "SENHA = \"correcthorsebatterystaple\"\n",
    "LETRAS_POSSIVEIS = \"abcdefghijklmnopqrstuvwxyz\"\n",
    "NUM_GENES = len(SENHA)"
   ]
  },
  {
   "cell_type": "code",
   "execution_count": 3,
   "metadata": {},
   "outputs": [],
   "source": [
    "# funções locais\n",
    "\n",
    "def cria_populacao_inicial(tamanho, tamanho_senha):\n",
    "    return populacao_inicial_senha(tamanho, tamanho_senha, LETRAS_POSSIVEIS)\n",
    "\n",
    "def funcao_objetivo_pop(populacao):\n",
    "    return funcao_objetivo_pop_senha(populacao, SENHA)\n",
    "\n",
    "def funcao_selecao(populacao, fitness):\n",
    "    return selecao_torneio_min(populacao, fitness, NUM_COMBATENTES_NO_TORNEIO)\n",
    "\n",
    "def funcao_mutacao(individuo):\n",
    "    return mutacao_senha(individuo, LETRAS_POSSIVEIS)"
   ]
  },
  {
   "cell_type": "code",
   "execution_count": 4,
   "metadata": {},
   "outputs": [
    {
     "name": "stdout",
     "output_type": "stream",
     "text": [
      "Progresso da melhor senha já vista:\n",
      "wvmygguewrksfwsjqowwukcnd - fitness: 164\n",
      "jqqudpaolgrcynttavznufsta - fitness: 141\n",
      "nmvrmephmoxgszqzamqnufsta - fitness: 137\n",
      "nmvrmephmoxgsjsajsznufsta - fitness: 122\n",
      "nmvrmephmoxgsnttavznufsta - fitness: 108\n",
      "cmvrmephmoxgsnttavznufsta - fitness: 97\n",
      "cmvrmephmoxgsnttavznufska - fitness: 90\n",
      "cmvrmephmoxgsjttavznufska - fitness: 86\n",
      "cmvrmephmoxgfnttavznufska - fitness: 77\n",
      "cmvrmephmoxgfnttavznucska - fitness: 74\n",
      "cmvrgephmoxgfnttavznucska - fitness: 68\n",
      "cmvrmephmoxgffttavznucska - fitness: 66\n",
      "cnvrmephmoxgffttavznucska - fitness: 65\n",
      "cnvrlephmoxgffttavznucska - fitness: 64\n",
      "cnvrmephmrxgffttavznucsma - fitness: 62\n",
      "cmvrmephmovgfattavznucska - fitness: 59\n",
      "cnvrmephmrxgfattavznucska - fitness: 57\n",
      "cnvreephmovgfattavznucska - fitness: 50\n",
      "cnvreephmrxgfattavznucska - fitness: 49\n",
      "cnvreephmrvgfattavznucsna - fitness: 48\n",
      "cnvreephmrvgfattavznucska - fitness: 47\n",
      "cnvreephmrvgfatthvznucsma - fitness: 46\n",
      "cnvreephmrvgfatthvznucsla - fitness: 45\n",
      "cnqreephmrvgfatthvznucsla - fitness: 42\n",
      "cnqreephmrvgeatthvznucsla - fitness: 41\n",
      "cnqrebphmrvgeatthvznucsla - fitness: 40\n",
      "cnqreevhmrvffatthvznucsla - fitness: 39\n",
      "cnqrebvhmrvffatthvznucsla - fitness: 38\n",
      "cnqrebvhmrvffatthvzqucsla - fitness: 35\n",
      "cnqrebuhmrvffatthvzqucsla - fitness: 34\n",
      "cnqrebvhmrvffatthtzqucsla - fitness: 33\n",
      "cnqrebuhmrvffatthtzqucsla - fitness: 32\n",
      "cnqrebuhmrvfdatthtzqucsla - fitness: 30\n",
      "cnqrebuhmrvfdattetzqucsla - fitness: 27\n",
      "cnqrebuhmrqfdattetzqucsla - fitness: 26\n",
      "cnqrebuhmrqfdattetzqucrla - fitness: 25\n",
      "cnqrebuhmrqfdattetzqucola - fitness: 24\n",
      "cnqrebuhnrqfdattetzqucola - fitness: 23\n",
      "cnrrebuhnrqfdattetzqucola - fitness: 22\n",
      "cnrrebuhnrtfdattetzqucola - fitness: 21\n",
      "cnrrebuhnrtfdattetzsucola - fitness: 19\n",
      "cnrrebuhnrtfdattetzqucolf - fitness: 18\n",
      "cnrrebuhnrtfdatteqzsucolf - fitness: 15\n",
      "cnrrebthnrtfdatteqzsucolf - fitness: 14\n",
      "cnrrebthnrtfdatteqzsucplf - fitness: 13\n",
      "cnrrebthnrsfdatteqzsucplf - fitness: 12\n",
      "cnrrebthorsfdatteqzsucplf - fitness: 11\n",
      "cnrrebthorsfdatteqzsucple - fitness: 10\n",
      "cnrrebthorsfcatteqzsucple - fitness: 9\n",
      "cnrrebthorsfbatteqzsucple - fitness: 8\n",
      "cnrrebthorsfbatterzsucple - fitness: 7\n",
      "cnrrebthorsfbatterzsuaple - fitness: 5\n",
      "correbthorsfbatterzsuaple - fitness: 4\n",
      "correcthorsfbatterzsuaple - fitness: 3\n",
      "correcthorsebatterzsuaple - fitness: 2\n",
      "correcthorsebatterzstaple - fitness: 1\n",
      "correcthorsebatterystaple - fitness: 0\n",
      "\n",
      "Melhor palpite da senha encontrado:\n",
      "correcthorsebatterystaple\n"
     ]
    }
   ],
   "source": [
    "populacao = cria_populacao_inicial(TAMANHO_POP, NUM_GENES)\n",
    "\n",
    "melhor_fitness_ja_visto = float(\"inf\")  # é assim que escrevemos infinito em python\n",
    "\n",
    "print(\"Progresso da melhor senha já vista:\")\n",
    "\n",
    "while melhor_fitness_ja_visto != 0:\n",
    "    \n",
    "    # Seleção\n",
    "    fitness = funcao_objetivo_pop(populacao)\n",
    "    populacao = funcao_selecao(populacao, fitness)\n",
    "    \n",
    "    # Cruzamento\n",
    "    pais = populacao[0::2]\n",
    "    maes = populacao[1::2]\n",
    "    \n",
    "    contador = 0\n",
    "    \n",
    "    for pai, mae in zip(pais, maes):\n",
    "        if random.random() <= CHANCE_CRUZAMENTO:\n",
    "            filho1, filho2 = funcao_cruzamento(pai, mae)\n",
    "            populacao[contador] = filho1\n",
    "            populacao[contador + 1] = filho2\n",
    "        \n",
    "        contador = contador + 2   \n",
    "        \n",
    "    # Mutação\n",
    "    for n in range(len(populacao)):\n",
    "        if random.random() <= CHANCE_MUTACAO:\n",
    "            individuo = populacao[n]\n",
    "            populacao[n] = funcao_mutacao(individuo)            \n",
    "            \n",
    "    # melhor individuo já visto até agora\n",
    "    fitness = funcao_objetivo_pop(populacao)\n",
    "    menor_fitness = min(fitness)\n",
    "    if menor_fitness < melhor_fitness_ja_visto:        \n",
    "        posicao = fitness.index(menor_fitness)\n",
    "        melhor_individuo_ja_visto = populacao[posicao]\n",
    "        melhor_fitness_ja_visto = menor_fitness\n",
    "        print(\"\".join(melhor_individuo_ja_visto), \"- fitness:\", melhor_fitness_ja_visto)\n",
    "\n",
    "print()\n",
    "print(\"Melhor palpite da senha encontrado:\")\n",
    "print(\"\".join(melhor_individuo_ja_visto))"
   ]
  },
  {
   "cell_type": "markdown",
   "metadata": {},
   "source": [
    "## Conclusão\n",
    "Conseguiu-se resolver o problema das senhas. É interessante frisar que este problema claramente explicita a versatilidade dos algoritmos genéticos, uma vez que ao contrário de outros notebooks, utilizou-se minimização para a resolução do problema. Além do mais, um número fixo de gerações, para este algoritmo, não se faz necessário, uma vez que o código não é muito pesado e se quer apenas um tipo de resposta específico (nesse caso, apenas uma resposta). Assim, pôde-se trocar o \"for {geração}\" para um \"while\" e mesmo assim a modificação no script principal foi mínima. Por fim, conseguiu-se encontrar a resposta exata. Esse experimento foi de grande importância para expandir as possibilidades de o que se pode fazer com esses tipos de algoritmos, em que a criatividade pode ser a chave para diferenciar um código \"bom\" e um \"ótimo\"."
   ]
  },
  {
   "cell_type": "markdown",
   "metadata": {},
   "source": [
    "## Playground\n",
    "\n"
   ]
  },
  {
   "cell_type": "code",
   "execution_count": null,
   "metadata": {},
   "outputs": [],
   "source": []
  }
 ],
 "metadata": {
  "kernelspec": {
   "display_name": "ilumpy",
   "language": "python",
   "name": "ilumpy"
  },
  "language_info": {
   "codemirror_mode": {
    "name": "ipython",
    "version": 3
   },
   "file_extension": ".py",
   "mimetype": "text/x-python",
   "name": "python",
   "nbconvert_exporter": "python",
   "pygments_lexer": "ipython3",
   "version": "3.9.7"
  },
  "org": null
 },
 "nbformat": 4,
 "nbformat_minor": 4
}
