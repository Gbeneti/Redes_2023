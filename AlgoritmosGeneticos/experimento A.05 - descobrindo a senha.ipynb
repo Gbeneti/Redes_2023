{
 "cells": [
  {
   "cell_type": "markdown",
   "metadata": {},
   "source": [
    "Descobrindo a senha\n",
    "===================\n",
    "\n"
   ]
  },
  {
   "cell_type": "markdown",
   "metadata": {},
   "source": [
    "## Objetivo\n",
    "\n"
   ]
  },
  {
   "cell_type": "markdown",
   "metadata": {},
   "source": [
    "Usar um algoritmo genético para descobrir uma senha.\n",
    "\n"
   ]
  },
  {
   "cell_type": "markdown",
   "metadata": {},
   "source": [
    "## Descrição do problema\n",
    "\n"
   ]
  },
  {
   "cell_type": "markdown",
   "metadata": {},
   "source": [
    "Neste problema, a função objetivo deve saber a senha correta e quantificar de alguma maneira o quão perto ou longe os palpites estão da solução (veja que isso é algo que não temos no mundo real. Nenhum site irá te dizer se você está acertando ou errando seu palpite). O critério de parada deste problema é quando a senha for descoberta.\n",
    "\n"
   ]
  },
  {
   "cell_type": "markdown",
   "metadata": {},
   "source": [
    "## Importações\n",
    "\n"
   ]
  },
  {
   "cell_type": "code",
   "execution_count": 1,
   "metadata": {},
   "outputs": [],
   "source": [
    "from funcoes import populacao_inicial_senha\n",
    "from funcoes import funcao_objetivo_pop_senha\n",
    "from funcoes import selecao_torneio_min\n",
    "from funcoes import cruzamento_ponto_simples as funcao_cruzamento\n",
    "from funcoes import mutacao_senha\n",
    "import random"
   ]
  },
  {
   "cell_type": "markdown",
   "metadata": {},
   "source": [
    "## Códigos e discussão\n",
    "\n"
   ]
  },
  {
   "cell_type": "code",
   "execution_count": 2,
   "metadata": {},
   "outputs": [],
   "source": [
    "### CONSTANTES\n",
    "\n",
    "# relacionadas à busca\n",
    "TAMANHO_POP = 50\n",
    "CHANCE_CRUZAMENTO = 0.5\n",
    "CHANCE_MUTACAO = 0.05\n",
    "NUM_COMBATENTES_NO_TORNEIO = 3\n",
    "\n",
    "# relacionadas ao problema a ser resulvido\n",
    "SENHA = \"correcthorsebatterystaple\"\n",
    "LETRAS_POSSIVEIS = \"abcdefghijklmnopqrstuvwxyz\"\n",
    "NUM_GENES = len(SENHA)"
   ]
  },
  {
   "cell_type": "code",
   "execution_count": 3,
   "metadata": {},
   "outputs": [],
   "source": [
    "# funções locais\n",
    "\n",
    "def cria_populacao_inicial(tamanho, tamanho_senha):\n",
    "    return populacao_inicial_senha(tamanho, tamanho_senha, LETRAS_POSSIVEIS)\n",
    "\n",
    "def funcao_objetivo_pop(populacao):\n",
    "    return funcao_objetivo_pop_senha(populacao, SENHA)\n",
    "\n",
    "def funcao_selecao(populacao, fitness):\n",
    "    return selecao_torneio_min(populacao, fitness, NUM_COMBATENTES_NO_TORNEIO)\n",
    "\n",
    "def funcao_mutacao(individuo):\n",
    "    return mutacao_senha(individuo, LETRAS_POSSIVEIS)"
   ]
  },
  {
   "cell_type": "code",
   "execution_count": 4,
   "metadata": {},
   "outputs": [
    {
     "name": "stdout",
     "output_type": "stream",
     "text": [
      "Progresso da melhor senha já vista:\n",
      "jrvqcgwkkpidqrbpqrylvddol - fitness: 144\n",
      "boeqcgutonythasysttpzgcub - fitness: 132\n",
      "boeqcgutonythaspqrylvddol - fitness: 116\n",
      "jrvqcgwkkpidhaspqrylvddol - fitness: 101\n",
      "jrvqcgwkkpythasyqrypoakjl - fitness: 100\n",
      "jrvqcgwkkpidhaspqrylvakjl - fitness: 90\n",
      "bovqcgwkkpidhaspqrylvakjl - fitness: 81\n",
      "jrvqcgwkkpidhaspdrylvakjl - fitness: 79\n",
      "bovqcgwkkpidhasyqrypvakjl - fitness: 78\n",
      "bovqcgwkkpkdhbsyqrypvakjl - fitness: 77\n",
      "bovqcgwkkpkdhbspqrypvakjl - fitness: 76\n",
      "bovqcgwkkpkdhbspqrypvakja - fitness: 73\n",
      "bovqcgwkkpkdhbspqrypvakjb - fitness: 72\n",
      "bovqcgwkkpkdhbspnrypvakja - fitness: 70\n",
      "bovqcgwkkpkdhbspnrypvakjb - fitness: 69\n",
      "bovqcgwkkpkdcbspnrypvakja - fitness: 65\n",
      "bovqcgwkkpkdcbspnrypvakjb - fitness: 64\n",
      "bovqegwkkpkdcbspnrypvakja - fitness: 63\n",
      "bovqegwkkpkdcbspnrypvakjb - fitness: 62\n",
      "bovqcewkkpkdcbspnrypsakjb - fitness: 61\n",
      "bovqegwkkpydcbspnrypsakjb - fitness: 59\n",
      "bovqeewkkpydcbspnrypsakjb - fitness: 57\n",
      "bovqeewkkpydcbsphrypsakjb - fitness: 51\n",
      "bovqeewkkpsdcbsphrypsakjb - fitness: 45\n",
      "bovqeewkkpsdcbsrhrypsakjb - fitness: 43\n",
      "bovqeewkkpsdcbsrhrypsanjb - fitness: 40\n",
      "dovqeewjkpsdcbsrhrypsanjb - fitness: 39\n",
      "bovqeewjqpsdcbsrhrypsanjb - fitness: 37\n",
      "bovqeewjqpsdcbsthrypsanjb - fitness: 35\n",
      "dovqeewjqpsdcbsthryqsanjb - fitness: 34\n",
      "dovqeewjqpsdcbstfrypsanjb - fitness: 33\n",
      "bovqeewjqpsdcbstfryqsanjb - fitness: 32\n",
      "dovqeewjqrsdcbsthryqsapjb - fitness: 30\n",
      "dovqeeujqrsdcbsthryqsapjb - fitness: 28\n",
      "dovqeetjqrsdcbsthryqsapjb - fitness: 27\n",
      "dovqebtjqrsdcbsthryqsapjb - fitness: 26\n",
      "doqqebtjqrsdcbsthryqsapjb - fitness: 23\n",
      "doqqebtjqrsecbsthryqsapjb - fitness: 22\n",
      "doqqebtjorsecbsthryqsapjb - fitness: 20\n",
      "doqqebtjorsecbtthryqsapjb - fitness: 19\n",
      "doqqebtjorsecbtthryqsapjd - fitness: 17\n",
      "doqqebtjorsecbtthryqsapje - fitness: 16\n",
      "doqqebtjorsecbtthryqsapke - fitness: 15\n",
      "dorqebtjorsecbtthryqsapke - fitness: 14\n",
      "dorqebtjorsecbttgryqsapke - fitness: 13\n",
      "dorqebthorsecbttgryqsapke - fitness: 11\n",
      "dorqebthorsecbttgryrsapke - fitness: 10\n",
      "corqebthorsecbttgryrsapke - fitness: 9\n",
      "corqebthorsecbttgryssapke - fitness: 8\n",
      "corqebthorsecattgryssapke - fitness: 7\n",
      "corqebthorsecattfryssapke - fitness: 6\n",
      "corqebthorsecatteryssapke - fitness: 5\n",
      "correbthorsecatteryssapke - fitness: 4\n",
      "correbthorseaatterystapke - fitness: 3\n",
      "correbthorsebatterystapke - fitness: 2\n",
      "correbthorsebatterystaple - fitness: 1\n",
      "correcthorsebatterystaple - fitness: 0\n",
      "\n",
      "Melhor palpite da senha encontrado:\n",
      "correcthorsebatterystaple\n"
     ]
    }
   ],
   "source": [
    "populacao = cria_populacao_inicial(TAMANHO_POP, NUM_GENES)\n",
    "\n",
    "melhor_fitness_ja_visto = float(\"inf\")  # é assim que escrevemos infinito em python\n",
    "\n",
    "print(\"Progresso da melhor senha já vista:\")\n",
    "\n",
    "while melhor_fitness_ja_visto != 0:\n",
    "    \n",
    "    # Seleção\n",
    "    fitness = funcao_objetivo_pop(populacao)\n",
    "    populacao = funcao_selecao(populacao, fitness)\n",
    "    \n",
    "    # Cruzamento\n",
    "    pais = populacao[0::2]\n",
    "    maes = populacao[1::2]\n",
    "    \n",
    "    contador = 0\n",
    "    \n",
    "    for pai, mae in zip(pais, maes):\n",
    "        if random.random() <= CHANCE_CRUZAMENTO:\n",
    "            filho1, filho2 = funcao_cruzamento(pai, mae)\n",
    "            populacao[contador] = filho1\n",
    "            populacao[contador + 1] = filho2\n",
    "        \n",
    "        contador = contador + 2   \n",
    "        \n",
    "    # Mutação\n",
    "    for n in range(len(populacao)):\n",
    "        if random.random() <= CHANCE_MUTACAO:\n",
    "            individuo = populacao[n]\n",
    "            populacao[n] = funcao_mutacao(individuo)            \n",
    "            \n",
    "    # melhor individuo já visto até agora\n",
    "    fitness = funcao_objetivo_pop(populacao)\n",
    "    menor_fitness = min(fitness)\n",
    "    if menor_fitness < melhor_fitness_ja_visto:        \n",
    "        posicao = fitness.index(menor_fitness)\n",
    "        melhor_individuo_ja_visto = populacao[posicao]\n",
    "        melhor_fitness_ja_visto = menor_fitness\n",
    "        print(\"\".join(melhor_individuo_ja_visto), \"- fitness:\", melhor_fitness_ja_visto)\n",
    "\n",
    "print()\n",
    "print(\"Melhor palpite da senha encontrado:\")\n",
    "print(\"\".join(melhor_individuo_ja_visto))"
   ]
  },
  {
   "cell_type": "markdown",
   "metadata": {},
   "source": [
    "## Conclusão\n",
    "Conseguiu-se resolver o problema de \"resolver senha\" com algoritmos genéticos. Observou-se, através de várias rodadas, que este é um algoritmo probabilístico, pois o resultado obtido em várias rodadas foi diferente (os resultados variam de acordo com as constantes definidas, mas ainda sim o sistema de funcionamento é probabilístico). Isso é evidenciado prinicpalmente pela função de mutação. Assim, diferentes pessoas podem rodar o mesmo código e adquirir tempos de conversão distintos (pode-se demorar mais ou menos para convergir). Além do mais, geerações, para este algoritmo, não são necessárias, uma vez que o código não é muito pesado, ao mesmo tempo em que se sabe a resposta. Assim, pôde-se trocar o \"for {geração}\" para um \"while\" e mesmo assim a modificação no script principal foi mínima. Além disso, explicitou-se a flexibilidade dos algoritmos genéticos, em que a criatividade pode ser a chave para diferenciar um algoritmo \"bom\" e um \"ótimo\". "
   ]
  },
  {
   "cell_type": "markdown",
   "metadata": {},
   "source": [
    "## Playground\n",
    "\n"
   ]
  },
  {
   "cell_type": "code",
   "execution_count": null,
   "metadata": {},
   "outputs": [],
   "source": []
  }
 ],
 "metadata": {
  "kernelspec": {
   "display_name": "my_env",
   "language": "python",
   "name": "my_env"
  },
  "language_info": {
   "codemirror_mode": {
    "name": "ipython",
    "version": 3
   },
   "file_extension": ".py",
   "mimetype": "text/x-python",
   "name": "python",
   "nbconvert_exporter": "python",
   "pygments_lexer": "ipython3",
   "version": "3.10.6"
  },
  "org": null
 },
 "nbformat": 4,
 "nbformat_minor": 4
}
