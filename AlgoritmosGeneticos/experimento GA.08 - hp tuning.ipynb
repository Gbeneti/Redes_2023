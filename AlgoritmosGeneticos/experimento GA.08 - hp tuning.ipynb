{
 "cells": [
  {
   "cell_type": "markdown",
   "metadata": {},
   "source": [
    "## Otimização de hiperparâmetros\n",
    "\n"
   ]
  },
  {
   "cell_type": "markdown",
   "metadata": {},
   "source": [
    "## Introdução\n",
    "\n"
   ]
  },
  {
   "cell_type": "markdown",
   "metadata": {},
   "source": [
    "Escolheu-se \"árvores aleatórias\" como algoritmo para otimizar três hiperparâmetros utilizando-se de redes neurais para achar o melhor conjunto de hiperparâmetros.\n"
   ]
  },
  {
   "cell_type": "markdown",
   "metadata": {},
   "source": [
    "## Objetivo\n",
    "\n"
   ]
  },
  {
   "cell_type": "markdown",
   "metadata": {},
   "source": [
    "**Objetivo**: use algoritmos genéticos para encontrar um bom conjunto de hiperparâmetros em um experimento de aprendizado de máquina. Escolha um algoritmo que tenha pelo menos 3 hiperparâmetros para serem otimizados.\n",
    "\n"
   ]
  },
  {
   "cell_type": "markdown",
   "metadata": {},
   "source": [
    "## Importações\n",
    "\n"
   ]
  },
  {
   "cell_type": "markdown",
   "metadata": {},
   "source": [
    "Todos os comandos de `import` devem estar dentro desta seção.\n",
    "\n"
   ]
  },
  {
   "cell_type": "code",
   "execution_count": 1,
   "metadata": {},
   "outputs": [],
   "source": [
    "import seaborn as sns\n",
    "from sklearn.model_selection import train_test_split\n",
    "from sklearn.tree import DecisionTreeRegressor\n",
    "from sklearn.metrics import mean_squared_error\n",
    "from itertools import product"
   ]
  },
  {
   "cell_type": "markdown",
   "metadata": {},
   "source": [
    "## Códigos e discussão\n",
    "\n"
   ]
  },
  {
   "cell_type": "markdown",
   "metadata": {},
   "source": [
    "-   Use células de código para o código.\n",
    "\n",
    "-   Use células de texto para a discussão.\n",
    "\n",
    "-   A discussão não deve ser feita em comentários dentro das células de código. Toda discussão deve acontecer após o resultado sendo discutido foi apresentado. Exemplo: não discuta um gráfico antes de apresentá-lo.\n",
    "\n"
   ]
  },
  {
   "cell_type": "code",
   "execution_count": null,
   "metadata": {},
   "outputs": [],
   "source": [
    "######################################\n",
    "# CÓDIGO INCOMPLETO\n",
    "######################################\n",
    "#O QUE PRECISA SER FEITO:\n",
    "#DEFINIR UM JEITO MAIS EFICIENTE DE CRIAR GENES\n",
    "#DEFINIR A FUNCAO MUTACAO\n",
    "#VER SE O CODIGO RODA\n",
    "\n",
    "######################################"
   ]
  },
  {
   "cell_type": "code",
   "execution_count": null,
   "metadata": {},
   "outputs": [],
   "source": []
  },
  {
   "cell_type": "code",
   "execution_count": 2,
   "metadata": {},
   "outputs": [],
   "source": [
    "### CONSTANTES\n",
    "\n",
    "# relacionadas à busca\n",
    "TAMANHO_POP = 40\n",
    "CHANCE_CRUZAMENTO = 0.5\n",
    "CHANCE_MUTACAO = 0.05\n",
    "NUM_COMBATENTES_NO_TORNEIO = 3\n",
    "#NUM_GERACOES = 30\n",
    "NUM_GENES = 5\n",
    "\n",
    "# relacionadas ao problema a ser resolvido - dataset\n",
    "TAMANHO_TESTE = 0.1\n",
    "SEMENTE_ALEATORIA = 1024\n",
    "DATASET_NAME = \"diamonds\"\n",
    "FEATURES = [\"carat\", \"depth\", \"table\", \"x\", \"y\", \"z\"]\n",
    "TARGET = [\"price\"]\n",
    "\n",
    "\n",
    "# relacionadas ao problema a ser resolvido - hiperparametros\n",
    "#irei variar \"NUM_FOLHAS, NUM_PROFUNDIDADE, MINIMO_FOLHAS\"\n",
    "#deixei aqui o resto para demonstrar o que se poderia variar. o resto está nos valores padrão\n",
    "#NUM_FOLHAS = 50 #max_leaf_nodes\n",
    "#NUM_PROFUNDIDADE = 70 #max_depth\n",
    "#CRITERIO = 'absolute_error'\n",
    "SPLITTER = \"best\"\n",
    "#MINIMO_SPLIT = 2 #min_samples_split\n",
    "MINIMO_FOLHAS = 1\n",
    "PESO_FOLHAS = 0.0\n",
    "MAXIMO_FEATURES = None\n",
    "IMPUREZA_MINIMO = 0.0\n",
    "COMPLEXO_ALPHA = 0.0\n"
   ]
  },
  {
   "cell_type": "code",
   "execution_count": 3,
   "metadata": {},
   "outputs": [
    {
     "data": {
      "text/html": [
       "<div>\n",
       "<style scoped>\n",
       "    .dataframe tbody tr th:only-of-type {\n",
       "        vertical-align: middle;\n",
       "    }\n",
       "\n",
       "    .dataframe tbody tr th {\n",
       "        vertical-align: top;\n",
       "    }\n",
       "\n",
       "    .dataframe thead th {\n",
       "        text-align: right;\n",
       "    }\n",
       "</style>\n",
       "<table border=\"1\" class=\"dataframe\">\n",
       "  <thead>\n",
       "    <tr style=\"text-align: right;\">\n",
       "      <th></th>\n",
       "      <th>carat</th>\n",
       "      <th>cut</th>\n",
       "      <th>color</th>\n",
       "      <th>clarity</th>\n",
       "      <th>depth</th>\n",
       "      <th>table</th>\n",
       "      <th>price</th>\n",
       "      <th>x</th>\n",
       "      <th>y</th>\n",
       "      <th>z</th>\n",
       "    </tr>\n",
       "  </thead>\n",
       "  <tbody>\n",
       "    <tr>\n",
       "      <th>0</th>\n",
       "      <td>0.23</td>\n",
       "      <td>Ideal</td>\n",
       "      <td>E</td>\n",
       "      <td>SI2</td>\n",
       "      <td>61.5</td>\n",
       "      <td>55.0</td>\n",
       "      <td>326</td>\n",
       "      <td>3.95</td>\n",
       "      <td>3.98</td>\n",
       "      <td>2.43</td>\n",
       "    </tr>\n",
       "    <tr>\n",
       "      <th>1</th>\n",
       "      <td>0.21</td>\n",
       "      <td>Premium</td>\n",
       "      <td>E</td>\n",
       "      <td>SI1</td>\n",
       "      <td>59.8</td>\n",
       "      <td>61.0</td>\n",
       "      <td>326</td>\n",
       "      <td>3.89</td>\n",
       "      <td>3.84</td>\n",
       "      <td>2.31</td>\n",
       "    </tr>\n",
       "    <tr>\n",
       "      <th>2</th>\n",
       "      <td>0.23</td>\n",
       "      <td>Good</td>\n",
       "      <td>E</td>\n",
       "      <td>VS1</td>\n",
       "      <td>56.9</td>\n",
       "      <td>65.0</td>\n",
       "      <td>327</td>\n",
       "      <td>4.05</td>\n",
       "      <td>4.07</td>\n",
       "      <td>2.31</td>\n",
       "    </tr>\n",
       "    <tr>\n",
       "      <th>3</th>\n",
       "      <td>0.29</td>\n",
       "      <td>Premium</td>\n",
       "      <td>I</td>\n",
       "      <td>VS2</td>\n",
       "      <td>62.4</td>\n",
       "      <td>58.0</td>\n",
       "      <td>334</td>\n",
       "      <td>4.20</td>\n",
       "      <td>4.23</td>\n",
       "      <td>2.63</td>\n",
       "    </tr>\n",
       "    <tr>\n",
       "      <th>4</th>\n",
       "      <td>0.31</td>\n",
       "      <td>Good</td>\n",
       "      <td>J</td>\n",
       "      <td>SI2</td>\n",
       "      <td>63.3</td>\n",
       "      <td>58.0</td>\n",
       "      <td>335</td>\n",
       "      <td>4.34</td>\n",
       "      <td>4.35</td>\n",
       "      <td>2.75</td>\n",
       "    </tr>\n",
       "    <tr>\n",
       "      <th>...</th>\n",
       "      <td>...</td>\n",
       "      <td>...</td>\n",
       "      <td>...</td>\n",
       "      <td>...</td>\n",
       "      <td>...</td>\n",
       "      <td>...</td>\n",
       "      <td>...</td>\n",
       "      <td>...</td>\n",
       "      <td>...</td>\n",
       "      <td>...</td>\n",
       "    </tr>\n",
       "    <tr>\n",
       "      <th>53935</th>\n",
       "      <td>0.72</td>\n",
       "      <td>Ideal</td>\n",
       "      <td>D</td>\n",
       "      <td>SI1</td>\n",
       "      <td>60.8</td>\n",
       "      <td>57.0</td>\n",
       "      <td>2757</td>\n",
       "      <td>5.75</td>\n",
       "      <td>5.76</td>\n",
       "      <td>3.50</td>\n",
       "    </tr>\n",
       "    <tr>\n",
       "      <th>53936</th>\n",
       "      <td>0.72</td>\n",
       "      <td>Good</td>\n",
       "      <td>D</td>\n",
       "      <td>SI1</td>\n",
       "      <td>63.1</td>\n",
       "      <td>55.0</td>\n",
       "      <td>2757</td>\n",
       "      <td>5.69</td>\n",
       "      <td>5.75</td>\n",
       "      <td>3.61</td>\n",
       "    </tr>\n",
       "    <tr>\n",
       "      <th>53937</th>\n",
       "      <td>0.70</td>\n",
       "      <td>Very Good</td>\n",
       "      <td>D</td>\n",
       "      <td>SI1</td>\n",
       "      <td>62.8</td>\n",
       "      <td>60.0</td>\n",
       "      <td>2757</td>\n",
       "      <td>5.66</td>\n",
       "      <td>5.68</td>\n",
       "      <td>3.56</td>\n",
       "    </tr>\n",
       "    <tr>\n",
       "      <th>53938</th>\n",
       "      <td>0.86</td>\n",
       "      <td>Premium</td>\n",
       "      <td>H</td>\n",
       "      <td>SI2</td>\n",
       "      <td>61.0</td>\n",
       "      <td>58.0</td>\n",
       "      <td>2757</td>\n",
       "      <td>6.15</td>\n",
       "      <td>6.12</td>\n",
       "      <td>3.74</td>\n",
       "    </tr>\n",
       "    <tr>\n",
       "      <th>53939</th>\n",
       "      <td>0.75</td>\n",
       "      <td>Ideal</td>\n",
       "      <td>D</td>\n",
       "      <td>SI2</td>\n",
       "      <td>62.2</td>\n",
       "      <td>55.0</td>\n",
       "      <td>2757</td>\n",
       "      <td>5.83</td>\n",
       "      <td>5.87</td>\n",
       "      <td>3.64</td>\n",
       "    </tr>\n",
       "  </tbody>\n",
       "</table>\n",
       "<p>53940 rows × 10 columns</p>\n",
       "</div>"
      ],
      "text/plain": [
       "       carat        cut color clarity  depth  table  price     x     y     z\n",
       "0       0.23      Ideal     E     SI2   61.5   55.0    326  3.95  3.98  2.43\n",
       "1       0.21    Premium     E     SI1   59.8   61.0    326  3.89  3.84  2.31\n",
       "2       0.23       Good     E     VS1   56.9   65.0    327  4.05  4.07  2.31\n",
       "3       0.29    Premium     I     VS2   62.4   58.0    334  4.20  4.23  2.63\n",
       "4       0.31       Good     J     SI2   63.3   58.0    335  4.34  4.35  2.75\n",
       "...      ...        ...   ...     ...    ...    ...    ...   ...   ...   ...\n",
       "53935   0.72      Ideal     D     SI1   60.8   57.0   2757  5.75  5.76  3.50\n",
       "53936   0.72       Good     D     SI1   63.1   55.0   2757  5.69  5.75  3.61\n",
       "53937   0.70  Very Good     D     SI1   62.8   60.0   2757  5.66  5.68  3.56\n",
       "53938   0.86    Premium     H     SI2   61.0   58.0   2757  6.15  6.12  3.74\n",
       "53939   0.75      Ideal     D     SI2   62.2   55.0   2757  5.83  5.87  3.64\n",
       "\n",
       "[53940 rows x 10 columns]"
      ]
     },
     "execution_count": 3,
     "metadata": {},
     "output_type": "execute_result"
    }
   ],
   "source": [
    "df = sns.load_dataset(DATASET_NAME) #criação do dataset\n",
    "df"
   ]
  },
  {
   "cell_type": "code",
   "execution_count": 4,
   "metadata": {},
   "outputs": [],
   "source": [
    "tamanho = 0.25 # Fração de dados escolhida para treino e teste\n",
    "seed = SEMENTE_ALEATORIA\n",
    "\n",
    "i = df.index\n",
    "i_treino, i_teste = train_test_split(i, test_size=tamanho, random_state = seed)\n",
    "\n",
    "df_treino = df.loc[i_treino]\n",
    "df_teste = df.loc[i_teste]"
   ]
  },
  {
   "cell_type": "code",
   "execution_count": 5,
   "metadata": {},
   "outputs": [],
   "source": [
    "X_treino = df_treino.reindex(FEATURES, axis=1).values\n",
    "y_treino = df_treino.reindex(TARGET, axis=1).values\n",
    "X_teste = df_teste.reindex(FEATURES, axis=1).values\n",
    "y_teste = df_teste.reindex(TARGET, axis=1).values"
   ]
  },
  {
   "cell_type": "code",
   "execution_count": 6,
   "metadata": {
    "tags": []
   },
   "outputs": [],
   "source": [
    "def gene_hiperparametros(min_hiperparametro, max_hiperparametro):\n",
    "    '''Gera um valor aleatório para cada hiperparâmetro em uma dada faixa.\n",
    "    \n",
    "    Returns:\n",
    "        Um valor válido para os 3 hiparparâmetros variados\n",
    "        '''\n",
    "    if min_hiperparametro <= 0:\n",
    "        return 'o valor minimo do hiperparametro não pode ser menor ou igual a zero'\n",
    "    \n",
    "    lista_faixa_hiperparametro = range(min_hiperparametro, max_hiperparametro+1) #anula o -1 do range\n",
    "    gene = random.choice(lista_faixa_hiperparametro)\n",
    "\n",
    "    return gene"
   ]
  },
  {
   "cell_type": "code",
   "execution_count": 7,
   "metadata": {
    "tags": []
   },
   "outputs": [],
   "source": [
    "def individuo_hiperparametros(quantidade_hiperparametros,min_hiperparametro,max_hiperparametro):\n",
    "    candidato = []\n",
    "\n",
    "    for _ in range(0,quantidade_hiperparametros):\n",
    "        candidato.append(gene_hiperparametros(min_hiperparametro,max_hiperparametro))\n",
    "\n",
    "    return candidato"
   ]
  },
  {
   "cell_type": "code",
   "execution_count": 8,
   "metadata": {},
   "outputs": [],
   "source": [
    "def populacao_inicial_hiperparametros(tamanho, quantidade_hiperparametros,min_hiperparametro,max_hiperparametro): \n",
    "\n",
    "    populacao = []\n",
    "    for _ in range(tamanho):\n",
    "        populacao.append(individuo_hiperparametros(quantidade_hiperparametros,min_hiperparametro,max_hiperparametro)) #cria uma lista de listas como populacao\n",
    "    return populacao\n"
   ]
  },
  {
   "cell_type": "code",
   "execution_count": 9,
   "metadata": {},
   "outputs": [],
   "source": [
    "def selecao_torneio_min(populacao, fitness, tamanho_torneio=3): #implementada em funcoes.py\n",
    "    \"\"\"Faz a seleção de uma população usando torneio.\n",
    "\n",
    "    Nota: da forma que está implementada, só funciona em problemas de\n",
    "    minimização.\n",
    "\n",
    "    Args:\n",
    "      populacao: população do problema\n",
    "      fitness: lista com os valores de fitness dos individuos da população\n",
    "      tamanho_torneio: quantidade de invidiuos que batalham entre si\n",
    "\n",
    "    Returns:\n",
    "      Individuos selecionados. Lista com os individuos selecionados com mesmo\n",
    "      tamanho do argumento `populacao`.\n",
    "    \"\"\"\n",
    "    selecionados = []\n",
    "\n",
    "    # criamos essa variável para associar cada individuo com seu valor de fitness\n",
    "    par_populacao_fitness = list(zip(populacao, fitness))\n",
    "\n",
    "    # vamos fazer len(populacao) torneios! Que comecem os jogos!\n",
    "    for _ in range(len(populacao)):\n",
    "        combatentes = random.sample(par_populacao_fitness, tamanho_torneio)\n",
    "\n",
    "        # é assim que se escreve infinito em python\n",
    "        minimo_fitness = float(\"inf\")\n",
    "\n",
    "        for par_individuo_fitness in combatentes:\n",
    "            individuo = par_individuo_fitness[0]\n",
    "            fit = par_individuo_fitness[1]\n",
    "\n",
    "            # queremos o individuo de menor fitness\n",
    "            if fit < minimo_fitness:\n",
    "                selecionado = individuo\n",
    "                minimo_fitness = fit\n",
    "\n",
    "        selecionados.append(selecionado)\n",
    "\n",
    "    return selecionados\n"
   ]
  },
  {
   "cell_type": "code",
   "execution_count": 10,
   "metadata": {},
   "outputs": [],
   "source": [
    "def cruzamento_ordenado(pai, mae): #implementado em funcoes.py\n",
    "    \"\"\"Operador de cruzamento ordenado.\n",
    "\n",
    "    Neste cruzamento, os filhos mantém os mesmos genes que seus pais tinham,\n",
    "    porém em uma outra ordem. Trata-se de um tipo de cruzamento útil para\n",
    "    problemas onde a ordem dos genes é importante e não podemos alterar os genes\n",
    "    em si. É um cruzamento que pode ser usado no problema do caixeiro viajante.\n",
    "\n",
    "    Ver pág. 37 do livro do Wirsansky.\n",
    "\n",
    "    Args:\n",
    "      pai: uma lista representando um individuo\n",
    "      mae : uma lista representando um individuo\n",
    "\n",
    "    Returns:\n",
    "      Duas listas, sendo que cada uma representa um filho dos pais que foram os\n",
    "      argumentos. Estas listas mantém os genes originais dos pais, porém altera\n",
    "      a ordem deles\n",
    "    \"\"\"\n",
    "    corte1 = random.randint(0, len(pai) - 2)\n",
    "    corte2 = random.randint(corte1 + 1, len(pai) - 1)\n",
    "    \n",
    "    filho1 = pai[corte1:corte2]\n",
    "    for gene in mae:\n",
    "        if gene not in filho1:\n",
    "            filho1.append(gene)\n",
    "            \n",
    "    filho2 = mae[corte1:corte2]\n",
    "    for gene in pai:\n",
    "        if gene not in filho2:\n",
    "            filho2.append(gene)\n",
    "            \n",
    "    return filho1, filho2"
   ]
  },
  {
   "cell_type": "code",
   "execution_count": 11,
   "metadata": {},
   "outputs": [],
   "source": [
    "def funcao_objetivo_standard():\n",
    "\n",
    "    y_verdadeiro = y_teste\n",
    "    y_previsao = modelo_dt.predict(X_teste)\n",
    "\n",
    "    MSE_standard = mean_squared_error(y_verdadeiro, y_previsao, squared=True)\n",
    "\n",
    "    return MSE_standard"
   ]
  },
  {
   "cell_type": "code",
   "execution_count": 12,
   "metadata": {},
   "outputs": [],
   "source": [
    "def funcao_objetivo_hiperparametros(individuo):\n",
    "    num_folhas = individuo[0]\n",
    "    num_profundidade = individuo[1]\n",
    "    min_samples_folhas = individuo[2]\n",
    "    \n",
    "    modelo_dt = DecisionTreeRegressor(\n",
    "        max_leaf_nodes=num_folhas,\n",
    "        max_depth=num_profundidade,\n",
    "        #criterion=CRITERIO,\n",
    "        #splitter=SPLITTER,\n",
    "        #min_samples_split=MINIMO_SPLIT,\n",
    "        min_samples_leaf=MINIMO_FOLHAS,\n",
    "        #min_weight_fraction_leaf=PESO_FOLHAS,\n",
    "        #max_features=MAXIMO_FEATURES,\n",
    "        #min_impurity_decrease=IMPUREZA_MINIMO,\n",
    "        #ccp_alpha=COMPLEXO_ALPHA,\n",
    "        random_state=1024,\n",
    "    )\n",
    "\n",
    "    modelo_dt.fit(X_treino, y_treino)\n",
    "\n",
    "    y_verdadeiro = y_teste\n",
    "    y_previsao = modelo_dt.predict(X_teste)\n",
    "    MSE = mean_squared_error(y_verdadeiro, y_previsao, squared=True)\n",
    "\n",
    "    MSE_standard = funcao_objetivo_standard()\n",
    "    \n",
    "    fitness = 0\n",
    "\n",
    "    if MSE < MSE_standard:\n",
    "        fitness += 500\n",
    "        \n",
    "    else:\n",
    "        fitness +=0\n",
    "\n",
    "\n",
    "    return fitness"
   ]
  },
  {
   "cell_type": "code",
   "execution_count": 15,
   "metadata": {},
   "outputs": [],
   "source": [
    "def funcao_objetivo_pop_hiperparametros(populacao):\n",
    "\n",
    "    #print(populacao)\n",
    "    fitness_pop = []\n",
    "    for individuo in populacao:\n",
    "        fitness_individuo = funcao_objetivo_palindromo(individuo)\n",
    "        \n",
    "        fitness_pop.append(fitness_individuo)\n",
    "    return fitness_pop\n"
   ]
  },
  {
   "cell_type": "code",
   "execution_count": 17,
   "metadata": {},
   "outputs": [],
   "source": [
    "# funções locais\n",
    "\n",
    "def cria_populacao_inicial(tamanho_pop,num_genes)\n",
    "\n",
    "def funcao_objetivo_pop(populacao):\n",
    "    return funcao_objetivo_pop_hiperparametros(populacao)\n",
    "\n",
    "def funcao_mutacao(individuo):\n",
    "    return mutacao_espelhada_palindromo(individuo, LETRAS_POSSIVEIS)"
   ]
  },
  {
   "cell_type": "code",
   "execution_count": 18,
   "metadata": {},
   "outputs": [
    {
     "ename": "NameError",
     "evalue": "name 'cria_populacao_inicial' is not defined",
     "output_type": "error",
     "traceback": [
      "\u001b[0;31m---------------------------------------------------------------------------\u001b[0m",
      "\u001b[0;31mNameError\u001b[0m                                 Traceback (most recent call last)",
      "Cell \u001b[0;32mIn[18], line 1\u001b[0m\n\u001b[0;32m----> 1\u001b[0m populacao \u001b[38;5;241m=\u001b[39m \u001b[43mcria_populacao_inicial\u001b[49m(TAMANHO_POP, NUM_GENES,LETRAS_POSSIVEIS)\n\u001b[1;32m      2\u001b[0m set_palindromos \u001b[38;5;241m=\u001b[39m \u001b[38;5;28mset\u001b[39m()\n\u001b[1;32m      4\u001b[0m \u001b[38;5;28;01mwhile\u001b[39;00m \u001b[38;5;28mlen\u001b[39m(set_palindromos) \u001b[38;5;241m!=\u001b[39m QUANTIDADE_PALINDROMOS:\n\u001b[1;32m      5\u001b[0m     \n\u001b[1;32m      6\u001b[0m     \u001b[38;5;66;03m# Seleção\u001b[39;00m\n",
      "\u001b[0;31mNameError\u001b[0m: name 'cria_populacao_inicial' is not defined"
     ]
    }
   ],
   "source": [
    "populacao = cria_populacao_inicial(TAMANHO_POP, NUM_GENES,LETRAS_POSSIVEIS)\n",
    "set_palindromos = set()\n",
    "\n",
    "while len(set_palindromos) != QUANTIDADE_PALINDROMOS:\n",
    "    \n",
    "    # Seleção\n",
    "    fitness = funcao_objetivo_pop(populacao)\n",
    "    populacao = funcao_selecao(populacao, fitness)\n",
    "    \n",
    "    # Cruzamento\n",
    "    pais = populacao[0::2]\n",
    "    maes = populacao[1::2]\n",
    "    \n",
    "    contador = 0\n",
    "    \n",
    "    for pai, mae in zip(pais, maes):\n",
    "        if random.random() <= CHANCE_CRUZAMENTO:\n",
    "            filho1, filho2 = funcao_cruzamento(pai, mae)\n",
    "            populacao[contador] = filho1\n",
    "            populacao[contador + 1] = filho2\n",
    "        \n",
    "        contador = contador + 2   \n",
    "        \n",
    "    # Mutação\n",
    "    for n in range(len(populacao)):\n",
    "        if random.random() <= CHANCE_MUTACAO:\n",
    "            individuo = populacao[n]\n",
    "            populacao[n] = funcao_mutacao(individuo)            \n",
    "            \n",
    "    # melhor individuo já visto até agora\n",
    "    fitness = funcao_objetivo_pop(populacao)\n",
    "    menor_fitness = min(fitness)\n",
    "    if menor_fitness == 0:       \n",
    "        posicao = fitness.index(menor_fitness)\n",
    "        melhor_individuo_ja_visto = ''.join(populacao[posicao]) #list is unhasheable\n",
    "        set_palindromos.add(melhor_individuo_ja_visto)\n",
    "\n",
    "print()\n",
    "print(f'Aqui estão {QUANTIDADE_PALINDROMOS} palindromos diferentes:')\n",
    "print(set_palindromos)"
   ]
  },
  {
   "cell_type": "code",
   "execution_count": null,
   "metadata": {},
   "outputs": [],
   "source": []
  },
  {
   "cell_type": "markdown",
   "metadata": {},
   "source": [
    "## Conclusão\n",
    "\n"
   ]
  },
  {
   "cell_type": "markdown",
   "metadata": {},
   "source": [
    "Delete este texto e escreva sua conclusão.\n",
    "\n"
   ]
  },
  {
   "cell_type": "markdown",
   "metadata": {},
   "source": [
    "## Referências consultadas\n",
    "\n"
   ]
  },
  {
   "cell_type": "markdown",
   "metadata": {},
   "source": [
    "1.  Delete este texto e inclua suas referências ordenadas numericamente. Se for referenciar no notebook, use o número entre colchetes (exemplo: para citar essa referência aqui escreva &ldquo;[1]&rdquo; sem as áspas).\n",
    "\n",
    "2.  Cada item deve ser numerado. Siga o padrão apresentado.\n",
    "\n",
    "3.  Caso não tenha nenhuma referência consultada, delete esta seção e o texto contido nela!\n",
    "\n"
   ]
  },
  {
   "cell_type": "markdown",
   "metadata": {},
   "source": [
    "## Playground\n",
    "\n"
   ]
  },
  {
   "cell_type": "markdown",
   "metadata": {},
   "source": [
    "Todo código de teste que não faz parte do seu experimento deve vir aqui. Este código não será considerado na avaliação.\n",
    "\n"
   ]
  },
  {
   "cell_type": "code",
   "execution_count": null,
   "metadata": {},
   "outputs": [],
   "source": []
  }
 ],
 "metadata": {
  "kernelspec": {
   "display_name": "my_env",
   "language": "python",
   "name": "my_env"
  },
  "language_info": {
   "codemirror_mode": {
    "name": "ipython",
    "version": 3
   },
   "file_extension": ".py",
   "mimetype": "text/x-python",
   "name": "python",
   "nbconvert_exporter": "python",
   "pygments_lexer": "ipython3",
   "version": "3.10.6"
  },
  "org": null
 },
 "nbformat": 4,
 "nbformat_minor": 4
}
