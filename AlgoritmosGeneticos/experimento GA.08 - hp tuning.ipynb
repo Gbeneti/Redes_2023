{
 "cells": [
  {
   "cell_type": "markdown",
   "metadata": {},
   "source": [
    "## Otimização de hiperparâmetros\n",
    "\n"
   ]
  },
  {
   "cell_type": "markdown",
   "metadata": {},
   "source": [
    "## Introdução\n",
    "\n"
   ]
  },
  {
   "cell_type": "markdown",
   "metadata": {},
   "source": [
    "Escolheu-se \"árvores aleatórias\" como algoritmo para otimizar três hiperparâmetros utilizando-se de redes neurais para achar o melhor conjunto de hiperparâmetros.\n"
   ]
  },
  {
   "cell_type": "markdown",
   "metadata": {},
   "source": [
    "## Objetivo\n",
    "\n"
   ]
  },
  {
   "cell_type": "markdown",
   "metadata": {},
   "source": [
    "**Objetivo**: use algoritmos genéticos para encontrar um bom conjunto de hiperparâmetros em um experimento de aprendizado de máquina. Escolha um algoritmo que tenha pelo menos 3 hiperparâmetros para serem otimizados.\n",
    "\n"
   ]
  },
  {
   "cell_type": "markdown",
   "metadata": {},
   "source": [
    "## Importações\n",
    "\n"
   ]
  },
  {
   "cell_type": "markdown",
   "metadata": {},
   "source": [
    "Todos os comandos de `import` devem estar dentro desta seção.\n",
    "\n"
   ]
  },
  {
   "cell_type": "code",
   "execution_count": 1,
   "metadata": {
    "tags": []
   },
   "outputs": [],
   "source": [
    "import random\n",
    "import seaborn as sns\n",
    "from sklearn.model_selection import train_test_split\n",
    "from sklearn.tree import DecisionTreeRegressor\n",
    "from sklearn.metrics import mean_squared_error\n",
    "from itertools import product"
   ]
  },
  {
   "cell_type": "code",
   "execution_count": 2,
   "metadata": {},
   "outputs": [
    {
     "name": "stdout",
     "output_type": "stream",
     "text": [
      "The scikit-learn version is 1.2.2.\n"
     ]
    }
   ],
   "source": [
    "import sklearn\n",
    "print('The scikit-learn version is {}.'.format(sklearn.__version__))"
   ]
  },
  {
   "cell_type": "markdown",
   "metadata": {},
   "source": [
    "## Códigos e discussão\n",
    "\n"
   ]
  },
  {
   "cell_type": "markdown",
   "metadata": {},
   "source": [
    "-   Use células de código para o código.\n",
    "\n",
    "-   Use células de texto para a discussão.\n",
    "\n",
    "-   A discussão não deve ser feita em comentários dentro das células de código. Toda discussão deve acontecer após o resultado sendo discutido foi apresentado. Exemplo: não discuta um gráfico antes de apresentá-lo.\n",
    "\n"
   ]
  },
  {
   "cell_type": "code",
   "execution_count": 3,
   "metadata": {
    "tags": []
   },
   "outputs": [],
   "source": [
    "######################################\n",
    "# CÓDIGO INCOMPLETO\n",
    "######################################\n",
    "#O QUE PRECISA SER FEITO:\n",
    "#DEFINIR UM JEITO MAIS EFICIENTE DE CRIAR GENES/ INDIVIDUO\n",
    "#DEFINIR A FUNCAO MUTACAO\n",
    "#VER SE O CODIGO RODA\n",
    "\n",
    "######################################"
   ]
  },
  {
   "cell_type": "code",
   "execution_count": 4,
   "metadata": {
    "tags": []
   },
   "outputs": [],
   "source": [
    "#####################################\n",
    "#IDEIAS:\n",
    "#individuo = [\n",
    "#[i for i in range(1,20)] #gene\n",
    "#['carac1','carac2','carac3] #gene\n",
    "#['cat1','cat2','cat3']#gene\n",
    "# ] #dicionario fica mais facil\n",
    "#\n",
    "#mutacao:\n",
    "#- selecionar gene que se quer mutar\n",
    "#- refazer a seleção do gene (.choice())\n",
    "#- substituir no index desejado\n",
    "#\n",
    "#{\n",
    "#prop_a:p,m,n\n",
    "#prop_b:a,b,v\n",
    "#prop_c:p,m,n\n",
    "#\n",
    "#}\n",
    "#\n",
    "\n",
    "\n",
    "\n",
    "#def func(a,b,**dicio)\n",
    "#\n",
    "#nesse caso, \"**dicio\" adiciona as chaves como argumentos e os valores como os valores do argumento\n",
    "#isso contribui para a generalização quando se trata de x argumentos.\n",
    "#isso é para a funçãon de fitness\n",
    "#"
   ]
  },
  {
   "cell_type": "code",
   "execution_count": 5,
   "metadata": {
    "tags": []
   },
   "outputs": [],
   "source": [
    "### CONSTANTES\n",
    "\n",
    "# relacionadas à busca\n",
    "TAMANHO_POP = 40\n",
    "CHANCE_CRUZAMENTO = 0.5\n",
    "CHANCE_MUTACAO = 0.05\n",
    "NUM_COMBATENTES_NO_TORNEIO = 3\n",
    "#NUM_GERACOES = 30\n",
    "NUM_GENES = 5\n",
    "\n",
    "# relacionadas ao problema a ser resolvido - dataset\n",
    "TAMANHO_TESTE = 0.1\n",
    "SEMENTE_ALEATORIA = 1024\n",
    "DATASET_NAME = \"diamonds\"\n",
    "FEATURES = [\"carat\", \"depth\", \"table\", \"x\", \"y\", \"z\"]\n",
    "TARGET = [\"price\"]\n",
    "\n",
    "\n",
    "# relacionadas ao problema a ser resolvido - hiperparametros\n",
    "#irei variar \"NUM_FOLHAS, NUM_PROFUNDIDADE, MINIMO_FOLHAS\"\n",
    "#deixei aqui o resto para demonstrar o que se poderia variar. o resto está nos valores padrão\n",
    "#NUM_FOLHAS = 50 #max_leaf_nodes\n",
    "#NUM_PROFUNDIDADE = 70 #max_depth\n",
    "#CRITERIO = 'absolute_error'\n",
    "SPLITTER = \"best\"\n",
    "#MINIMO_SPLIT = 2 #min_samples_split\n",
    "MINIMO_FOLHAS = 1\n",
    "PESO_FOLHAS = 0.0\n",
    "MAXIMO_FEATURES = None\n",
    "IMPUREZA_MINIMO = 0.0\n",
    "COMPLEXO_ALPHA = 0.0\n"
   ]
  },
  {
   "cell_type": "code",
   "execution_count": 6,
   "metadata": {
    "tags": []
   },
   "outputs": [],
   "source": [
    "df = sns.load_dataset(DATASET_NAME) #criação do dataset\n",
    "#df"
   ]
  },
  {
   "cell_type": "code",
   "execution_count": 7,
   "metadata": {
    "tags": []
   },
   "outputs": [],
   "source": [
    "tamanho = 0.25 # Fração de dados escolhida para treino e teste\n",
    "seed = SEMENTE_ALEATORIA\n",
    "\n",
    "i = df.index\n",
    "i_treino, i_teste = train_test_split(i, test_size=tamanho, random_state = seed)\n",
    "\n",
    "df_treino = df.loc[i_treino]\n",
    "df_teste = df.loc[i_teste]"
   ]
  },
  {
   "cell_type": "code",
   "execution_count": 8,
   "metadata": {
    "tags": []
   },
   "outputs": [],
   "source": [
    "X_treino = df_treino.reindex(FEATURES, axis=1).values\n",
    "y_treino = df_treino.reindex(TARGET, axis=1).values\n",
    "X_teste = df_teste.reindex(FEATURES, axis=1).values\n",
    "y_teste = df_teste.reindex(TARGET, axis=1).values"
   ]
  },
  {
   "cell_type": "code",
   "execution_count": 9,
   "metadata": {},
   "outputs": [],
   "source": [
    "dicio = {\n",
    "    'a':10,\n",
    "    'b':11,\n",
    "    'c':14,\n",
    "}\n",
    "#dicio_2 = (a = 10, b = 11, c = 14)\n",
    "def func(a,b,c):\n",
    "    print(a)"
   ]
  },
  {
   "cell_type": "code",
   "execution_count": 10,
   "metadata": {},
   "outputs": [
    {
     "name": "stdout",
     "output_type": "stream",
     "text": [
      "10\n"
     ]
    }
   ],
   "source": [
    "func(**dicio)"
   ]
  },
  {
   "cell_type": "code",
   "execution_count": 11,
   "metadata": {},
   "outputs": [],
   "source": [
    "def individuo_hiperparametros(hiper_range_1,hiper_range_2):\n",
    "    '''Gera um valor aleatório para cada hiperparâmetro em uma dada faixa.\n",
    "    \n",
    "    Returns:\n",
    "        Um valor válido para os 3 hiparparâmetros variados\n",
    "        '''\n",
    "\n",
    "    individuo = []\n",
    "    hiperparametros = {\n",
    "    'max_depth':([max_depth for max_depth in range(1,hiper_range_1)]), #max_depth\n",
    "    'criterion':('squared_error', 'friedman_mse', 'absolute_error', 'poisson'), #criterion\n",
    "    'min_samples_split':([min_samples_split for min_samples_split in range(2,hiper_range_2)]) #min_samples_split\n",
    "    }\n",
    "    \n",
    "    for i in (range(0,len(hiperparametros))):\n",
    "        gene = random.sample(list(hiperparametros.values())[i], k=1)\n",
    "        individuo.append(gene[0]) #retira da lista gerada por random.sample()\n",
    "        \n",
    "    return individuo\n",
    "        "
   ]
  },
  {
   "cell_type": "code",
   "execution_count": 12,
   "metadata": {
    "tags": []
   },
   "outputs": [
    {
     "data": {
      "text/plain": [
       "[15, 'poisson', 5]"
      ]
     },
     "execution_count": 12,
     "metadata": {},
     "output_type": "execute_result"
    }
   ],
   "source": [
    "individuo_hiperparametros(20,10)"
   ]
  },
  {
   "cell_type": "code",
   "execution_count": 13,
   "metadata": {
    "tags": []
   },
   "outputs": [],
   "source": [
    "def populacao_inicial_hiperparametros(tamanho, hiper_range_1,hiper_range_2):\n",
    "\n",
    "    populacao = []\n",
    "    while len(populacao) != tamanho:\n",
    "        for _ in range(tamanho):\n",
    "            populacao.append(individuo_hiperparametros(hiper_range_1,hiper_range_2)) #cria uma lista de listas como populacao\n",
    "        #populacao_2 = set(populacao)\n",
    "    return populacao\n"
   ]
  },
  {
   "cell_type": "code",
   "execution_count": 14,
   "metadata": {
    "tags": []
   },
   "outputs": [
    {
     "name": "stdout",
     "output_type": "stream",
     "text": [
      "[[6, 'poisson', 9], [10, 'squared_error', 3], [11, 'poisson', 5], [14, 'squared_error', 8], [19, 'squared_error', 6], [17, 'friedman_mse', 5], [10, 'squared_error', 6], [6, 'poisson', 6], [13, 'poisson', 3], [7, 'friedman_mse', 4]]\n"
     ]
    }
   ],
   "source": [
    "pop = populacao_inicial_hiperparametros(10,20,10)\n",
    "print(pop)"
   ]
  },
  {
   "cell_type": "code",
   "execution_count": null,
   "metadata": {},
   "outputs": [],
   "source": []
  },
  {
   "cell_type": "code",
   "execution_count": 15,
   "metadata": {
    "tags": []
   },
   "outputs": [],
   "source": [
    "def selecao_torneio_min(populacao, fitness, tamanho_torneio=3): #implementada em funcoes.py\n",
    "    \"\"\"Faz a seleção de uma população usando torneio.\n",
    "\n",
    "    Nota: da forma que está implementada, só funciona em problemas de\n",
    "    minimização.\n",
    "\n",
    "    Args:\n",
    "      populacao: população do problema\n",
    "      fitness: lista com os valores de fitness dos individuos da população\n",
    "      tamanho_torneio: quantidade de invidiuos que batalham entre si\n",
    "\n",
    "    Returns:\n",
    "      Individuos selecionados. Lista com os individuos selecionados com mesmo\n",
    "      tamanho do argumento `populacao`.\n",
    "    \"\"\"\n",
    "    selecionados = []\n",
    "\n",
    "    # criamos essa variável para associar cada individuo com seu valor de fitness\n",
    "    par_populacao_fitness = list(zip(populacao, fitness))\n",
    "\n",
    "    # vamos fazer len(populacao) torneios! Que comecem os jogos!\n",
    "    for _ in range(len(populacao)):\n",
    "        combatentes = random.sample(par_populacao_fitness, tamanho_torneio)\n",
    "\n",
    "        # é assim que se escreve infinito em python\n",
    "        minimo_fitness = float(\"inf\")\n",
    "\n",
    "        for par_individuo_fitness in combatentes:\n",
    "            individuo = par_individuo_fitness[0]\n",
    "            fit = par_individuo_fitness[1]\n",
    "\n",
    "            # queremos o individuo de menor fitness\n",
    "            if fit < minimo_fitness:\n",
    "                selecionado = individuo\n",
    "                minimo_fitness = fit\n",
    "\n",
    "        selecionados.append(selecionado)\n",
    "\n",
    "    return selecionados\n"
   ]
  },
  {
   "cell_type": "code",
   "execution_count": 16,
   "metadata": {
    "tags": []
   },
   "outputs": [],
   "source": [
    "def cruzamento_ordenado(pai, mae): #implementado em funcoes.py\n",
    "    \"\"\"Operador de cruzamento ordenado.\n",
    "\n",
    "    Neste cruzamento, os filhos mantém os mesmos genes que seus pais tinham,\n",
    "    porém em uma outra ordem. Trata-se de um tipo de cruzamento útil para\n",
    "    problemas onde a ordem dos genes é importante e não podemos alterar os genes\n",
    "    em si. É um cruzamento que pode ser usado no problema do caixeiro viajante.\n",
    "\n",
    "    Ver pág. 37 do livro do Wirsansky.\n",
    "\n",
    "    Args:\n",
    "      pai: uma lista representando um individuo\n",
    "      mae : uma lista representando um individuo\n",
    "\n",
    "    Returns:\n",
    "      Duas listas, sendo que cada uma representa um filho dos pais que foram os\n",
    "      argumentos. Estas listas mantém os genes originais dos pais, porém altera\n",
    "      a ordem deles\n",
    "    \"\"\"\n",
    "    corte1 = random.randint(0, len(pai) - 2)\n",
    "    corte2 = random.randint(corte1 + 1, len(pai) - 1)\n",
    "    \n",
    "    filho1 = pai[corte1:corte2]\n",
    "    for gene in mae:\n",
    "        if gene not in filho1:\n",
    "            filho1.append(gene)\n",
    "            \n",
    "    filho2 = mae[corte1:corte2]\n",
    "    for gene in pai:\n",
    "        if gene not in filho2:\n",
    "            filho2.append(gene)\n",
    "            \n",
    "    return filho1, filho2"
   ]
  },
  {
   "cell_type": "code",
   "execution_count": 17,
   "metadata": {
    "tags": []
   },
   "outputs": [],
   "source": [
    "def funcao_objetivo_standard():\n",
    "\n",
    "    indices = df.index\n",
    "    indices_treino, indices_teste = train_test_split(\n",
    "        indices, test_size=TAMANHO_TESTE, random_state=SEMENTE_ALEATORIA\n",
    "    )\n",
    "\n",
    "    df_treino = df.loc[indices_treino]\n",
    "    df_teste = df.loc[indices_teste]\n",
    "\n",
    "    # observe que usamos o .values aqui pois queremos apenas os valores\n",
    "    X_treino = df_treino.reindex(FEATURES, axis=1).values\n",
    "    y_treino = df_treino.reindex(TARGET, axis=1).values\n",
    "    X_teste = df_teste.reindex(FEATURES, axis=1).values\n",
    "    y_teste = df_teste.reindex(TARGET, axis=1).values\n",
    "    \n",
    "    modelo_dt = DecisionTreeRegressor(random_state=SEMENTE_ALEATORIA)\n",
    "\n",
    "    # treina o modelo\n",
    "    modelo_dt.fit(X_treino, y_treino)\n",
    "    \n",
    "    y_verdadeiro = y_teste\n",
    "    y_previsao = modelo_dt.predict(X_teste)\n",
    "\n",
    "    MSE_standard = mean_squared_error(y_verdadeiro, y_previsao, squared=True)\n",
    "    \n",
    "    return MSE_standard\n",
    "\n",
    "    #print(f\"O MSE do modelo árvore de decisão foi de {MSE} dólares.\")"
   ]
  },
  {
   "cell_type": "code",
   "execution_count": 18,
   "metadata": {
    "tags": []
   },
   "outputs": [
    {
     "data": {
      "text/plain": [
       "3830811.2175677875"
      ]
     },
     "execution_count": 18,
     "metadata": {},
     "output_type": "execute_result"
    }
   ],
   "source": [
    "funcao_objetivo_standard()"
   ]
  },
  {
   "cell_type": "code",
   "execution_count": 19,
   "metadata": {
    "tags": []
   },
   "outputs": [],
   "source": [
    "def funcao_objetivo_hiperparametros(individuo):\n",
    "    \n",
    "    MSE_standard = funcao_objetivo_standard()\n",
    "    \n",
    "    [num_profundidade, qualidade_criterio, split_folhas] = individuo\n",
    "    \n",
    "    print(qualidade_criterio)\n",
    "    modelo_dt = DecisionTreeRegressor(\n",
    "        criterion=qualidade_criterio,\n",
    "        max_depth=num_profundidade,\n",
    "        min_samples_split=split_folhas,\n",
    "        random_state=1024,\n",
    "    )\n",
    "\n",
    "    indices = df.index\n",
    "    indices_treino, indices_teste = train_test_split(\n",
    "        indices, test_size=TAMANHO_TESTE, random_state=SEMENTE_ALEATORIA\n",
    "    )\n",
    "\n",
    "    df_treino = df.loc[indices_treino]\n",
    "    df_teste = df.loc[indices_teste]\n",
    "\n",
    "    # observe que usamos o .values aqui pois queremos apenas os valores\n",
    "    X_treino = df_treino.reindex(FEATURES, axis=1).values\n",
    "    y_treino = df_treino.reindex(TARGET, axis=1).values\n",
    "    X_teste = df_teste.reindex(FEATURES, axis=1).values\n",
    "    y_teste = df_teste.reindex(TARGET, axis=1).values\n",
    "    \n",
    "    #modelo_dt = DecisionTreeRegressor(random_state=SEMENTE_ALEATORIA)\n",
    "\n",
    "    # treina o modelo\n",
    "    modelo_dt.fit(X_treino, y_treino)\n",
    "    \n",
    "    y_verdadeiro = y_teste\n",
    "    y_previsao = modelo_dt.predict(X_teste)\n",
    "\n",
    "    MSE = mean_squared_error(y_verdadeiro, y_previsao, squared=True)\n",
    "    pior_MSE_antigo = float('inf')\n",
    "    \n",
    "    fitness = 0\n",
    "    \n",
    "    if MSE > MSE_standard:\n",
    "        fitness = MSE + 10000\n",
    "    else:\n",
    "        fitness = MSE\n",
    "    \n",
    "    return [fitness]"
   ]
  },
  {
   "cell_type": "code",
   "execution_count": 20,
   "metadata": {
    "tags": []
   },
   "outputs": [],
   "source": [
    "def funcao_objetivo_pop_hiperparametros(populacao):\n",
    "\n",
    "    #print(populacao)\n",
    "    fitness_pop = []\n",
    "    high_fit =[] #fit superior a baseline\n",
    "    low_fit = [] #fit inferior a baseline\n",
    "    for individuo in populacao:\n",
    "        populacao_MSE_fit = [funcao_objetivo_hiperparametros(individuo)]\n",
    "    \n",
    "    for individuo_MSE_fit in populacao_MSE_fit:\n",
    "        if individuo_MSE_fit[1] == 10000:\n",
    "            high_fit.append(individuo_MSE_fit)\n",
    "            \n",
    "        else:\n",
    "            low_fit.append(individuo_MSE_fit)\n",
    "            \n",
    "    sorted(low_fit, key=lambda x: x[0])\n",
    "    for low_fit_individuo in low_fit:\n",
    "        low_fit_individuo[1] = low_fit.index(low_fit_individuo)*500\n",
    "        \n",
    "        \n",
    "    return low_fit + high_fit\n",
    "#ideia: detectar aqueles com o fit menor do que o standard, organiza-los em ordem crescente, de modo que index*500 == fitness"
   ]
  },
  {
   "cell_type": "code",
   "execution_count": 21,
   "metadata": {},
   "outputs": [
    {
     "name": "stdout",
     "output_type": "stream",
     "text": [
      "1.2.2\n"
     ]
    }
   ],
   "source": [
    "import sklearn\n",
    "print(sklearn.__version__)"
   ]
  },
  {
   "cell_type": "code",
   "execution_count": null,
   "metadata": {},
   "outputs": [],
   "source": []
  },
  {
   "cell_type": "code",
   "execution_count": 22,
   "metadata": {},
   "outputs": [],
   "source": [
    "#import sys\n",
    "#!{sys.executable} -m pip install --upgrade scikit-learn"
   ]
  },
  {
   "cell_type": "code",
   "execution_count": null,
   "metadata": {
    "tags": []
   },
   "outputs": [
    {
     "name": "stdout",
     "output_type": "stream",
     "text": [
      "poisson\n",
      "squared_error\n",
      "poisson\n",
      "squared_error\n",
      "squared_error\n",
      "friedman_mse\n",
      "squared_error\n",
      "poisson\n",
      "poisson\n",
      "friedman_mse\n"
     ]
    },
    {
     "data": {
      "text/plain": [
       "[[2108462.143928877, 0]]"
      ]
     },
     "execution_count": 23,
     "metadata": {},
     "output_type": "execute_result"
    }
   ],
   "source": [
    "funcao_objetivo_pop_hiperparametros(pop)"
   ]
  },
  {
   "cell_type": "code",
   "execution_count": 24,
   "metadata": {},
   "outputs": [
    {
     "ename": "SyntaxError",
     "evalue": "invalid syntax (Temp/ipykernel_13432/866156237.py, line 3)",
     "output_type": "error",
     "traceback": [
      "\u001b[1;36m  File \u001b[1;32m\"C:\\Users\\GUSTAV~2\\AppData\\Local\\Temp/ipykernel_13432/866156237.py\"\u001b[1;36m, line \u001b[1;32m3\u001b[0m\n\u001b[1;33m    def cria_populacao_inicial(tamanho_pop,num_genes)\u001b[0m\n\u001b[1;37m                                                     ^\u001b[0m\n\u001b[1;31mSyntaxError\u001b[0m\u001b[1;31m:\u001b[0m invalid syntax\n"
     ]
    }
   ],
   "source": [
    "# funções locais\n",
    "\n",
    "def cria_populacao_inicial(tamanho_pop,num_genes)\n",
    "\n",
    "def funcao_objetivo_pop(populacao):\n",
    "    return funcao_objetivo_pop_hiperparametros(populacao)\n",
    "\n",
    "def funcao_mutacao(individuo):\n",
    "    return mutacao_espelhada_palindromo(individuo, LETRAS_POSSIVEIS)"
   ]
  },
  {
   "cell_type": "code",
   "execution_count": null,
   "metadata": {},
   "outputs": [],
   "source": [
    "populacao = cria_populacao_inicial(TAMANHO_POP, NUM_GENES,LETRAS_POSSIVEIS)\n",
    "set_palindromos = set()\n",
    "\n",
    "while len(set_palindromos) != QUANTIDADE_PALINDROMOS:\n",
    "    \n",
    "    # Seleção\n",
    "    fitness = funcao_objetivo_pop(populacao)\n",
    "    populacao = funcao_selecao(populacao, fitness)\n",
    "    \n",
    "    # Cruzamento\n",
    "    pais = populacao[0::2]\n",
    "    maes = populacao[1::2]\n",
    "    \n",
    "    contador = 0\n",
    "    \n",
    "    for pai, mae in zip(pais, maes):\n",
    "        if random.random() <= CHANCE_CRUZAMENTO:\n",
    "            filho1, filho2 = funcao_cruzamento(pai, mae)\n",
    "            populacao[contador] = filho1\n",
    "            populacao[contador + 1] = filho2\n",
    "        \n",
    "        contador = contador + 2   \n",
    "        \n",
    "    # Mutação\n",
    "    for n in range(len(populacao)):\n",
    "        if random.random() <= CHANCE_MUTACAO:\n",
    "            individuo = populacao[n]\n",
    "            populacao[n] = funcao_mutacao(individuo)            \n",
    "            \n",
    "    # melhor individuo já visto até agora\n",
    "    fitness = funcao_objetivo_pop(populacao)\n",
    "    menor_fitness = min(fitness)\n",
    "    if menor_fitness == 0:       \n",
    "        posicao = fitness.index(menor_fitness)\n",
    "        melhor_individuo_ja_visto = ''.join(populacao[posicao]) #list is unhasheable\n",
    "        set_palindromos.add(melhor_individuo_ja_visto)\n",
    "\n",
    "print()\n",
    "print(f'Aqui estão {QUANTIDADE_PALINDROMOS} palindromos diferentes:')\n",
    "print(set_palindromos)"
   ]
  },
  {
   "cell_type": "code",
   "execution_count": null,
   "metadata": {},
   "outputs": [],
   "source": []
  },
  {
   "cell_type": "markdown",
   "metadata": {},
   "source": [
    "## Conclusão\n",
    "\n"
   ]
  },
  {
   "cell_type": "markdown",
   "metadata": {},
   "source": [
    "Delete este texto e escreva sua conclusão.\n",
    "\n"
   ]
  },
  {
   "cell_type": "markdown",
   "metadata": {},
   "source": [
    "## Referências consultadas\n",
    "\n"
   ]
  },
  {
   "cell_type": "markdown",
   "metadata": {},
   "source": [
    "1.  Delete este texto e inclua suas referências ordenadas numericamente. Se for referenciar no notebook, use o número entre colchetes (exemplo: para citar essa referência aqui escreva &ldquo;[1]&rdquo; sem as áspas).\n",
    "\n",
    "2.  Cada item deve ser numerado. Siga o padrão apresentado.\n",
    "\n",
    "3.  Caso não tenha nenhuma referência consultada, delete esta seção e o texto contido nela!\n",
    "\n"
   ]
  },
  {
   "cell_type": "markdown",
   "metadata": {},
   "source": [
    "## Playground\n",
    "\n"
   ]
  },
  {
   "cell_type": "markdown",
   "metadata": {},
   "source": [
    "Todo código de teste que não faz parte do seu experimento deve vir aqui. Este código não será considerado na avaliação.\n",
    "\n"
   ]
  },
  {
   "cell_type": "code",
   "execution_count": null,
   "metadata": {
    "tags": []
   },
   "outputs": [],
   "source": [
    "def gene_hiperparametros(max_depth_range,min_samples_split_range):\n",
    "    '''Gera um valor aleatório para cada hiperparâmetro em uma dada faixa.\n",
    "    \n",
    "    Returns:\n",
    "        Um valor válido para os 3 hiparparâmetros variados\n",
    "        '''\n",
    "\n",
    "    individuo = []\n",
    "    hiperparametros = [\n",
    "    [max_depth for max_depth in range(1,max_depth_range)], #max_depth\n",
    "    [\"gini\",\"entropy\",\"log_loss\"], #criterion\n",
    "    [min_samples_split for min_samples_split in range(2,min_samples_split_range)]\n",
    "                        ]\n",
    "    \n",
    "    for i in (range(0,len(hiperparametros))):\n",
    "        gene = random.sample(hiperparametros[i], k=1)\n",
    "        individuo.append(gene)\n",
    "        \n",
    "    return individuo\n",
    "        "
   ]
  }
 ],
 "metadata": {
  "kernelspec": {
   "display_name": "ilumpy",
   "language": "python",
   "name": "ilumpy"
  },
  "language_info": {
   "codemirror_mode": {
    "name": "ipython",
    "version": 3
   },
   "file_extension": ".py",
   "mimetype": "text/x-python",
   "name": "python",
   "nbconvert_exporter": "python",
   "pygments_lexer": "ipython3",
   "version": "3.9.7"
  },
  "org": null
 },
 "nbformat": 4,
 "nbformat_minor": 4
}
