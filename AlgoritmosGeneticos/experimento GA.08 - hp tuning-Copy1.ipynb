{
 "cells": [
  {
   "cell_type": "markdown",
   "metadata": {},
   "source": [
    "## Otimização de hiperparâmetros\n",
    "\n"
   ]
  },
  {
   "cell_type": "markdown",
   "metadata": {},
   "source": [
    "## Introdução\n",
    "\n"
   ]
  },
  {
   "cell_type": "markdown",
   "metadata": {},
   "source": [
    "Escolheu-se \"árvores aleatórias\" como algoritmo para otimizar três hiperparâmetros utilizando-se de redes neurais para achar o melhor conjunto de hiperparâmetros.\n"
   ]
  },
  {
   "cell_type": "markdown",
   "metadata": {},
   "source": [
    "## Objetivo\n",
    "\n"
   ]
  },
  {
   "cell_type": "markdown",
   "metadata": {},
   "source": [
    "**Objetivo**: use algoritmos genéticos para encontrar um bom conjunto de hiperparâmetros em um experimento de aprendizado de máquina. Escolha um algoritmo que tenha pelo menos 3 hiperparâmetros para serem otimizados.\n",
    "\n"
   ]
  },
  {
   "cell_type": "markdown",
   "metadata": {},
   "source": [
    "## Importações\n",
    "\n"
   ]
  },
  {
   "cell_type": "markdown",
   "metadata": {},
   "source": [
    "Todos os comandos de `import` devem estar dentro desta seção.\n",
    "\n"
   ]
  },
  {
   "cell_type": "code",
   "execution_count": 1,
   "metadata": {
    "tags": []
   },
   "outputs": [],
   "source": [
    "import random\n",
    "import seaborn as sns\n",
    "from sklearn.model_selection import train_test_split\n",
    "from sklearn.tree import DecisionTreeRegressor\n",
    "from sklearn.metrics import mean_squared_error\n",
    "from operator import itemgetter"
   ]
  },
  {
   "cell_type": "markdown",
   "metadata": {},
   "source": [
    "## Códigos e discussão\n",
    "\n"
   ]
  },
  {
   "cell_type": "markdown",
   "metadata": {},
   "source": [
    "-   Use células de código para o código.\n",
    "\n",
    "-   Use células de texto para a discussão.\n",
    "\n",
    "-   A discussão não deve ser feita em comentários dentro das células de código. Toda discussão deve acontecer após o resultado sendo discutido foi apresentado. Exemplo: não discuta um gráfico antes de apresentá-lo.\n",
    "\n"
   ]
  },
  {
   "cell_type": "code",
   "execution_count": 2,
   "metadata": {
    "tags": []
   },
   "outputs": [],
   "source": [
    "######################################\n",
    "# CÓDIGO INCOMPLETO, EM FASE FINAL DE TESTES\n",
    "######################################\n",
    "#O QUE PRECISA SER FEITO:\n",
    "#resolver **dicio -- **args, **kwargs and * operator:\n",
    "#https://stackoverflow.com/questions/36901/what-does-double-star-asterisk-and-star-asterisk-do-for-parameters\n",
    "\n",
    "#docstrings + comentarios\n",
    "\n",
    "\n",
    "#list comprehension inside a dict comprehension\n",
    "\n",
    "#{\n",
    "#c:[i for i in range(1,v)] for c,v in hiperparametros.items() #c: chave; v: valor\n",
    "#}\n",
    "\n",
    "######################################"
   ]
  },
  {
   "cell_type": "markdown",
   "metadata": {
    "tags": []
   },
   "source": [
    "O notebook GA.08 é um dos experimentos da \"Lista de experimentos - algoritmos genéticos\" e aborda o problema de otimização de hiperparâmetros. Foi definido um conjunto de hiperparâmetros que se quer investigar otimização de MSE (o range de alguns hiperparametros variam com base no valor entregue como input)."
   ]
  },
  {
   "cell_type": "markdown",
   "metadata": {},
   "source": [
    "Entre as funções interessantes, tem-se: a função objetivo, que é baseada no valor do MSE do individuo (fitness = MSE), de modo em que caso este valor for superior ao baseline (valor de MSE com hiperparâmetros padrão do scikit-learn), deve-se aplicar uma punição de 1e6 no fitness (fitness = 1e6 + MSE), com o fim de aplicar \"punição\" a esses individuos. Nota-se que a função de seleção é a "
   ]
  },
  {
   "cell_type": "markdown",
   "metadata": {},
   "source": [
    "Além disso, foi criado uma função de mutação (mutacao_tendencia_as_cegas) que pega 3 individuos com menor MSE, escolhe um deles aleatoriamente e escolhe um dos genes automaticamente. Após isso, substitui-se um dos genes do individuo por aquele selecionado, proveniente de um dos 3."
   ]
  },
  {
   "cell_type": "markdown",
   "metadata": {},
   "source": [
    "Outra funcao particularmente interessante é a função de cruzamento (reproducao_combinacao_hiperparametros), que gera 3 individuos pela combinacao aleatoria de genes de uma \"mae\", \"pai\" e \"pae\", naturalmente respetando a ordem de hiperparametros."
   ]
  },
  {
   "cell_type": "markdown",
   "metadata": {},
   "source": [
    "No código, ainda faltam as docstrings e comentários, além da aplicação da \"sat asterisk\" e \"double star asterisk\". Quer-se investigar sobre qual seria a melhor ferramenta para a aplciação. Há, ainda, alguns problemas. Aparentemente a aplicação de conjuntos para armazenar os hiperparâmetros e seus valores de MSE.\n",
    "Nota: as funções não estão definidas em funçoes.py pois o código ainda está em fase (final) de testes"
   ]
  },
  {
   "cell_type": "code",
   "execution_count": 3,
   "metadata": {
    "tags": []
   },
   "outputs": [],
   "source": [
    "### CONSTANTES\n",
    "\n",
    "# relacionadas à busca\n",
    "TAMANHO_POP = 9\n",
    "CHANCE_CRUZAMENTO = 0.5\n",
    "CHANCE_MUTACAO = 0.05\n",
    "CHANCE_MUTACAO_2 = 0.05\n",
    "NUM_COMBATENTES_NO_TORNEIO = 3\n",
    "NUM_GERACOES = 5\n",
    "NUM_GENES = 5\n",
    "CONJUNTOS_HIPERPARAMETROS = 3\n",
    "CORTE = 3\n",
    "\n",
    "# relacionadas ao problema a ser resolvido - dataset\n",
    "TAMANHO_TESTE = 0.25\n",
    "SEMENTE_ALEATORIA = 1024\n",
    "DATASET_NAME = \"diamonds\"\n",
    "FEATURES = [\"carat\", \"depth\", \"table\", \"x\", \"y\", \"z\"]\n",
    "TARGET = [\"price\"]\n",
    "HIPER_RANGE_1=20\n",
    "HIPER_RANGE_2=10\n",
    "\n",
    "\n",
    "# relacionadas ao problema a ser resolvido - hiperparametros\n",
    "#irei variar \"NUM_FOLHAS, NUM_PROFUNDIDADE, MINIMO_FOLHAS\"\n",
    "#deixei aqui o resto para demonstrar o que se poderia variar. o resto está nos valores padrão\n",
    "#NUM_FOLHAS = 50 #max_leaf_nodes\n",
    "#NUM_PROFUNDIDADE = 70 #max_depth\n",
    "#CRITERIO = 'absolute_error'\n",
    "SPLITTER = \"best\"\n",
    "#MINIMO_SPLIT = 2 #min_samples_split\n",
    "MINIMO_FOLHAS = 1\n",
    "PESO_FOLHAS = 0.0\n",
    "MAXIMO_FEATURES = None\n",
    "IMPUREZA_MINIMO = 0.0\n",
    "COMPLEXO_ALPHA = 0.0\n"
   ]
  },
  {
   "cell_type": "code",
   "execution_count": 4,
   "metadata": {
    "tags": []
   },
   "outputs": [],
   "source": [
    "df = sns.load_dataset(DATASET_NAME) #criação do dataset\n",
    "#df"
   ]
  },
  {
   "cell_type": "code",
   "execution_count": 5,
   "metadata": {
    "tags": []
   },
   "outputs": [],
   "source": [
    "tamanho = 0.25 # Fração de dados escolhida para treino e teste\n",
    "seed = SEMENTE_ALEATORIA\n",
    "\n",
    "i = df.index\n",
    "i_treino, i_teste = train_test_split(i, test_size=tamanho, random_state = seed)\n",
    "\n",
    "df_treino = df.loc[i_treino]\n",
    "df_teste = df.loc[i_teste]"
   ]
  },
  {
   "cell_type": "code",
   "execution_count": 6,
   "metadata": {
    "tags": []
   },
   "outputs": [],
   "source": [
    "X_treino = df_treino.reindex(FEATURES, axis=1).values\n",
    "y_treino = df_treino.reindex(TARGET, axis=1).values\n",
    "X_teste = df_teste.reindex(FEATURES, axis=1).values\n",
    "y_teste = df_teste.reindex(TARGET, axis=1).values"
   ]
  },
  {
   "cell_type": "code",
   "execution_count": 7,
   "metadata": {
    "tags": []
   },
   "outputs": [],
   "source": [
    "def hiperparametros_modelo(hiper_range_1,hiper_range_2):\n",
    "\n",
    "    hiperparametros = {\n",
    "    'max_depth':([max_depth for max_depth in range(1,hiper_range_1)]), #max_depth\n",
    "    'criterion':('squared_error', 'friedman_mse', 'absolute_error', 'poisson'), #criterion\n",
    "    'min_samples_split':([min_samples_split for min_samples_split in range(2,hiper_range_2)]), #min_samples_split\n",
    "    }\n",
    "    \n",
    "    return hiperparametros\n",
    "    "
   ]
  },
  {
   "cell_type": "code",
   "execution_count": 8,
   "metadata": {},
   "outputs": [],
   "source": [
    "def individuo_hiperparametros(hiper_range_1,hiper_range_2):\n",
    "    '''Gera um valor aleatório para cada hiperparâmetro em uma dada faixa.\n",
    "    \n",
    "    Returns:\n",
    "        Um valor válido para os 3 hiparparâmetros variados\n",
    "        '''\n",
    "    \n",
    "    individuo = []\n",
    "    hiperparametros = hiperparametros_modelo(hiper_range_1,hiper_range_2)\n",
    "    for i in (range(0,len(hiperparametros))):\n",
    "        gene = random.sample(list(hiperparametros.values())[i], k=1)\n",
    "        individuo.append(gene[0]) #retira da lista gerada por random.sample()\n",
    "        \n",
    "    return individuo\n",
    "        "
   ]
  },
  {
   "cell_type": "code",
   "execution_count": 9,
   "metadata": {
    "tags": []
   },
   "outputs": [],
   "source": [
    "def populacao_inicial_hiperparametros(tamanho, hiper_range_1,hiper_range_2):\n",
    "\n",
    "    populacao = []\n",
    "    while len(populacao) != tamanho:\n",
    "        for _ in range(tamanho):\n",
    "            populacao.append(individuo_hiperparametros(hiper_range_1,hiper_range_2)) #cria uma lista de listas como populacao\n",
    "        #populacao_2 = set(populacao)\n",
    "    return populacao\n"
   ]
  },
  {
   "cell_type": "code",
   "execution_count": 10,
   "metadata": {
    "tags": []
   },
   "outputs": [],
   "source": [
    "def selecao_torneio_min_hiperparametros(populacao, fitness, tamanho_torneio=3): #implementada em funcoes.py\n",
    "    \"\"\"Faz a seleção de uma população usando torneio adaptada para o problema de hp tuning.\n",
    "\n",
    "    Nota: da forma que está implementada, só funciona em problemas de\n",
    "    minimização.\n",
    "    Nota_2: está adaptada à hp tuning, logo há algumas modificações específicas.\n",
    "\n",
    "    Args:\n",
    "      populacao: população do problema\n",
    "      fitness: lista com os valores de fitness dos individuos da população\n",
    "      tamanho_torneio: quantidade de invidiuos que batalham entre si\n",
    "\n",
    "    Returns:\n",
    "      Individuos selecionados. Lista com os individuos selecionados com mesmo\n",
    "      tamanho do argumento `populacao`.\n",
    "    \"\"\"\n",
    "    selecionados = []\n",
    "    fitness_selecionados = []\n",
    "    minimo_fitness_list = []\n",
    "\n",
    "    # criamos essa variável para associar cada individuo com seu valor de fitness\n",
    "    par_populacao_fitness = list(zip(populacao, fitness))\n",
    "\n",
    "    # vamos fazer len(populacao) torneios! Que comecem os jogos!\n",
    "    for _ in range(len(populacao)):\n",
    "        combatentes = random.sample(par_populacao_fitness, tamanho_torneio)\n",
    "\n",
    "        # é assim que se escreve infinito em python\n",
    "        minimo_fitness = float(\"inf\")\n",
    "\n",
    "        for par_individuo_fitness in combatentes:\n",
    "            individuo = par_individuo_fitness[0]\n",
    "            fit = par_individuo_fitness[1]\n",
    "\n",
    "            # queremos o individuo de menor fitness\n",
    "            if fit < minimo_fitness:\n",
    "                selecionado = individuo\n",
    "                minimo_fitness = fit\n",
    "                selecionados.append(selecionado)\n",
    "                minimo_fitness_list.append(minimo_fitness)\n",
    "               \n",
    "\n",
    "    par_selecionados_fitness = list(zip(selecionados, minimo_fitness_list))\n",
    "    par_selecionados_fitness_sorted = sorted(par_populacao_fitness, key=itemgetter(-1))\n",
    "    selecionados, fitness_selecionados = zip(*par_selecionados_fitness_sorted)\n",
    "\n",
    "    return list(selecionados), list(fitness_selecionados)\n"
   ]
  },
  {
   "cell_type": "code",
   "execution_count": 28,
   "metadata": {
    "tags": []
   },
   "outputs": [],
   "source": [
    "def funcao_objetivo_standard():\n",
    "    \"\"\"Calcula o valor padrão de MSE para um dado dataset. Utiliza dos valores padrões do scikit.\n",
    "    Returns:\n",
    "        Valor padrão de MSE do scikit-learn para um dado dataset\n",
    "    \"\"\"\n",
    "\n",
    "    indices = df.index\n",
    "    indices_treino, indices_teste = train_test_split(\n",
    "        indices, test_size=TAMANHO_TESTE, random_state=SEMENTE_ALEATORIA\n",
    "    )\n",
    "\n",
    "    df_treino = df.loc[indices_treino]\n",
    "    df_teste = df.loc[indices_teste]\n",
    "\n",
    "    # observe que usamos o .values aqui pois queremos apenas os valores\n",
    "    X_treino = df_treino.reindex(FEATURES, axis=1).values\n",
    "    y_treino = df_treino.reindex(TARGET, axis=1).values\n",
    "    X_teste = df_teste.reindex(FEATURES, axis=1).values\n",
    "    y_teste = df_teste.reindex(TARGET, axis=1).values\n",
    "    \n",
    "    modelo_dt = DecisionTreeRegressor(random_state=SEMENTE_ALEATORIA)\n",
    "\n",
    "    # treina o modelo\n",
    "    modelo_dt.fit(X_treino, y_treino)\n",
    "    \n",
    "    y_verdadeiro = y_teste\n",
    "    y_previsao = modelo_dt.predict(X_teste)\n",
    "\n",
    "    MSE_standard = mean_squared_error(y_verdadeiro, y_previsao, squared=True) #calcular MSE sem alterar nenhum parâmetro\n",
    "    \n",
    "    return MSE_standard"
   ]
  },
  {
   "cell_type": "code",
   "execution_count": 12,
   "metadata": {
    "tags": []
   },
   "outputs": [],
   "source": [
    "def funcao_objetivo_hiperparametros(individuo,MSE_standard,punishment=1e6):\n",
    "    \"\"\"\n",
    "    \"\"\"\n",
    "    \n",
    "    \n",
    "    [num_profundidade, qualidade_criterio, split_folhas] = individuo\n",
    "    \n",
    "    modelo_dt = DecisionTreeRegressor(\n",
    "        criterion=qualidade_criterio,\n",
    "        max_depth=num_profundidade,\n",
    "        min_samples_split=split_folhas,\n",
    "        random_state=SEMENTE_ALEATORIA,\n",
    "    )\n",
    "\n",
    "    indices = df.index\n",
    "    indices_treino, indices_teste = train_test_split(\n",
    "        indices, test_size=TAMANHO_TESTE, random_state=SEMENTE_ALEATORIA\n",
    "    )\n",
    "\n",
    "    df_treino = df.loc[indices_treino]\n",
    "    df_teste = df.loc[indices_teste]\n",
    "\n",
    "    # observe que usamos o .values aqui pois queremos apenas os valores\n",
    "    X_treino = df_treino.reindex(FEATURES, axis=1).values\n",
    "    y_treino = df_treino.reindex(TARGET, axis=1).values\n",
    "    X_teste = df_teste.reindex(FEATURES, axis=1).values\n",
    "    y_teste = df_teste.reindex(TARGET, axis=1).values\n",
    "    \n",
    "    #modelo_dt = DecisionTreeRegressor(random_state=SEMENTE_ALEATORIA)\n",
    "\n",
    "    # treina o modelo\n",
    "    modelo_dt.fit(X_treino, y_treino)\n",
    "    \n",
    "    y_verdadeiro = y_teste\n",
    "    y_previsao = modelo_dt.predict(X_teste)\n",
    "\n",
    "    MSE = mean_squared_error(y_verdadeiro, y_previsao, squared=True)\n",
    "    \n",
    "    fitness = 0\n",
    "    \n",
    "    if MSE > MSE_standard:\n",
    "        fitness = MSE + punishment\n",
    "    else:\n",
    "        fitness = MSE\n",
    "    \n",
    "    return fitness"
   ]
  },
  {
   "cell_type": "code",
   "execution_count": 13,
   "metadata": {
    "tags": []
   },
   "outputs": [],
   "source": [
    "def funcao_objetivo_pop_hiperparametros(populacao,MSE_standard):\n",
    "\n",
    "    #print(populacao)\n",
    "    fitness_pop = []\n",
    "    for individuo in populacao:\n",
    "        populacao_MSE_fit = funcao_objetivo_hiperparametros(individuo,MSE_standard)\n",
    "        fitness_pop.append(populacao_MSE_fit)\n",
    "        \n",
    "    return fitness_pop"
   ]
  },
  {
   "cell_type": "code",
   "execution_count": 14,
   "metadata": {
    "tags": []
   },
   "outputs": [],
   "source": [
    "def mutacao_tendencia_as_cegas(individuo, populacao, corte=3):\n",
    "    \n",
    "    #print(individuo)\n",
    "    #lista_index = [i for i in range(0, (len(individuo)))]\n",
    "    range_index_individuo = range(0,len(individuo))\n",
    "    \n",
    "    melhores_individuos = populacao[:corte] #pegar os melhores individuos baseado no sort pelo fitness\n",
    "    \n",
    "    individuo_melhor = (random.choice(melhores_individuos)) #escolher um melhor individuo baseado no corte\n",
    "    #print('invidivuo_melhor: ',individuo_melhor)\n",
    "\n",
    "    numero_mutacoes = random.randint(1, len(individuo)) #escolher o número de mutações que irá ocorrer\n",
    "    #print(numero_mutacoes)\n",
    "    mutate_random_index = random.sample(range_index_individuo, numero_mutacoes) #escolher o index dessas mutações\n",
    "    #print(mutate_random_index)\n",
    "    \n",
    "    if individuo_melhor == individuo: #se pegou si mesmo, não faz sentido mutar\n",
    "        return individuo\n",
    "    else:\n",
    "        for gene_index in mutate_random_index:\n",
    "            individuo[gene_index] = individuo_melhor[gene_index] #substitui os index do individuo pelo individuo_melhor\n",
    "        \n",
    "    return individuo #individuo mutado"
   ]
  },
  {
   "cell_type": "code",
   "execution_count": 15,
   "metadata": {},
   "outputs": [],
   "source": [
    "def mutacao_hiperparametros(individuo,hiper_range_1,hiper_range_2):\n",
    "    hiperparametros_possiveis = hiperparametros_modelo(hiper_range_1,hiper_range_2)\n",
    "    mutate_random_hp = random.choice(range(0,len(hiperparametros_possiveis)))\n",
    "    #print(mutate_random_hp)\n",
    "    mutate_random_hp_parameter = random.choice((list(hiperparametros_possiveis.values())[mutate_random_hp]))\n",
    "    #print(mutate_random_hp_parameter)\n",
    "    \n",
    "    individuo[mutate_random_hp] = mutate_random_hp_parameter\n",
    "    \n",
    "    return individuo"
   ]
  },
  {
   "cell_type": "code",
   "execution_count": 16,
   "metadata": {},
   "outputs": [],
   "source": [
    "def reproducao_combinacao_hiperparametros(pai, mae, pae,numero_de_proles=3):\n",
    "    \n",
    "    #considere individuo e fit acoplado\n",
    "    \n",
    "    proles = []\n",
    "    genes = []\n",
    "    \n",
    "    progenitores = [pai, mae, pae] #desacoplar\n",
    "    lista_index = list(range(0,len(pai))) #indexes devem ser fixos para que a ordem não varie\n",
    "    \n",
    "    for _ in range(0,numero_de_proles):\n",
    "        random.shuffle(progenitores) #lista de index aleatório\n",
    "        #random.shuffle(lista_index)\n",
    "    \n",
    "        for index, parente in zip(lista_index, progenitores):\n",
    "            #print(parente[index])\n",
    "            genes.append(parente[index]) #recebe um gene aleatório de cada progenitor\n",
    "            #print(genes)\n",
    "            if len(genes) == len(pai):\n",
    "                proles.append(genes)\n",
    "                #print(individuo)\n",
    "                genes = []\n",
    "        \n",
    "    return proles"
   ]
  },
  {
   "cell_type": "code",
   "execution_count": 17,
   "metadata": {},
   "outputs": [],
   "source": [
    "# funções locais\n",
    "\n",
    "def cria_populacao_inicial(tamanho, hiper_range_1,hiper_range_2):\n",
    "    return populacao_inicial_hiperparametros(tamanho, hiper_range_1,hiper_range_2)\n",
    "\n",
    "def funcao_objetivo_pop(populacao,MSE_standard):\n",
    "    return funcao_objetivo_pop_hiperparametros(populacao,MSE_standard)\n",
    "\n",
    "def funcao_mutacao(individuo,hiper_range_1,hiper_range_2):\n",
    "    return mutacao_hiperparametros(individuo,hiper_range_1,hiper_range_2)\n",
    "\n",
    "def funcao_mutacao_2(individuo, populacao, corte=3):\n",
    "    return mutacao_tendencia_as_cegas(individuo, populacao, corte=3)\n",
    "\n",
    "def funcao_selecao(populacao, fitness, tamanho_torneio=3):\n",
    "    return  selecao_torneio_min_hiperparametros(populacao, fitness, tamanho_torneio=3)\n",
    "\n",
    "def funcao_cruzamento(pai,mae,pae):\n",
    "    return reproducao_combinacao_hiperparametros(pai, mae, pae,numero_de_proles=3)"
   ]
  },
  {
   "cell_type": "code",
   "execution_count": 18,
   "metadata": {},
   "outputs": [
    {
     "name": "stdout",
     "output_type": "stream",
     "text": [
      "\n",
      "Aqui estão 3 conjuntos de hiperparametros decentes:\n",
      "[[7, 'friedman_mse', 3], [7, 'poisson', 2], [7, 'poisson', 3]] [2108462.143928877, 2105524.8878086247, 2105524.8878086247]\n",
      "por comparação, aqui está o MSE padrão: 3830811.2175677875\n"
     ]
    }
   ],
   "source": [
    "MSE_standard = funcao_objetivo_standard()\n",
    "populacao = cria_populacao_inicial(TAMANHO_POP, HIPER_RANGE_1,HIPER_RANGE_2)\n",
    "lista_hiperparametros = []\n",
    "lista_fitness = []\n",
    "\n",
    "while len(lista_hiperparametros) != CONJUNTOS_HIPERPARAMETROS:\n",
    "    \n",
    "    # Seleção\n",
    "    fitness = funcao_objetivo_pop(populacao, MSE_standard)\n",
    "    populacao, fitness_populacao = funcao_selecao(populacao, fitness)\n",
    "    #print(populacao,type(fitness_populacao),fitness_populacao, type(fitness_populacao))\n",
    "    \n",
    "    # Mutação_2\n",
    "    for k in range(len(populacao)):\n",
    "        if random.random() <= CHANCE_MUTACAO_2:\n",
    "            individuo = populacao[k]\n",
    "            populacao[k] = funcao_mutacao_2(individuo,populacao,CORTE)    \n",
    "    \n",
    "    # Cruzamento\n",
    "    pais = populacao[0::3] #alteração do passo para 3 por causa da presença do \"pae\"\n",
    "    maes = populacao[1::3]\n",
    "    paes = populacao[2::3]\n",
    "    \n",
    "    \n",
    "    contador = 0\n",
    "    \n",
    "    for pai, mae, pae in zip(pais, maes, paes):\n",
    "        if random.random() <= CHANCE_CRUZAMENTO: #or pai, mae, pae == pais[0], maes[0], paes[0]:\n",
    "            filho_1, filho_2, filho_3 = funcao_cruzamento(pai, mae, pae)\n",
    "            populacao[contador] = filho_1\n",
    "            populacao[contador + 1] = filho_2\n",
    "            populacao[contador + 2] = filho_3\n",
    "        \n",
    "        contador = contador + 3   \n",
    "        \n",
    "    # Mutação\n",
    "    for n in range(len(populacao)):\n",
    "        if random.random() <= CHANCE_MUTACAO:\n",
    "            individuo = populacao[n]\n",
    "            populacao[n] = funcao_mutacao(individuo,HIPER_RANGE_1,HIPER_RANGE_2)           \n",
    "            \n",
    "    # melhor individuo já visto até agora\n",
    "    fitness = funcao_objetivo_pop(populacao, MSE_standard)\n",
    "    #print(fitness)\n",
    "    menor_fitness = min(fitness)\n",
    "    #print(menor_fitness)\n",
    "    posicao = fitness.index(menor_fitness)\n",
    "    melhor_individuo_ja_visto = (populacao[posicao]) #list is unhasheable\n",
    "    #print(melhor_individuo_ja_visto)\n",
    "    if melhor_individuo_ja_visto not in lista_hiperparametros:\n",
    "        lista_hiperparametros.append(melhor_individuo_ja_visto)\n",
    "    #print(set_hiperparametros)\n",
    "        lista_fitness.append(menor_fitness)\n",
    "    #print(set_fitness)\n",
    "\n",
    "print()\n",
    "print(f'Aqui estão {CONJUNTOS_HIPERPARAMETROS} conjuntos de hiperparametros decentes:')\n",
    "print(lista_hiperparametros, lista_fitness)\n",
    "print(f'por comparação, aqui está o MSE padrão: {MSE_standard}')"
   ]
  },
  {
   "cell_type": "markdown",
   "metadata": {},
   "source": [
    "## Conclusão\n",
    "\n"
   ]
  },
  {
   "cell_type": "markdown",
   "metadata": {},
   "source": [
    "Delete este texto e escreva sua conclusão.\n",
    "\n"
   ]
  },
  {
   "cell_type": "markdown",
   "metadata": {},
   "source": [
    "## Referências consultadas\n",
    "\n"
   ]
  },
  {
   "cell_type": "markdown",
   "metadata": {},
   "source": [
    "1.  Delete este texto e inclua suas referências ordenadas numericamente. Se for referenciar no notebook, use o número entre colchetes (exemplo: para citar essa referência aqui escreva &ldquo;[1]&rdquo; sem as áspas).\n",
    "\n",
    "2.  Cada item deve ser numerado. Siga o padrão apresentado.\n",
    "\n",
    "3.  Caso não tenha nenhuma referência consultada, delete esta seção e o texto contido nela!\n",
    "\n"
   ]
  },
  {
   "cell_type": "markdown",
   "metadata": {},
   "source": [
    "## Playground\n",
    "\n"
   ]
  },
  {
   "cell_type": "markdown",
   "metadata": {},
   "source": [
    "Todo código de teste que não faz parte do seu experimento deve vir aqui. Este código não será considerado na avaliação.\n",
    "\n"
   ]
  },
  {
   "cell_type": "code",
   "execution_count": 19,
   "metadata": {
    "tags": []
   },
   "outputs": [
    {
     "data": {
      "text/plain": [
       "2111074.458209635"
      ]
     },
     "execution_count": 19,
     "metadata": {},
     "output_type": "execute_result"
    }
   ],
   "source": [
    "funcao_objetivo_hiperparametros([9, 'poisson', 7],MSE_standard,punishment=1e6)"
   ]
  },
  {
   "cell_type": "code",
   "execution_count": 20,
   "metadata": {
    "tags": []
   },
   "outputs": [
    {
     "name": "stdout",
     "output_type": "stream",
     "text": [
      "yee\n"
     ]
    }
   ],
   "source": [
    "individuo = [1,2,3]\n",
    "lst = [[1,2,3],[5,6,7]]\n",
    "\n",
    "if individuo not in lst:\n",
    "    print('goofy aah')\n",
    "else:\n",
    "    print('yee')"
   ]
  },
  {
   "cell_type": "code",
   "execution_count": 21,
   "metadata": {},
   "outputs": [],
   "source": [
    "dicio = {\n",
    "    'a':10,\n",
    "    'b':11,\n",
    "    'c':14,\n",
    "}\n",
    "#dicio_2 = (a = 10, b = 11, c = 14)\n",
    "def func(a,b,c, **kwargs):\n",
    "    print(a)"
   ]
  },
  {
   "cell_type": "code",
   "execution_count": 22,
   "metadata": {},
   "outputs": [
    {
     "name": "stdout",
     "output_type": "stream",
     "text": [
      "([1], ['a'], [2])\n"
     ]
    }
   ],
   "source": [
    "print(tuple([[1],['a'],[2]]))"
   ]
  },
  {
   "cell_type": "code",
   "execution_count": 23,
   "metadata": {},
   "outputs": [],
   "source": [
    "dicio = {\n",
    "    'a':10,\n",
    "    'b':11,\n",
    "    'c':14,\n",
    "}\n",
    "#dicio_2 = (a = 10, b = 11, c = 14)\n",
    "def func(a,b,c):\n",
    "    print(a)"
   ]
  },
  {
   "cell_type": "code",
   "execution_count": 24,
   "metadata": {},
   "outputs": [],
   "source": [
    "def tendencia_as_cegas(individuo, populacao, fitness_populacao, corte=3):\n",
    "    \n",
    "    print(individuo)\n",
    "    lista_index = [i for i in range(0, (len(individuo)))]\n",
    "    \n",
    "    par_populacao_fitness = list(zip(populacao, fitness_populacao))\n",
    "    par_populacao_fitness_sorted = sorted(par_populacao_fitness, key=itemgetter(-1))\n",
    "    \n",
    "    melhores_individuos_zip = par_populacao_fitness_sorted[:corte]\n",
    "    \n",
    "    individuo_melhor = random.choice(melhores_individuos_zip)[0]\n",
    "    \n",
    "    print('individuo',individuo_melhor)\n",
    "    numero_mutacoes = random.randint(1, len(individuo))\n",
    "    print(numero_mutacoes)\n",
    "    mutate_random_index = random.sample(lista_index, numero_mutacoes)\n",
    "    print(mutate_random_index)\n",
    "    \n",
    "    if individuo_melhor == individuo or numero_mutacoes == len(individuo):\n",
    "        return individuo\n",
    "    else:\n",
    "        for gene_index in mutate_random_index:\n",
    "            individuo[gene_index] = individuo_melhor[gene_index]\n",
    "        \n",
    "    return individuo"
   ]
  },
  {
   "cell_type": "code",
   "execution_count": 25,
   "metadata": {
    "tags": []
   },
   "outputs": [],
   "source": [
    "def gene_hiperparametros(max_depth_range,min_samples_split_range):\n",
    "    '''Gera um valor aleatório para cada hiperparâmetro em uma dada faixa.\n",
    "    \n",
    "    Returns:\n",
    "        Um valor válido para os 3 hiparparâmetros variados\n",
    "        '''\n",
    "\n",
    "    individuo = []\n",
    "    hiperparametros = [\n",
    "    [max_depth for max_depth in range(1,max_depth_range)], #max_depth\n",
    "    [\"gini\",\"entropy\",\"log_loss\"], #criterion\n",
    "    [min_samples_split for min_samples_split in range(2,min_samples_split_range)]\n",
    "                        ]\n",
    "    \n",
    "    for i in (range(0,len(hiperparametros))):\n",
    "        gene = random.sample(hiperparametros[i], k=1)\n",
    "        individuo.append(gene)\n",
    "        \n",
    "    return individuo\n",
    "        "
   ]
  },
  {
   "cell_type": "code",
   "execution_count": 26,
   "metadata": {},
   "outputs": [],
   "source": [
    "def mutacao_hp(individuo,hiper_range_1,hiper_range_2):\n",
    "    mutacao_individual = 0.25\n",
    "    hiperparametros_possiveis = hiperparametros_modelo(hiper_range_1,hiper_range_2)\n",
    "    for i in range(0,len(individuo)):\n",
    "        if random.random() <= mutacao_individual:\n",
    "            #mutate_random_hp = random.choice(range(0,len(hiperparametros_possiveis)))\n",
    "            mutate_random_hp_parameter = random.choice((list(hiperparametros_possiveis.values())[i]))\n",
    "    \n",
    "            individuo[i] = mutate_random_hp_parameter\n",
    "    \n",
    "    return individuo"
   ]
  },
  {
   "cell_type": "code",
   "execution_count": 27,
   "metadata": {
    "tags": []
   },
   "outputs": [],
   "source": [
    "def funcao_objetivo_pop_hiperparametros(populacao):\n",
    "\n",
    "    #print(populacao)\n",
    "    fitness_pop = []\n",
    "    high_fit =[] #fit superior a baseline\n",
    "    low_fit = [] #fit inferior a baseline\n",
    "    for individuo in populacao:\n",
    "        populacao_MSE_fit = funcao_objetivo_hiperparametros(individuo)\n",
    "        individuo = individuo.extend(populacao_MSE_fit)\n",
    "    \n",
    "    for individuo_MSE_fit in populacao_MSE_fit:\n",
    "        if individuo_MSE_fit[-1] != individuo_MSE_fit[-2]: # index([-2,-1]) = [MSE, fitness]\n",
    "            high_fit.append(individuo_MSE_fit)\n",
    "            \n",
    "        else:\n",
    "            low_fit.append(individuo_MSE_fit)\n",
    "            \n",
    "    low_fit_sorted = sorted(low_fit, key=itemgetter(-1)) #itemgetter muito util para sort() em listas de listas\n",
    "    for low_fit_individuo in low_fit_sorted:\n",
    "        print(low_fit_sorted)\n",
    "        low_fit_individuo[1] = low_fit.index(low_fit_individuo)*500\n",
    "        \n",
    "        \n",
    "    return low_fit + high_fit\n",
    "#ideia: detectar aqueles com o fit menor do que o standard, organiza-los em ordem crescente, de modo que index*500 == fitness"
   ]
  }
 ],
 "metadata": {
  "kernelspec": {
   "display_name": "ilumpy",
   "language": "python",
   "name": "ilumpy"
  },
  "language_info": {
   "codemirror_mode": {
    "name": "ipython",
    "version": 3
   },
   "file_extension": ".py",
   "mimetype": "text/x-python",
   "name": "python",
   "nbconvert_exporter": "python",
   "pygments_lexer": "ipython3",
   "version": "3.9.7"
  },
  "org": null
 },
 "nbformat": 4,
 "nbformat_minor": 4
}
