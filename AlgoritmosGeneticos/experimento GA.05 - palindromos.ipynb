{
 "cells": [
  {
   "cell_type": "markdown",
   "metadata": {},
   "source": [
    "## Novos palíndromos\n",
    "\n"
   ]
  },
  {
   "cell_type": "markdown",
   "metadata": {},
   "source": [
    "## Introdução\n",
    "\n"
   ]
  },
  {
   "cell_type": "markdown",
   "metadata": {},
   "source": [
    "Este experimento tem o objetivo de aplicar algoritmos genéticos de minimização para resolver o problema dos palíndromos."
   ]
  },
  {
   "cell_type": "markdown",
   "metadata": {},
   "source": [
    "## Objetivo\n",
    "\n"
   ]
  },
  {
   "cell_type": "markdown",
   "metadata": {},
   "source": [
    "**Objetivo**: Encontre pelo menos 10 palíndromos de 5 letras. Estes palíndromos devem ter pelo menos uma vogal. Não é necessário que eles formem palavras válidas em português ou qualquer outro idioma.\n",
    "\n"
   ]
  },
  {
   "cell_type": "markdown",
   "metadata": {},
   "source": [
    "## Importações\n",
    "\n"
   ]
  },
  {
   "cell_type": "markdown",
   "metadata": {},
   "source": [
    "Todos os comandos de `import` devem estar dentro desta seção.\n",
    "\n"
   ]
  },
  {
   "cell_type": "code",
   "execution_count": 1,
   "metadata": {
    "tags": []
   },
   "outputs": [],
   "source": [
    "import random\n",
    "from funcoes import gene_letra as gene_palindromo\n",
    "from funcoes import populacao_inicial_palindromo as cria_populacao_inicial\n",
    "from funcoes import funcao_objetivo_pop_palindromo\n",
    "from funcoes import funcao_objetivo_palindromo\n",
    "from funcoes import selecao_torneio_min as funcao_selecao # esse já temos!\n",
    "from funcoes import cruzamento_ponto_simples as funcao_cruzamento\n",
    "from funcoes import mutacao_espelhada_palindromo"
   ]
  },
  {
   "cell_type": "markdown",
   "metadata": {},
   "source": [
    "## Códigos e discussão\n",
    "\n"
   ]
  },
  {
   "cell_type": "markdown",
   "metadata": {},
   "source": [
    "-   Use células de código para o código.\n",
    "\n",
    "-   Use células de texto para a discussão.\n",
    "\n",
    "-   A discussão não deve ser feita em comentários dentro das células de código. Toda discussão deve acontecer após o resultado sendo discutido foi apresentado. Exemplo: não discuta um gráfico antes de apresentá-lo.\n",
    "\n"
   ]
  },
  {
   "cell_type": "code",
   "execution_count": 2,
   "metadata": {
    "tags": []
   },
   "outputs": [],
   "source": [
    "### CONSTANTES\n",
    "\n",
    "# relacionadas à busca\n",
    "TAMANHO_POP = 40\n",
    "CHANCE_CRUZAMENTO = 0.5\n",
    "CHANCE_MUTACAO = 0.05\n",
    "NUM_COMBATENTES_NO_TORNEIO = 3\n",
    "\n",
    "# relacionadas ao problema a ser resulvido\n",
    "LETRAS_POSSIVEIS = ['A','B','C','D','E','F','G','H','I','J','K','L','M','N','O','P','Q','R','S','T','U','V','W','X','Y','Z']\n",
    "VOGAIS = ['A','E','I','O','U']\n",
    "NUM_GENES = 5\n",
    "QUANTIDADE_PALINDROMOS = 10"
   ]
  },
  {
   "cell_type": "code",
   "execution_count": 3,
   "metadata": {
    "tags": []
   },
   "outputs": [],
   "source": [
    "# funções locais\n",
    "def funcao_objetivo_pop(populacao,vogais=VOGAIS):\n",
    "    return funcao_objetivo_pop_palindromo(populacao,vogais)\n",
    "\n",
    "def funcao_mutacao(individuo):\n",
    "    return mutacao_espelhada_palindromo(individuo, LETRAS_POSSIVEIS)"
   ]
  },
  {
   "cell_type": "code",
   "execution_count": 4,
   "metadata": {
    "tags": []
   },
   "outputs": [
    {
     "name": "stdout",
     "output_type": "stream",
     "text": [
      "\n",
      "Aqui estão 10 palindromos diferentes:\n",
      "{'YCECY', 'YPEPY', 'YPUPY', 'YYOYY', 'YOEOY', 'YPOPY', 'YUEUY', 'YBEBY', 'OPEPO', 'NPEPN'}\n"
     ]
    }
   ],
   "source": [
    "populacao = cria_populacao_inicial(TAMANHO_POP, NUM_GENES,LETRAS_POSSIVEIS)\n",
    "set_palindromos = set() #conjunto que armazena os palindromos\n",
    "\n",
    "while len(set_palindromos) != QUANTIDADE_PALINDROMOS:\n",
    "    \n",
    "    # Seleção\n",
    "    fitness = funcao_objetivo_pop(populacao)\n",
    "    populacao = funcao_selecao(populacao, fitness)\n",
    "    \n",
    "    # Cruzamento\n",
    "    pais = populacao[0::2]\n",
    "    maes = populacao[1::2]\n",
    "    \n",
    "    contador = 0\n",
    "    \n",
    "    for pai, mae in zip(pais, maes):\n",
    "        if random.random() <= CHANCE_CRUZAMENTO:\n",
    "            filho1, filho2 = funcao_cruzamento(pai, mae)\n",
    "            populacao[contador] = filho1\n",
    "            populacao[contador + 1] = filho2\n",
    "        \n",
    "        contador = contador + 2   \n",
    "        \n",
    "    # Mutação\n",
    "    for n in range(len(populacao)):\n",
    "        if random.random() <= CHANCE_MUTACAO:\n",
    "            individuo = populacao[n]\n",
    "            populacao[n] = funcao_mutacao(individuo)            \n",
    "            \n",
    "    # individuo que é um palindromo\n",
    "    fitness = funcao_objetivo_pop(populacao)\n",
    "    menor_fitness = min(fitness)\n",
    "    if menor_fitness == 0: #fitness ideal == 0\n",
    "        posicao = fitness.index(menor_fitness) #retira o index\n",
    "        melhor_individuo_ja_visto = ''.join(populacao[posicao]) #puxa o elemento com index e unifica a string\n",
    "        set_palindromos.add(melhor_individuo_ja_visto) #adiciona ao conjunto\n",
    "\n",
    "print()\n",
    "print(f'Aqui estão {QUANTIDADE_PALINDROMOS} palindromos diferentes:')\n",
    "print(set_palindromos)"
   ]
  },
  {
   "cell_type": "markdown",
   "metadata": {},
   "source": [
    "## Conclusão\n",
    "\n"
   ]
  },
  {
   "cell_type": "markdown",
   "metadata": {},
   "source": [
    "Este notebook tem o objetivo de resolver o problema dos palíndromos com algoritmos genéticos. O problema se baseia em formar 10 quaisquer palíndromos que apresentem pelo menos uma vogal. O resultado obtido foi satisfatório, pois além de cumprir os requisitos, o código exibe apenas os palíndromos não repetidos em quantidades de 10. Um insight interessante é que strings ['assim'], ['a','s','s','i','m'] e 'assim' se comportam de maneiras diferentes. Eu já sabia de algumas diferenças, mas esse experimento evidenciou que a segunda opção é a melhor para o problema, pois além de conseguir iterar nele por letra, pode-se aproveitar das peculiaridades de listas. O problema principal do código foi que strings não podem ser modificadas diretamente, o que causava erro e muitas vezes problemas nos resultados. Esse problema foi resolvido alternando-se de 'assim' por ['a','s','s','i','m']. Admito que fazer esse código demorou MUITO mais que o esperado por causa desse problema, de modo que eu tive que fazer um debugging em cada parte do código para entender o que estava ocorrendo."
   ]
  },
  {
   "cell_type": "markdown",
   "metadata": {},
   "source": [
    "## Playground\n",
    "\n"
   ]
  },
  {
   "cell_type": "markdown",
   "metadata": {},
   "source": [
    "Todo código de teste que não faz parte do seu experimento deve vir aqui. Este código não será considerado na avaliação.\n",
    "\n"
   ]
  },
  {
   "cell_type": "code",
   "execution_count": 5,
   "metadata": {
    "tags": []
   },
   "outputs": [
    {
     "name": "stdout",
     "output_type": "stream",
     "text": [
      "{'ratinho'}\n",
      "1\n"
     ]
    }
   ],
   "source": [
    "tst = set()\n",
    "if 'ratinho' not in tst:\n",
    "    tst.add('ratinho')\n",
    "print(tst)\n",
    "print(len(tst))"
   ]
  },
  {
   "cell_type": "code",
   "execution_count": 6,
   "metadata": {},
   "outputs": [
    {
     "ename": "NameError",
     "evalue": "name 'melhor_fitness_ja_visto' is not defined",
     "output_type": "error",
     "traceback": [
      "\u001b[1;31m---------------------------------------------------------------------------\u001b[0m",
      "\u001b[1;31mNameError\u001b[0m                                 Traceback (most recent call last)",
      "\u001b[1;32mC:\\Users\\GUSTAV~2\\AppData\\Local\\Temp/ipykernel_21588/585928833.py\u001b[0m in \u001b[0;36m<module>\u001b[1;34m\u001b[0m\n\u001b[0;32m      2\u001b[0m \u001b[0mfitness\u001b[0m \u001b[1;33m=\u001b[0m \u001b[0mfuncao_objetivo_pop\u001b[0m\u001b[1;33m(\u001b[0m\u001b[0mpopulacao\u001b[0m\u001b[1;33m)\u001b[0m\u001b[1;33m\u001b[0m\u001b[1;33m\u001b[0m\u001b[0m\n\u001b[0;32m      3\u001b[0m \u001b[0mmenor_fitness\u001b[0m \u001b[1;33m=\u001b[0m \u001b[0mmin\u001b[0m\u001b[1;33m(\u001b[0m\u001b[0mfitness\u001b[0m\u001b[1;33m)\u001b[0m\u001b[1;33m\u001b[0m\u001b[1;33m\u001b[0m\u001b[0m\n\u001b[1;32m----> 4\u001b[1;33m \u001b[1;32mif\u001b[0m \u001b[0mmenor_fitness\u001b[0m \u001b[1;33m<\u001b[0m \u001b[0mmelhor_fitness_ja_visto\u001b[0m\u001b[1;33m:\u001b[0m\u001b[1;33m\u001b[0m\u001b[1;33m\u001b[0m\u001b[0m\n\u001b[0m\u001b[0;32m      5\u001b[0m     \u001b[0mposicao\u001b[0m \u001b[1;33m=\u001b[0m \u001b[0mfitness\u001b[0m\u001b[1;33m.\u001b[0m\u001b[0mindex\u001b[0m\u001b[1;33m(\u001b[0m\u001b[0mmenor_fitness\u001b[0m\u001b[1;33m)\u001b[0m\u001b[1;33m\u001b[0m\u001b[1;33m\u001b[0m\u001b[0m\n\u001b[0;32m      6\u001b[0m     \u001b[0mmelhor_individuo_ja_visto\u001b[0m \u001b[1;33m=\u001b[0m \u001b[0mpopulacao\u001b[0m\u001b[1;33m[\u001b[0m\u001b[0mposicao\u001b[0m\u001b[1;33m]\u001b[0m\u001b[1;33m\u001b[0m\u001b[1;33m\u001b[0m\u001b[0m\n",
      "\u001b[1;31mNameError\u001b[0m: name 'melhor_fitness_ja_visto' is not defined"
     ]
    }
   ],
   "source": [
    "    # melhor individuo já visto até agora\n",
    "    fitness = funcao_objetivo_pop(populacao)\n",
    "    menor_fitness = min(fitness)\n",
    "    if menor_fitness < melhor_fitness_ja_visto:        \n",
    "        posicao = fitness.index(menor_fitness)\n",
    "        melhor_individuo_ja_visto = populacao[posicao]\n",
    "        melhor_fitness_ja_visto = menor_fitness\n",
    "        print(\"\".join(melhor_individuo_ja_visto), \"- fitness:\", melhor_fitness_ja_visto)"
   ]
  },
  {
   "cell_type": "code",
   "execution_count": null,
   "metadata": {
    "tags": []
   },
   "outputs": [],
   "source": []
  },
  {
   "cell_type": "code",
   "execution_count": null,
   "metadata": {
    "tags": []
   },
   "outputs": [],
   "source": [
    "k = {1,2,3,3,3,4}\n",
    "k.add(5)\n",
    "print(k)\n",
    "print(len(set()))"
   ]
  },
  {
   "cell_type": "code",
   "execution_count": null,
   "metadata": {},
   "outputs": [],
   "source": [
    "populacao = cria_populacao_inicial(TAMANHO_POP, NUM_GENES,LETRAS_POSSIVEIS)\n",
    "#print(populacao)\n",
    "fitness = funcao_objetivo_pop(populacao)\n",
    "#print(\"população inicial: \")\n",
    "#print(populacao)\n",
    "    \n",
    "#while top_min(populacao, fitness, 10)[1] == False:\n",
    "for i in range(0,10):\n",
    "#while all(item != 0 for item in top_min(populacao,fitness,10)):\n",
    "    #Seleção\n",
    "    fitness = funcao_objetivo_pop(populacao) #gera o \"fitness\" de cada indivíduo\n",
    "    populacao = funcao_selecao(populacao, fitness) #seleciona individuos baseado em \"fitness\"\n",
    "    #print(populacao)\n",
    "    \n",
    "    #Cruzamento\n",
    "    pais = populacao[0::2] #seleção de indivíduos \"pais\" por meio de corte de lista e passo 2\n",
    "    maes = populacao[1::2] #seleção de indivíduos \"mães\" por meio de corte de lista e passo 2\n",
    "    contador = 0 #para posição de pai e mãe. Talvez \"pop\" fosse mais eficiente?\n",
    "    for pai, mae in zip(pais,maes): #o critério de parada de zip é a menor lista. aqui os tamanhos são iguais\n",
    "        if random.random() <= CHANCE_CRUZAMENTO: #se (número aleatório) < chance de cruzamento\n",
    "            #novos individuos\n",
    "            filho1, filho2 = funcao_cruzamento(pai,mae) #filhos gerados do cruzamento\n",
    "            populacao[contador] = filho1 #filho 1 substitui o \"pai\"\n",
    "            populacao[contador + 1] = filho2 #filho 2 substitui a \"mãe\"\n",
    "            \n",
    "        contador += 2 #atualiza o contador para pegar outros pais\n",
    "    #print(populacao)\n",
    "        \n",
    "        #Mutação\n",
    "    for n in range(len(populacao)):\n",
    "        if random.random() <= CHANCE_MUTACAO: #se (número aleatório) <= chance de ocorrer mutação\n",
    "            individuo = populacao[n] #pega o indivíduo no índice \"n\" da população\n",
    "            #print(populacao)\n",
    "            #print(populacao[n])\n",
    "            #print()\n",
    "            #print(individuo)\n",
    "            populacao[n] = funcao_mutacao(individuo) #aplica mutação no indivíduo\n",
    "            #print(populacao[n]) #print no indivíduo com mutação\n",
    "            #print()\n",
    "    top_min(populacao,fitness,10)\n",
    "\n",
    "#print(\"população final: \")\n",
    "#print(populacao)"
   ]
  },
  {
   "cell_type": "code",
   "execution_count": null,
   "metadata": {},
   "outputs": [],
   "source": [
    "funcao_objetivo_palindromo(['C','D','H','D','E'],VOGAIS)"
   ]
  },
  {
   "cell_type": "code",
   "execution_count": null,
   "metadata": {
    "tags": []
   },
   "outputs": [],
   "source": [
    "print('abc'[::-1])"
   ]
  },
  {
   "cell_type": "code",
   "execution_count": null,
   "metadata": {
    "tags": []
   },
   "outputs": [],
   "source": [
    "ind = ['b', 'a', 'a', 'b', 'b']\n",
    "ind = ''.join(ind)\n",
    "print([ind])"
   ]
  },
  {
   "cell_type": "code",
   "execution_count": null,
   "metadata": {},
   "outputs": [],
   "source": [
    "def top_min(populacao, fitness, numero):\n",
    "    '''Organiza um dicionário como um \"top\" de menor para maiores valores (de fitness) e dá output como os (numero) menores. \n",
    "\n",
    "    Nota: funciona para algoritmos de minimização\n",
    "\n",
    "    Args:\n",
    "      populacao: população do problema\n",
    "      fitness: lista de fitness\n",
    "      numero: tamanho do \"top\"\n",
    "      \n",
    "    Returns:\n",
    "     Lista com (numero) individuos de menor fitness\n",
    "\n",
    "'''\n",
    "    #print(fitness)\n",
    "    #print(populacao)\n",
    "    dictionary_no_duplicates = {}\n",
    "    #for k in range(0,len(populacao)):\n",
    "     #   populacao[k] = ''.join(populacao[k])\n",
    "    \n",
    "    dictionary = {populacao[i]:fitness[i] for i in range(len(populacao))}\n",
    "    \n",
    "    #return dictionary\n",
    "    \n",
    "    sort_dict = sorted(dictionary.items(), key=lambda x:x[1])\n",
    "    dictionary_sorted = dict(sort_dict)\n",
    "    #print(dictionary_sorted)\n",
    "\n",
    "    top = list(dictionary_sorted.items())[:5]\n",
    "    #print(dictionary_sorted.values())\n",
    "\n",
    "    return (f'top {numero}: {top}'), list(dictionary_sorted.values())[:5]"
   ]
  },
  {
   "cell_type": "code",
   "execution_count": null,
   "metadata": {},
   "outputs": [],
   "source": []
  },
  {
   "cell_type": "markdown",
   "metadata": {},
   "source": [
    "#### "
   ]
  }
 ],
 "metadata": {
  "kernelspec": {
   "display_name": "ilumpy",
   "language": "python",
   "name": "ilumpy"
  },
  "language_info": {
   "codemirror_mode": {
    "name": "ipython",
    "version": 3
   },
   "file_extension": ".py",
   "mimetype": "text/x-python",
   "name": "python",
   "nbconvert_exporter": "python",
   "pygments_lexer": "ipython3",
   "version": "3.9.7"
  },
  "org": null
 },
 "nbformat": 4,
 "nbformat_minor": 4
}
