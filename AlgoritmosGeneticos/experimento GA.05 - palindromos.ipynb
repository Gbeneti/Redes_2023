{
 "cells": [
  {
   "cell_type": "markdown",
   "metadata": {},
   "source": [
    "Escreva aqui o título do seu experimento\n",
    "========================================\n",
    "\n"
   ]
  },
  {
   "cell_type": "markdown",
   "metadata": {},
   "source": [
    "## Introdução\n",
    "\n"
   ]
  },
  {
   "cell_type": "markdown",
   "metadata": {},
   "source": [
    "Delete este texto e escreva uma breve introdução sobre seu experimento.\n",
    "\n"
   ]
  },
  {
   "cell_type": "markdown",
   "metadata": {},
   "source": [
    "## Objetivo\n",
    "\n"
   ]
  },
  {
   "cell_type": "markdown",
   "metadata": {},
   "source": [
    "**Objetivo**: Encontre pelo menos 10 palíndromos de 5 letras. Estes palíndromos devem ter pelo menos uma vogal. Não é necessário que eles formem palavras válidas em português ou qualquer outro idioma.\n",
    "\n"
   ]
  },
  {
   "cell_type": "markdown",
   "metadata": {},
   "source": [
    "## Importações\n",
    "\n"
   ]
  },
  {
   "cell_type": "markdown",
   "metadata": {},
   "source": [
    "Todos os comandos de `import` devem estar dentro desta seção.\n",
    "\n"
   ]
  },
  {
   "cell_type": "code",
   "execution_count": null,
   "metadata": {},
   "outputs": [],
   "source": [
    "from funcoes import populacao_inicial_senha\n",
    "from funcoes import funcao_objetivo_pop_senha\n",
    "from funcoes import selecao_torneio_min\n",
    "from funcoes import cruzamento_ponto_simples as funcao_cruzamento\n",
    "from funcoes import mutacao_senha\n",
    "import random"
   ]
  },
  {
   "cell_type": "markdown",
   "metadata": {},
   "source": [
    "## Códigos e discussão\n",
    "\n"
   ]
  },
  {
   "cell_type": "markdown",
   "metadata": {},
   "source": [
    "-   Use células de código para o código.\n",
    "\n",
    "-   Use células de texto para a discussão.\n",
    "\n",
    "-   A discussão não deve ser feita em comentários dentro das células de código. Toda discussão deve acontecer após o resultado sendo discutido foi apresentado. Exemplo: não discuta um gráfico antes de apresentá-lo.\n",
    "\n"
   ]
  },
  {
   "cell_type": "code",
   "execution_count": null,
   "metadata": {},
   "outputs": [],
   "source": [
    "### CONSTANTES\n",
    "\n",
    "# relacionadas à busca\n",
    "TAMANHO_POP = 5\n",
    "CHANCE_CRUZAMENTO = 0.5\n",
    "CHANCE_MUTACAO = 0.05\n",
    "NUM_COMBATENTES_NO_TORNEIO = 3\n",
    "\n",
    "# relacionadas ao problema a ser resulvido\n",
    "#PALAVRA = \"abcba\"\n",
    "LETRAS_POSSIVEIS = \"abcba\"\n",
    "NUM_GENES = len(PALAVRA)"
   ]
  },
  {
   "cell_type": "code",
   "execution_count": null,
   "metadata": {},
   "outputs": [],
   "source": [
    "def gene_letra(letras):\n",
    "    \"\"\"Sorteia uma letra.\n",
    "\n",
    "    Args:\n",
    "      letras: letras possíveis de serem sorteadas.\n",
    "\n",
    "    Return:\n",
    "      Retorna uma letra dentro das possíveis de serem sorteadas.\n",
    "    \"\"\"\n",
    "    letra = random.choice(letras) #seleciona aleatoriamente uma letra do input \n",
    "    return letra\n"
   ]
  },
  {
   "cell_type": "code",
   "execution_count": null,
   "metadata": {},
   "outputs": [],
   "source": [
    "def individuo_senha(tamanho_senha, letras):\n",
    "    \"\"\"Cria um candidato para o problema da senha\n",
    "\n",
    "    Args:\n",
    "      tamanho_senha: inteiro representando o tamanho da senha.\n",
    "      letras: letras possíveis de serem sorteadas.\n",
    "\n",
    "    Return:\n",
    "      Lista com n letras\n",
    "    \"\"\"\n",
    "\n",
    "    candidato = [] #lista com o candidato\n",
    "\n",
    "    for n in range(tamanho_senha):\n",
    "        candidato.append(gene_letra(letras)) #cria um individuo com um len == n\n",
    "\n",
    "    return candidato\n"
   ]
  },
  {
   "cell_type": "code",
   "execution_count": null,
   "metadata": {},
   "outputs": [],
   "source": [
    "def populacao_inicial_senha(tamanho, tamanho_senha, letras):\n",
    "    \"\"\"Cria população inicial no problema da senha\n",
    "\n",
    "    Args\n",
    "      tamanho: tamanho da população.\n",
    "      tamanho_senha: inteiro representando o tamanho da senha.\n",
    "      letras: letras possíveis de serem sorteadas.\n",
    "\n",
    "    Returns:\n",
    "      Lista com todos os indivíduos da população no problema da senha.\n",
    "    \"\"\"\n",
    "    populacao = []\n",
    "    for n in range(tamanho):\n",
    "        populacao.append(individuo_senha(tamanho_senha, letras)) #cria uma lista de listas como populacao (senhas)\n",
    "    return populacao\n"
   ]
  },
  {
   "cell_type": "code",
   "execution_count": null,
   "metadata": {},
   "outputs": [],
   "source": [
    "def funcao_objetivo_senha(individuo, senha_verdadeira):\n",
    "    \"\"\"Computa a funcao objetivo de um individuo no problema da senha\n",
    "\n",
    "    Args:\n",
    "      individiuo: lista contendo as letras da senha\n",
    "      senha_verdadeira: a senha que você está tentando descobrir\n",
    "\n",
    "    Returns:\n",
    "      A \"distância\" entre a senha proposta e a senha verdadeira. Essa distância\n",
    "      é medida letra por letra. Quanto mais distante uma letra for da que\n",
    "      deveria ser, maior é essa distância.\n",
    "    \"\"\"\n"
   ]
  },
  {
   "cell_type": "code",
   "execution_count": null,
   "metadata": {},
   "outputs": [],
   "source": [
    "def funcao_fitness_individuo(individuo):\n",
    "    fitness = 0\n",
    "    if individuo == individuo.reverse():\n",
    "        fitness = 0         \n",
    "        \n",
    "    if \"a\" not in individuo:\n",
    "        fitness = fitness+1000\n",
    "        \n",
    "        for i in range(len(individuo)):\n",
    "            if individuo[0+i] == individuo[-1-i]:\n",
    "                fitness += 10\n",
    "                \n",
    "        return fitness"
   ]
  },
  {
   "cell_type": "code",
   "execution_count": null,
   "metadata": {},
   "outputs": [],
   "source": [
    "def checa_palindromo_selecionar(individuo): #seleciona o individuo\n",
    "    if individuo == individuo.reverse() #pega o inverso"
   ]
  },
  {
   "cell_type": "code",
   "execution_count": null,
   "metadata": {},
   "outputs": [],
   "source": [
    "populacao = cria_populacao_inicial(TAMANHO_POP, NUM_GENES)\n",
    "print(\"população inicial: \")\n",
    "print(populacao)\n",
    "    \n",
    "for n in range(0,NUM_GERACOES,1):\n",
    "    #Seleção\n",
    "    fitness = funcao_objetivo_pop(populacao) #gera o \"fitness\" de cada indivíduo\n",
    "    populacao = funcao_selecao(populacao, fitness) #seleciona individuos baseado em \"fitness\"\n",
    "    \n",
    "    #Cruzamento\n",
    "    pais = populacao[0::2] #seleção de indivíduos \"pais\" por meio de corte de lista e passo 2\n",
    "    maes = populacao[1::2] #seleção de indivíduos \"mães\" por meio de corte de lista e passo 2\n",
    "    contador = 0 #para posição de pai e mãe. Talvez \"pop\" fosse mais eficiente?\n",
    "    for pai, mae in zip(pais,maes): #o critério de parada de zip é a menor lista. aqui os tamanhos são iguais\n",
    "        if random.random() <= CHANCE_CRUZAMENTO: #se (número aleatório) < chance de cruzamento\n",
    "            #novos individuos\n",
    "            filho1, filho2 = funcao_cruzamento(pai,mae) #filhos gerados do cruzamento\n",
    "            populacao[contador] = filho1 #filho 1 substitui o \"pai\"\n",
    "            populacao[contador + 1] = filho2 #filho 2 substitui a \"mãe\"\n",
    "            \n",
    "        contador += 2 #atualiza o contador para pegar outros pais\n",
    "        \n",
    "        #Mutação\n",
    "    for n in range(len(populacao)):\n",
    "        if random.random() <= CHANCE_MUTACAO: #se (número aleatório) <= chance de ocorrer mutação\n",
    "            individuo = populacao[n] #pega o indivíduo no índice \"n\" da população\n",
    "            #print()\n",
    "            #print(individuo)\n",
    "            populacao[n] = funcao_mutacao(individuo) #aplica mutação no indivíduo\n",
    "            #print(populacao[n]) #print no indivíduo com mutação\n",
    "            #print()\n",
    "            \n",
    "print(\"população final: \")\n",
    "print(populacao)"
   ]
  },
  {
   "cell_type": "markdown",
   "metadata": {},
   "source": [
    "## Conclusão\n",
    "\n"
   ]
  },
  {
   "cell_type": "markdown",
   "metadata": {},
   "source": [
    "Delete este texto e escreva sua conclusão.\n",
    "\n"
   ]
  },
  {
   "cell_type": "markdown",
   "metadata": {},
   "source": [
    "## Referências consultadas\n",
    "\n"
   ]
  },
  {
   "cell_type": "markdown",
   "metadata": {},
   "source": [
    "1.  Delete este texto e inclua suas referências ordenadas numericamente. Se for referenciar no notebook, use o número entre colchetes (exemplo: para citar essa referência aqui escreva &ldquo;[1]&rdquo; sem as áspas).\n",
    "\n",
    "2.  Cada item deve ser numerado. Siga o padrão apresentado.\n",
    "\n",
    "3.  Caso não tenha nenhuma referência consultada, delete esta seção e o texto contido nela!\n",
    "\n"
   ]
  },
  {
   "cell_type": "markdown",
   "metadata": {},
   "source": [
    "## Playground\n",
    "\n"
   ]
  },
  {
   "cell_type": "markdown",
   "metadata": {},
   "source": [
    "Todo código de teste que não faz parte do seu experimento deve vir aqui. Este código não será considerado na avaliação.\n",
    "\n"
   ]
  },
  {
   "cell_type": "code",
   "execution_count": null,
   "metadata": {},
   "outputs": [],
   "source": []
  }
 ],
 "metadata": {
  "kernelspec": {
   "display_name": "ilumpy",
   "language": "python",
   "name": "ilumpy"
  },
  "language_info": {
   "codemirror_mode": {
    "name": "ipython",
    "version": 3
   },
   "file_extension": ".py",
   "mimetype": "text/x-python",
   "name": "python",
   "nbconvert_exporter": "python",
   "pygments_lexer": "ipython3",
   "version": "3.9.7"
  },
  "org": null
 },
 "nbformat": 4,
 "nbformat_minor": 4
}
